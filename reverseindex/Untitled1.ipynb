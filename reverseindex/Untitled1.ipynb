{
 "cells": [
  {
   "cell_type": "code",
   "execution_count": null,
   "metadata": {},
   "outputs": [],
   "source": [
    "from pymongo import MongoClient\n",
    "import json\n",
    "import csv\n",
    "from bson import json_util\n",
    "from collections import defaultdict\n",
    "import sys\n",
    "import Preprocessor"
   ]
  },
  {
   "cell_type": "code",
   "execution_count": null,
   "metadata": {},
   "outputs": [],
   "source": [
    "preprocessor = Preprocessor.Preprocessor()\n",
    "client = MongoClient(\"localhost\")\n",
    "db = client.crawlerdb_WORK_TFIDF\n",
    "collection = db.crawlerdb"
   ]
  },
  {
   "cell_type": "code",
   "execution_count": null,
   "metadata": {},
   "outputs": [],
   "source": [
    "#Returns cursor with all documents, can be iterated\n",
    "cursor = collection.find({},{ \"_id\": 1, \"text\": 1})\n",
    "ergebDict = defaultdict(list)"
   ]
  },
  {
   "cell_type": "code",
   "execution_count": null,
   "metadata": {},
   "outputs": [],
   "source": [
    "#Iterate through all documents\n",
    " for doc in cursor:\n",
    "    beforeTokenize = doc['text'].lower()\n",
    "    withTokenize = preprocessor.tokenizing_complete(beforeTokenize)\n",
    "    withStemming = preprocessor.stemming_words(withTokenize)\n",
    "\n",
    "#    for j in withStemming:\n",
    "#       ergebDict[j].append(doc['_id'])\n",
    "# #Push data to mongoDB   \n",
    "# collection.insert(ergebDict)"
   ]
  }
 ],
 "metadata": {
  "kernelspec": {
   "display_name": "Python 3",
   "language": "python",
   "name": "python3"
  },
  "language_info": {
   "codemirror_mode": {
    "name": "ipython",
    "version": 3
   },
   "file_extension": ".py",
   "mimetype": "text/x-python",
   "name": "python",
   "nbconvert_exporter": "python",
   "pygments_lexer": "ipython3",
   "version": "3.6.7"
  }
 },
 "nbformat": 4,
 "nbformat_minor": 2
}
