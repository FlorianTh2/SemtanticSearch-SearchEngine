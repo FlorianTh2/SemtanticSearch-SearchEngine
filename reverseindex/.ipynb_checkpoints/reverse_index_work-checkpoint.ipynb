{
 "cells": [
  {
   "cell_type": "code",
   "execution_count": 1,
   "metadata": {},
   "outputs": [],
   "source": [
    "from pymongo import MongoClient\n",
    "import json\n",
    "import csv\n",
    "from bson import json_util\n",
    "from collections import defaultdict\n",
    "import sys\n",
    "import Preprocessor "
   ]
  },
  {
   "cell_type": "code",
   "execution_count": 2,
   "metadata": {},
   "outputs": [],
   "source": [
    "preprocessor = Preprocessor.Preprocessor()"
   ]
  },
  {
   "cell_type": "code",
   "execution_count": 3,
   "metadata": {},
   "outputs": [],
   "source": [
    "client = MongoClient(\"localhost\")\n",
    "db = client.crawlerdb_WORK_TFIDF\n",
    "collection = db.crawlerdb\n",
    "\n",
    "client_TO = MongoClient(\"localhost\")\n",
    "db_TO = client_TO.crawlerdb_WORK_TFIDF\n",
    "collection_TO = db_TO.crawlerdb_INVERSE_INDEX"
   ]
  },
  {
   "cell_type": "code",
   "execution_count": 4,
   "metadata": {},
   "outputs": [
    {
     "data": {
      "text/plain": [
       "{}"
      ]
     },
     "execution_count": 4,
     "metadata": {},
     "output_type": "execute_result"
    }
   ],
   "source": [
    "#Returns cursor with all documents, can be iterated\n",
    "cursor = collection.find({},{ \"_id\": 1, \"text\": 1})\n",
    "ergebDict = {}\n",
    "ergebDict"
   ]
  },
  {
   "cell_type": "code",
   "execution_count": 5,
   "metadata": {},
   "outputs": [
    {
     "name": "stdout",
     "output_type": "stream",
     "text": [
      "hi\n"
     ]
    }
   ],
   "source": [
    "#Iterate through all documents\n",
    "for doc in cursor:\n",
    "    try:\n",
    "        beforeTokenize = doc['text'].lower()\n",
    "        withTokenize = preprocessor.tokenizing_complete(beforeTokenize) #with tokenize == liste\n",
    "        withStemming = preprocessor.stemming_words(withTokenize)\n",
    "    except KeyError:\n",
    "        pass\n",
    "    for j in withStemming:\n",
    "        try:\n",
    "            if j in ergebDict and ergebDict[j] != None:\n",
    "                ergebDict[j] = ergebDict[j].append(str(doc[\"_id\"]))\n",
    "            else:\n",
    "                ergebDict[j] = list()\n",
    "                ergebDict[j].append(str(doc[\"_id\"]))\n",
    "        except TypeError:\n",
    "            pass\n",
    "print(\"hi\")\n"
   ]
  },
  {
   "cell_type": "code",
   "execution_count": 6,
   "metadata": {},
   "outputs": [
    {
     "data": {
      "text/plain": [
       "<pymongo.results.InsertOneResult at 0x7f7e38bcac08>"
      ]
     },
     "execution_count": 6,
     "metadata": {},
     "output_type": "execute_result"
    }
   ],
   "source": [
    "collection_TO.insert_one(ergebDict)"
   ]
  },
  {
   "cell_type": "code",
   "execution_count": 7,
   "metadata": {},
   "outputs": [
    {
     "data": {
      "text/plain": [
       "dict"
      ]
     },
     "execution_count": 7,
     "metadata": {},
     "output_type": "execute_result"
    }
   ],
   "source": [
    "type(ergebDict)"
   ]
  },
  {
   "cell_type": "code",
   "execution_count": null,
   "metadata": {},
   "outputs": [],
   "source": []
  }
 ],
 "metadata": {
  "kernelspec": {
   "display_name": "Python 3",
   "language": "python",
   "name": "python3"
  },
  "language_info": {
   "codemirror_mode": {
    "name": "ipython",
    "version": 3
   },
   "file_extension": ".py",
   "mimetype": "text/x-python",
   "name": "python",
   "nbconvert_exporter": "python",
   "pygments_lexer": "ipython3",
   "version": "3.7.1"
  }
 },
 "nbformat": 4,
 "nbformat_minor": 2
}
