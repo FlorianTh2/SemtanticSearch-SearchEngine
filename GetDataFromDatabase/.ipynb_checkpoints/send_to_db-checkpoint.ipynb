{
 "cells": [
  {
   "cell_type": "code",
   "execution_count": 83,
   "metadata": {},
   "outputs": [],
   "source": [
    "from pymongo import MongoClient\n",
    "from random import randint\n",
    "import json\n",
    "from bson import json_util"
   ]
  },
  {
   "cell_type": "code",
   "execution_count": 84,
   "metadata": {},
   "outputs": [],
   "source": [
    "client = MongoClient(\"192.168.2.166:30003\")\n",
    "db=client.crawl_database_1 # crawl_database_1 is the db name"
   ]
  },
  {
   "cell_type": "code",
   "execution_count": 85,
   "metadata": {},
   "outputs": [],
   "source": [
    "json_data = json.dumps({\"first_name\":\"Heins\", \"last_name\": \"Kranz\"}) # returned 1 json-object filled with given values"
   ]
  },
  {
   "cell_type": "code",
   "execution_count": 86,
   "metadata": {},
   "outputs": [],
   "source": [
    "def get_documents(number):\n",
    "    list_documents = []\n",
    "    for i in range(number):\n",
    "        first_name = \"heinz\" + str(i)\n",
    "        last_name = \"Kranz\" + str(i)\n",
    "        list_documents.append({\"first_name\":first_name, \"last_name\":last_name})\n",
    "    return list_documents"
   ]
  },
  {
   "cell_type": "code",
   "execution_count": 87,
   "metadata": {},
   "outputs": [],
   "source": [
    "# use if you have json-object\n",
    "# data = json_util.loads(json_data)"
   ]
  },
  {
   "cell_type": "code",
   "execution_count": 88,
   "metadata": {},
   "outputs": [],
   "source": [
    "list_documents = get_documents(10000)\n",
    "#result1 = db.persons.insert_one(data)\n",
    "result2= db.persons.insert_many(list_documents)"
   ]
  }
 ],
 "metadata": {
  "kernelspec": {
   "display_name": "Python 3",
   "language": "python",
   "name": "python3"
  },
  "language_info": {
   "codemirror_mode": {
    "name": "ipython",
    "version": 3
   },
   "file_extension": ".py",
   "mimetype": "text/x-python",
   "name": "python",
   "nbconvert_exporter": "python",
   "pygments_lexer": "ipython3",
   "version": "3.7.1"
  }
 },
 "nbformat": 4,
 "nbformat_minor": 2
}
