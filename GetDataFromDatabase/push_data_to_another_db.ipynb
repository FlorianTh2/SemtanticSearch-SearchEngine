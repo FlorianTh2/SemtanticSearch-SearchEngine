{
 "cells": [
  {
   "cell_type": "code",
   "execution_count": 1,
   "metadata": {},
   "outputs": [],
   "source": [
    "from pymongo import MongoClient\n",
    "import json\n",
    "from bson import json_util"
   ]
  },
  {
   "cell_type": "code",
   "execution_count": 2,
   "metadata": {},
   "outputs": [],
   "source": [
    "#client = MongoClient(\"192.168.2.166:30003\")\n",
    "client_FROM = MongoClient(\"127.0.0.1:28000\")\n",
    "db_FROM=client_FROM.crawlerdb_BACKUP # crawl_database_1 is the db name"
   ]
  },
  {
   "cell_type": "code",
   "execution_count": 3,
   "metadata": {},
   "outputs": [],
   "source": [
    "client_TO = MongoClient(\"localhost\")\n",
    "#client_TO = MongoClient(\"127.0.0.1:27017\")\n",
    "db_TO = client_TO.crawlerdb_WORK_TFIDF_2 # crawl_database_1 is the db name"
   ]
  },
  {
   "cell_type": "code",
   "execution_count": 4,
   "metadata": {},
   "outputs": [],
   "source": [
    "for i in db_FROM.crawlerdb_BACKUP.find({}):\n",
    "    db_TO.crawlerdb.insert_one(i)"
   ]
  },
  {
   "cell_type": "code",
   "execution_count": null,
   "metadata": {},
   "outputs": [],
   "source": []
  }
 ],
 "metadata": {
  "kernelspec": {
   "display_name": "Python 3",
   "language": "python",
   "name": "python3"
  },
  "language_info": {
   "codemirror_mode": {
    "name": "ipython",
    "version": 3
   },
   "file_extension": ".py",
   "mimetype": "text/x-python",
   "name": "python",
   "nbconvert_exporter": "python",
   "pygments_lexer": "ipython3",
   "version": "3.7.1"
  }
 },
 "nbformat": 4,
 "nbformat_minor": 2
}
