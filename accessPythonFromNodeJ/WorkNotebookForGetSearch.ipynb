{
 "cells": [
  {
   "cell_type": "code",
   "execution_count": 13,
   "metadata": {},
   "outputs": [],
   "source": [
    "import zerorpc\n",
    "from pymongo import MongoClient\n",
    "import json\n",
    "from bson import json_util\n",
    "import random\n",
    "from SearchModule import Search"
   ]
  },
  {
   "cell_type": "code",
   "execution_count": 14,
   "metadata": {},
   "outputs": [],
   "source": [
    "DBMongo = MongoClient(\"127.0.0.1:27017\").crawlerdb_WORK_TFIDF_3\n",
    "collectionMongo = DBMongo.crawlerdb"
   ]
  },
  {
   "cell_type": "code",
   "execution_count": 15,
   "metadata": {},
   "outputs": [
    {
     "name": "stdout",
     "output_type": "stream",
     "text": [
      "We got  37821  Documents\n",
      "We still have  37821  Documents\n"
     ]
    }
   ],
   "source": [
    "#search = Search(DBMongo)"
   ]
  },
  {
   "cell_type": "code",
   "execution_count": 16,
   "metadata": {},
   "outputs": [],
   "source": [
    "def get_results(searchString,dateFROM,dateTO):\n",
    "        #print(searchString) # e.g. halloIch bin ein Suchstring\n",
    "        # AUFPASSEN: DAS DATE IN DEN GESPEICHERTEN RECORDS IST IM FORMAT: e.g. \"24.12.2018\"\n",
    "        #print(dateFROM) # e.g. \"Tue Jan 08 2019 12:00:00 GMT+0100 (Central European Standard Time)\" \n",
    "        # wenn nicht vorhanden: None (darauf muss geprüft werden)\n",
    "        #print(dateTO) # e.g. \"Tue Jan 08 2019 12:00:00 GMT+0100 (Central European Standard Time)\"\n",
    "        \n",
    "        # data muss eine liste / Array sein (kann geändert werden, erfordert aber eine Änderung im Backend)\n",
    "        #data = search.get_search_results(searchString)\n",
    "        \n",
    "        data = list(collectionMongo.find({}).limit(5))#[random.randint(0, 10)]]\n",
    "        \n",
    "        output = {\"data\": data, \"neuesBeispielAttribut\": \"neuBeispiel\"}\n",
    "        \n",
    "        \n",
    "        \n",
    "        \n",
    "        \n",
    "        # data muss eine liste / Array sein (kann geändert werden, erfordert aber eine Änderung im Backend)\n",
    "        # der return sollte vielleicht auf maximal 20 Elemente beschränkt sein\n",
    "        return json.dumps(output, sort_keys=True, ensure_ascii=False, indent=4, default=json_util.default)"
   ]
  },
  {
   "cell_type": "code",
   "execution_count": 18,
   "metadata": {},
   "outputs": [
    {
     "name": "stdout",
     "output_type": "stream",
     "text": [
      "milch\n",
      "We have the following number of important selected documents for example from inverse index:  1\n",
      "We have  56794  diffrent words\n"
     ]
    },
    {
     "data": {
      "text/plain": [
       "'{\\n    \"data\": [\\n        {\\n            \"_id\": {\\n                \"$oid\": \"5c30642c88df4228e78685d3\"\\n            },\\n            \"cossim\": 0.29635487236247227,\\n            \"date\": \"13.06.2017\",\\n            \"location\": \"Landeshauptstadt Potsdam, Geschwister Scholl- Straße\",\\n            \"number\": \"655797\",\\n            \"text\": \"Da aus einer Wohnung in der Geschwister-Scholl-Straße Brandgeruch wahrgenommen wurde, wurden Polizei und Feuerwehr alarmiert. Wie sich herausstellte, hatte ein Topf mit Milch auf dem Herd angefangen zu qualmen. Zwei Personen aus der Wohnung wurden vorsorglich in einem Rettungswagen versorgt. Sie blieben glücklicherweise unverletzt. Die Wohnung wurde durch die Feuerwehr wieder freigegeben.\",\\n            \"title\": \"Brandgeruch löste Polizei- und Feuerwehreinsatz aus\"\\n        }\\n    ],\\n    \"neuesBeispielAttribut\": \"neuBeispiel\"\\n}'"
      ]
     },
     "execution_count": 18,
     "metadata": {},
     "output_type": "execute_result"
    }
   ],
   "source": [
    "get_results(\"milch\", \"Tue Jan 08 2019 12:00:00 GMT+0100\", \"Tue Jan 09 2019 12:00:00 GMT+0100\")"
   ]
  },
  {
   "cell_type": "code",
   "execution_count": null,
   "metadata": {},
   "outputs": [],
   "source": []
  }
 ],
 "metadata": {
  "kernelspec": {
   "display_name": "Python 3",
   "language": "python",
   "name": "python3"
  },
  "language_info": {
   "codemirror_mode": {
    "name": "ipython",
    "version": 3
   },
   "file_extension": ".py",
   "mimetype": "text/x-python",
   "name": "python",
   "nbconvert_exporter": "python",
   "pygments_lexer": "ipython3",
   "version": "3.7.1"
  }
 },
 "nbformat": 4,
 "nbformat_minor": 2
}
