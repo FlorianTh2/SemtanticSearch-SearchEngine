{
 "cells": [
  {
   "cell_type": "code",
   "execution_count": 10,
   "metadata": {},
   "outputs": [],
   "source": [
    "import zerorpc\n",
    "from pymongo import MongoClient\n",
    "import json\n",
    "from bson import json_util\n",
    "import random"
   ]
  },
  {
   "cell_type": "code",
   "execution_count": 11,
   "metadata": {},
   "outputs": [],
   "source": [
    "collectionMongo = MongoClient(\"127.0.0.1:27017\").crawlerdb.crawlerdb"
   ]
  },
  {
   "cell_type": "code",
   "execution_count": 12,
   "metadata": {},
   "outputs": [],
   "source": [
    "def get_results(searchString,dateFROM,dateTO):\n",
    "        #print(searchString) # e.g. halloIch bin ein Suchstring\n",
    "        # AUFPASSEN: DAS DATE IN DEN GESPEICHERTEN RECORDS IST IM FORMAT: e.g. \"24.12.2018\"\n",
    "        #print(dateFROM) # e.g. \"Tue Jan 08 2019 12:00:00 GMT+0100 (Central European Standard Time)\" \n",
    "        # wenn nicht vorhanden: None (darauf muss geprüft werden)\n",
    "        #print(dateTO) # e.g. \"Tue Jan 08 2019 12:00:00 GMT+0100 (Central European Standard Time)\"\n",
    "        \n",
    "        \n",
    "        \n",
    "        data = list(collectionMongo.find({}).limit(5))#[random.randint(0, 10)]]\n",
    "        \n",
    "        output = {\"data\": data, \"neuesAttribut\": \"neu\"}\n",
    "        \n",
    "        \n",
    "        \n",
    "        \n",
    "        \n",
    "        # data muss eine liste / Array sein (kann geändert werden, erfordert aber eine Änderung im Backend)\n",
    "        # der return sollte vielleicht auf maximal 20 Elemente beschränkt sein\n",
    "        return json.dumps(output, sort_keys=True, ensure_ascii=False, indent=4, default=json_util.default)"
   ]
  },
  {
   "cell_type": "code",
   "execution_count": 13,
   "metadata": {},
   "outputs": [
    {
     "data": {
      "text/plain": [
       "'{\\n    \"data\": [\\n        {\\n            \"_id\": {\\n                \"$oid\": \"5c2f0edf7faca31e7115715c\"\\n            },\\n            \"date\": \"27.06.2017\",\\n            \"location\": \"Mitte\",\\n            \"number\": [\\n                \"Nr. 1431\",\\n                \"\"\\n            ],\\n            \"text\": \"In der Nacht kam es in Mitte zu einer Auseinandersetzung zwischen mehreren Personen, bei der drei Männer verletzt wurden. Ersten Ermittlungen zufolge sollen sich die drei Verletzten, im Alter von 18, 20 und 21 Jahren, gemeinsam mit Freunden und ihnen Unbekannten gegen Mitternacht am Neptunbrunnen in der Spandauer Straße aufgehalten haben. Plötzlich habe ein Unbekannter eine Glasfasche geworfen, die jedoch niemanden traf. Daraufhin sei es zu einem Handgemenge gekommen, in dessen Verlauf zwei Männer Reizgas versprühten. Die beiden 18 und 20 Jahre alten Männer erlitten leichte Augenreizungen, die zum Teil ambulant von alarmierten Rettungskräften behandelt wurden. Im Zuge der Anzeigenaufnahme erfuhren die Beamten, dass unter der Liebknechtbrücke der 21-Jährige liege, der eine Schnittwunde aufwies. Diese habe er von einem ihm namentlich nicht bekannten Mann im Anschluss an das Handgemenge mit einem Messer zugefügt bekommen. Rettungskräfte brachten den Schwerverletzten zur\\\\n    stationären Behandlung in eine Klinik. Die genauen Hintergründe der Tat sind nun Teil der Ermittlungen, die die Kriminalpolizei der Direktion 3 führt.\",\\n            \"title\": \"Ein Schwerverletzter und zwei Leichtverletzte bei Auseinandersetzung\"\\n        },\\n        {\\n            \"_id\": {\\n                \"$oid\": \"5c2f0edf7faca31e7115715d\"\\n            },\\n            \"date\": \"17.07.2017\",\\n            \"location\": \"Osten\",\\n            \"number\": [\\n                \"Nr. 1430\",\\n                \"\"\\n            ],\\n            \"text\": \"Während des Tages kam es in Mitte zu einer Auseinandersetzung zwischen mehreren Personen, bei der drei Männer verletzt wurden. Ersten Ermittlungen zufolge sollen sich die drei Verletzten, im Alter von 18, 20 und 21 Jahren, gemeinsam mit Freunden und ihnen Unbekannten gegen Mitternacht am Neptunbrunnen in der Spandauer Straße aufgehalten haben. Plötzlich habe ein Unbekannter eine Glasfasche geworfen, die jedoch niemanden traf. Daraufhin sei es zu einem Handgemenge gekommen, in dessen Verlauf zwei Männer Reizgas versprühten. Die beiden 18 und 20 Jahre alten Männer erlitten leichte Augenreizungen, die zum Teil ambulant von alarmierten Rettungskräften behandelt wurden. Im Zuge der Anzeigenaufnahme erfuhren die Beamten, dass unter der Liebknechtbrücke der 21-Jährige liege, der eine Schnittwunde aufwies. Diese habe er von einem ihm namentlich nicht bekannten Mann im Anschluss an das Handgemenge mit einem Messer zugefügt bekommen. Rettungskräfte brachten den Schwerverletzten zur\\\\n    stationären Behandlung in eine Klinik. Die genauen Hintergründe der Tat sind nun Teil der Ermittlungen, die die Kriminalpolizei der Direktion 3 führt.\",\\n            \"title\": \"Ein Krankenwagenunfall\"\\n        },\\n        {\\n            \"_id\": {\\n                \"$oid\": \"5c2f0edf7faca31e7115715e\"\\n            },\\n            \"date\": \"16.07.2017\",\\n            \"location\": \"Westen\",\\n            \"number\": [\\n                \"Nr. 1432\",\\n                \"1430\"\\n            ],\\n            \"text\": \"Während des Tages kam es in Mitte zu einem Konflikt zwischen mehreren Personen, bei der drei Männer verletzt wurden. Ersten Ermittlungen zufolge sollen sich die drei Verletzten, im Alter von 18, 20 und 21 Jahren, gemeinsam mit Freunden und ihnen Unbekannten gegen Mitternacht am Neptunbrunnen in der Spandauer Straße aufgehalten haben. Plötzlich habe ein Unbekannter eine Glasfasche geworfen, die jedoch niemanden traf. Daraufhin sei es zu einem Handgemenge gekommen, in dessen Verlauf zwei Männer Reizgas versprühten. Die beiden 18 und 20 Jahre alten Männer erlitten leichte Augenreizungen, die zum Teil ambulant von alarmierten Rettungskräften behandelt wurden. Im Zuge der Anzeigenaufnahme erfuhren die Beamten, dass unter der Liebknechtbrücke der 21-Jährige liege, der eine Schnittwunde aufwies. Diese habe er von einem ihm namentlich nicht bekannten Mann im Anschluss an das Handgemenge mit einem Messer zugefügt bekommen. Rettungskräfte brachten den Schwerverletzten zur\\\\n    stationären Behandlung in eine Klinik. Die genauen Hintergründe der Tat sind nun Teil der Ermittlungen, die die Kriminalpolizei der Direktion 3 führt.\",\\n            \"title\": \"Feuer in einem Haus\"\\n        },\\n        {\\n            \"_id\": {\\n                \"$oid\": \"5c2f0edf7faca31e7115715f\"\\n            },\\n            \"date\": \"17.07.2017\",\\n            \"location\": \"Westen\",\\n            \"number\": [\\n                \"Nr. 1428\",\\n                \"\"\\n            ],\\n            \"text\": \"Während des Tages kam es in Mitte zu einem Konflikt zwischen einer Person, bei der 4 Männer verletzt wurden. Ersten Ermittlungen zufolge sollen sich die drei Verletzten, im Alter von 18, 20 und 21 Jahren, gemeinsam mit Freunden und ihnen Unbekannten gegen Mitternacht am Neptunbrunnen in der Spandauer Straße aufgehalten haben. Plötzlich habe ein Unbekannter eine Glasfasche geworfen, die jedoch niemanden traf. Daraufhin sei es zu einem Handgemenge gekommen, in dessen Verlauf zwei Männer Reizgas versprühten. Die beiden 18 und 20 Jahre alten Männer erlitten leichte Augenreizungen, die zum Teil ambulant von alarmierten Rettungskräften behandelt wurden. Im Zuge der Anzeigenaufnahme erfuhren die Beamten, dass unter der Liebknechtbrücke der 21-Jährige liege, der eine Schnittwunde aufwies. Diese habe er von einem ihm namentlich nicht bekannten Mann im Anschluss an das Handgemenge mit einem Messer zugefügt bekommen. Rettungskräfte brachten den Schwerverletzten zur\\\\n    stationären Behandlung in eine Klinik. Die genauen Hintergründe der Tat sind nun Teil der Ermittlungen, die die Kriminalpolizei der Direktion 3 führt.\",\\n            \"title\": \"Feuer in einem Haus\"\\n        },\\n        {\\n            \"_id\": {\\n                \"$oid\": \"5c2f0edf7faca31e71157160\"\\n            },\\n            \"date\": \"15.07.2017\",\\n            \"location\": \"Norden\",\\n            \"number\": [\\n                \"Nr. 1427\",\\n                \"\"\\n            ],\\n            \"text\": \"Während des Tages kam es in Mitte zu einem Konflikt zwischen einer Person, bei der 4 Männer verwunded wurden. Ersten Ermittlungen zufolge sollen sich die drei Verletzten, im Alter von 18, 20 und 21 Jahren, gemeinsam mit Freunden und ihnen Unbekannten gegen Mitternacht am Neptunbrunnen in der Spandauer Straße aufgehalten haben. Plötzlich habe ein Unbekannter eine Glasfasche geworfen, die jedoch niemanden traf. Daraufhin sei es zu einem Handgemenge gekommen, in dessen Verlauf zwei Männer Reizgas versprühten. Die beiden 18 und 20 Jahre alten Männer erlitten leichte Augenreizungen, die zum Teil ambulant von alarmierten Rettungskräften behandelt wurden. Im Zuge der Anzeigenaufnahme erfuhren die Beamten, dass unter der Liebknechtbrücke der 21-Jährige liege, der eine Schnittwunde aufwies. Diese habe er von einem ihm namentlich nicht bekannten Mann im Anschluss an das Handgemenge mit einem Messer zugefügt bekommen. Rettungskräfte brachten den Schwerverletzten zur\\\\n    stationären Behandlung in eine Klinik. Die genauen Hintergründe der Tat sind nun Teil der Ermittlungen, die die Kriminalpolizei der Direktion 3 führt.\",\\n            \"title\": \"Feuer in einem Haus\"\\n        }\\n    ],\\n    \"neuerAttribut\": \"neu\"\\n}'"
      ]
     },
     "execution_count": 13,
     "metadata": {},
     "output_type": "execute_result"
    }
   ],
   "source": [
    "get_results(\"mein Such String\", \"Tue Jan 08 2019 12:00:00 GMT+0100\", \"Tue Jan 09 2019 12:00:00 GMT+0100\")"
   ]
  },
  {
   "cell_type": "code",
   "execution_count": null,
   "metadata": {},
   "outputs": [],
   "source": []
  }
 ],
 "metadata": {
  "kernelspec": {
   "display_name": "Python 3",
   "language": "python",
   "name": "python3"
  },
  "language_info": {
   "codemirror_mode": {
    "name": "ipython",
    "version": 3
   },
   "file_extension": ".py",
   "mimetype": "text/x-python",
   "name": "python",
   "nbconvert_exporter": "python",
   "pygments_lexer": "ipython3",
   "version": "3.7.1"
  }
 },
 "nbformat": 4,
 "nbformat_minor": 2
}
