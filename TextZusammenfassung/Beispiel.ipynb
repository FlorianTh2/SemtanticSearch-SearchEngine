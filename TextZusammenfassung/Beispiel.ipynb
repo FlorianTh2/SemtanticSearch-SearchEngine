{
 "cells": [
  {
   "cell_type": "code",
   "execution_count": 1,
   "metadata": {},
   "outputs": [
    {
     "name": "stderr",
     "output_type": "stream",
     "text": [
      "[nltk_data] Downloading package punkt to /home/phillip/nltk_data...\n",
      "[nltk_data]   Package punkt is already up-to-date!\n",
      "[nltk_data] Downloading package punkt to /home/phillip/nltk_data...\n",
      "[nltk_data]   Package punkt is already up-to-date!\n"
     ]
    }
   ],
   "source": [
    "from Summary import unpackAndSummarize, textRank\n",
    "from WordExtractor import extractWordembeddings"
   ]
  },
  {
   "cell_type": "code",
   "execution_count": 2,
   "metadata": {
    "scrolled": true
   },
   "outputs": [
    {
     "name": "stdout",
     "output_type": "stream",
     "text": [
      "[{'_id': '5c2ff74088df4228e7863b92', 'date': '19.07.2018', 'title': 'Geburtstagsgrüße', 'location': 'Kleinow', 'text': 'Gestern Abend bemalten drei Personen mit weißer Farbe die Fahrbahn der Bundesstraße 5 mit dem Spruch „Hallo mein Schatz, ich wollte nur Happy Birthday sagen.“ auf einer Länge von etwa 100 Metern. Eine Frau konnte im Rahmen der Ermittlungen in einem Pkw angetroffen werden. Sie gab zwar an, nichts damit zu tun zu haben, hatte aber an Kleidung und Auto weiße Farbreste. Die Kripo führt die Ermittlungen zur Sachbeschädigung, da sich die Farbe nicht ohne weiteres entfernen lässt.', 'number': '1093809', 'cossim': 0.2168286411636084}, {'_id': '5c30603988df4228e786832f', 'date': '30.06.2017', 'title': 'Versuchter Einbruch', 'location': 'Glienicke/Nordbahn', 'text': 'Ein 80-jähriger Mann saß gestern Mittag auf seinem Sofa in seinem Haus in der Franz-Schubert-Straße und bemerkte einen Mann, der an dem Wohnzimmerfenster vorbeiging. Da der 80-Jährige einen Techniker erwartete, rief er zwei Mal „Hallo“, aber niemand antwortete. Plötzlich hörte er aus dem Nebenzimmer einen Knall. Als er nach dem Rechten sah, bemerkte er einen Mann, der draußen vor dem inzwischen mit Steinen eingeschlagenen Fenster stand. Als der mutmaßliche Einbrecher ihn sah, rannte dieser weg.', 'number': '676330', 'cossim': 0.21022471208020188}]\n"
     ]
    }
   ],
   "source": [
    "data = [{ '_id': '5c2ff74088df4228e7863b92', 'date': '19.07.2018', 'title': 'Geburtstagsgrüße', 'location': 'Kleinow', 'text': 'Gestern Abend bemalten drei Personen mit weißer Farbe die Fahrbahn der Bundesstraße 5 mit dem Spruch „Hallo mein Schatz, ich wollte nur Happy Birthday sagen.“ auf einer Länge von etwa 100 Metern. Eine Frau konnte im Rahmen der Ermittlungen in einem Pkw angetroffen werden. Sie gab zwar an, nichts damit zu tun zu haben, hatte aber an Kleidung und Auto weiße Farbreste. Die Kripo führt die Ermittlungen zur Sachbeschädigung, da sich die Farbe nicht ohne weiteres entfernen lässt.', 'number': '1093809', 'cossim': 0.2168286411636084 } , { '_id':'5c30603988df4228e786832f', 'date': '30.06.2017', 'title': 'Versuchter Einbruch', 'location': 'Glienicke/Nordbahn', 'text': 'Ein 80-jähriger Mann saß gestern Mittag auf seinem Sofa in seinem Haus in der Franz-Schubert-Straße und bemerkte einen Mann, der an dem Wohnzimmerfenster vorbeiging. Da der 80-Jährige einen Techniker erwartete, rief er zwei Mal „Hallo“, aber niemand antwortete. Plötzlich hörte er aus dem Nebenzimmer einen Knall. Als er nach dem Rechten sah, bemerkte er einen Mann, der draußen vor dem inzwischen mit Steinen eingeschlagenen Fenster stand. Als der mutmaßliche Einbrecher ihn sah, rannte dieser weg.', 'number': '676330', 'cossim': 0.21022471208020188 }]\n",
    "print(data)\n"
   ]
  },
  {
   "cell_type": "code",
   "execution_count": 4,
   "metadata": {},
   "outputs": [
    {
     "name": "stdout",
     "output_type": "stream",
     "text": [
      "400000\n"
     ]
    }
   ],
   "source": [
    "word_embeddings = extractWordembeddings()\n",
    "print(len(word_embeddings))"
   ]
  },
  {
   "cell_type": "code",
   "execution_count": 5,
   "metadata": {},
   "outputs": [
    {
     "name": "stdout",
     "output_type": "stream",
     "text": [
      "[{'_id': '5c2ff74088df4228e7863b92', 'date': '19.07.2018', 'title': 'Geburtstagsgrüße', 'location': 'Kleinow', 'text': 'Gestern Abend bemalten drei Personen mit weißer Farbe die Fahrbahn der Bundesstraße 5 mit dem Spruch „Hallo mein Schatz, ich wollte nur Happy Birthday sagen.“ auf einer Länge von etwa 100 Metern. Eine Frau konnte im Rahmen der Ermittlungen in einem Pkw angetroffen werden. Sie gab zwar an, nichts damit zu tun zu haben, hatte aber an Kleidung und Auto weiße Farbreste. Die Kripo führt die Ermittlungen zur Sachbeschädigung, da sich die Farbe nicht ohne weiteres entfernen lässt.', 'number': '1093809', 'cossim': 0.2168286411636084, 'summary': 'Gestern Abend bemalten drei Personen mit weißer Farbe die Fahrbahn der Bundesstraße 5 mit dem Spruch „Hallo mein Schatz, ich wollte nur Happy Birthday sagen.“ auf einer Länge von etwa 100 Metern.Die Kripo führt die Ermittlungen zur Sachbeschädigung, da sich die Farbe nicht ohne weiteres entfernen lässt.'}, {'_id': '5c30603988df4228e786832f', 'date': '30.06.2017', 'title': 'Versuchter Einbruch', 'location': 'Glienicke/Nordbahn', 'text': 'Ein 80-jähriger Mann saß gestern Mittag auf seinem Sofa in seinem Haus in der Franz-Schubert-Straße und bemerkte einen Mann, der an dem Wohnzimmerfenster vorbeiging. Da der 80-Jährige einen Techniker erwartete, rief er zwei Mal „Hallo“, aber niemand antwortete. Plötzlich hörte er aus dem Nebenzimmer einen Knall. Als er nach dem Rechten sah, bemerkte er einen Mann, der draußen vor dem inzwischen mit Steinen eingeschlagenen Fenster stand. Als der mutmaßliche Einbrecher ihn sah, rannte dieser weg.', 'number': '676330', 'cossim': 0.21022471208020188, 'summary': 'Als er nach dem Rechten sah, bemerkte er einen Mann, der draußen vor dem inzwischen mit Steinen eingeschlagenen Fenster stand.Plötzlich hörte er aus dem Nebenzimmer einen Knall.'}]\n"
     ]
    }
   ],
   "source": [
    "unpackAndSummarize(data, word_embeddings)\n",
    "print(data)"
   ]
  },
  {
   "cell_type": "code",
   "execution_count": null,
   "metadata": {},
   "outputs": [],
   "source": []
  },
  {
   "cell_type": "code",
   "execution_count": null,
   "metadata": {},
   "outputs": [],
   "source": []
  },
  {
   "cell_type": "code",
   "execution_count": null,
   "metadata": {},
   "outputs": [],
   "source": []
  }
 ],
 "metadata": {
  "kernelspec": {
   "display_name": "Python 3",
   "language": "python",
   "name": "python3"
  },
  "language_info": {
   "codemirror_mode": {
    "name": "ipython",
    "version": 3
   },
   "file_extension": ".py",
   "mimetype": "text/x-python",
   "name": "python",
   "nbconvert_exporter": "python",
   "pygments_lexer": "ipython3",
   "version": "3.6.7"
  }
 },
 "nbformat": 4,
 "nbformat_minor": 2
}
