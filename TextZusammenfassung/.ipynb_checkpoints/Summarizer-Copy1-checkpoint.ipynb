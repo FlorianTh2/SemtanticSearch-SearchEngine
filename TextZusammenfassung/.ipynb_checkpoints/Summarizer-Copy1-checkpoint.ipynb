{
 "cells": [
  {
   "cell_type": "code",
   "execution_count": 1,
   "metadata": {},
   "outputs": [],
   "source": [
    "import Preprocessor\n",
    "import collections\n",
    "from nltk.probability import FreqDist\n",
    "from collections import defaultdict\n",
    "from heapq import nlargest\n",
    "import nltk\n",
    "from nltk.cluster.util import cosine_distance\n",
    "import numpy as np\n",
    "import networkx as nx\n",
    "\n",
    "from nltk import tokenize\n",
    "\n",
    "from pymongo import MongoClient\n",
    "import json\n",
    "import csv\n",
    "from bson import json_util\n"
   ]
  },
  {
   "cell_type": "code",
   "execution_count": 2,
   "metadata": {},
   "outputs": [],
   "source": [
    "client = MongoClient(\"127.0.0.1:27017\")\n",
    "db=client.crawlerdb # crawl_database_1 is the db name\n",
    "collection = db.crawlerdb"
   ]
  },
  {
   "cell_type": "code",
   "execution_count": 3,
   "metadata": {},
   "outputs": [],
   "source": [
    "documents = collection.find({},{ \"_id\": 0, \"text\": 1}).limit(4)\n",
    "texte = []\n",
    "for document in documents:\n",
    "    texte.append(document['text'])"
   ]
  },
  {
   "cell_type": "code",
   "execution_count": null,
   "metadata": {},
   "outputs": [],
   "source": []
  },
  {
   "cell_type": "code",
   "execution_count": 4,
   "metadata": {},
   "outputs": [],
   "source": [
    "preprocessor = Preprocessor.Preprocessor()\n",
    "#text = \"Ich heiße Baby und mag tanzen, schatz!\"\n",
    "#text = \"Venezuela hola yo soy de venezuela y soy venezolano bebe. El pais al norte es venezuela y hay muchos bebes pequenos.\"\n",
    "#text = \"Venezuela (amtlich Bolivarische Republik Venezuela, spanisch República Bolivariana de Venezuela) ist ein südamerikanischer Staat an der Karibikküste. Er grenzt im Süden an Brasilien, im Westen an Kolumbien und im Osten an Guyana. Venezuela wurde 1811 von der Kolonialmacht Spanien unabhängig. In dem Land herrscht seit der Bolivarischen Revolution 1999 ein sozialistisch ausgerichtetes Präsidialsystem. Seit 2014 wird Venezuela von der Vereinigten Sozialistischen Partei unter dem Parteivorsitzenden Nicolás Maduro regiert, dessen Regierungszeit zunehmend von politischen Protesten und internationaler Isolation geprägt ist. Opposition und internationale Beobachter beanstanden die Einschränkungen von Gewaltenteilung, freier Wahl und demokratischen Prinzipien und schätzen den Regierungstil als autoritär ein. Im Zuge der Entmachtung des Parlaments durch den de facto vom Staatspräsidenten kontrollierten Obersten Gerichtshof, der verfassungswidrigen Einberufung einer verfassungsgebenden Versammlung, der nicht vom dazu ermächtigten Parlament, sondern von ebendieser Versammlung beschlossenen Entlassung der Generalstaatsanwältin Ortega Díaz und der Inhaftierung prominenter Oppositionspolitiker wird Venezuela zunehmend als auf dem Weg zu einer zivilen Diktatur oder Militärdiktatur beschrieben.Die venezolanische Wirtschaft, die fast vollständig vom Erdölexport abhängig ist, befindet sich derzeit in einer schweren Krise, geprägt von Hyperinflation,Versorgungsengpässen und Hungersnöten mit einer Armutsquote, welche ab 2014 über 50 Prozent stieg und im Jahr 2016 rund 80 Prozent erreicht hatte...........\"\n",
    "#text = \"Die Staatskrise in Venezuela droht zu einem neuen Konflikt zwischen den USA und Russland zu werden. Das russische Außenministerium warnte US-Präsident Donald Trump am Donnerstag vor einer Militärintervention in dem südamerikanischen Land. Ein solcher Schritt würde ein katastrophales Szenario auslösen, zitierte die Nachrichtenagentur Interfax den stellvertretenden Außenminister Sergej Rjabkow. Venezuela sei ein strategischer Partner Russlands. Wir haben sie unterstützt, und wir werden sie unterstützen..In dem ölreichen, aber verarmten Land tobt ein Machtkampf, nachdem sich Oppositionsführer Juan Guaido selbst zum neuen Präsidentenen ernannt hat und umgehend von Trump als solcher anerkannt wurde. Der bisherige Präsident Nicolas Maduro hält indes an seinem Amt fest und wird dabei vom Militär unterstützt.Rjabkow sagte, Russland werde an der Seite des südamerikanischen Staats stehen, um dessen Souveränität zu verteidigen. Die USA dürfen sich nicht in die inneren Angelegenheiten Venezuelas einmischen. Russland hat Venezuela Milliardensummen geliehen und auch dem Militär Unterstützung zukommen lassen. Im Dezember landeten zwei russische Bomber in Venezuela, die Atomwaffen transportieren können, was auf scharfe Kritik der US-Regierung stieß.Im eigenen Land kann Staatschef Maduro noch immer auf die Unterstützung des mächtigen Militärs zählen. Auch seine Verbündeten in Bolivien und Kuba halten noch zu dem Sozialisten, dessen Land über die größten Erdölreserven der Welt verfügt. Russland, China, die Türkei und der Iran stützen Maduro ebenfalls.Die Bundesregierung fordert angesichts der Proteste Neuwahlen in dem südamerikanischen Land. Die Bevölkerung Venezuelas setzt sich mutig für eine freie Zukunft des Landes ein, erklärte Regierungssprecher Steffen Seibert am Donnerstag per Tweet. Dafür braucht es nun einen politischen Prozess, der in freie und glaubwürdige Wahlen mündet. Der Nationalversammlung komme dabei eine besondere Rolle zu, forderte der Regierungssprecher.Das Weiße Haus rief Maduro am Mittwoch zu einer friedlichen Machtübergabe auf und drohte dem Sozialisten andernfalls mit schweren Konsequenzen. „Alle Optionen sind auf dem Tisch“, sagte US-Präsident Donald Trump. Er werde weiter auf „die Wiederherstellung der Demokratie in Venezuela“ dringen. Ein hochrangiger US-Regierungsvertreter wollte am Mittwoch auf Nachfrage auch eine militärische Option nicht ausschließen. „Maduro und seine Kumpanen“ hätten keine Zukunft, sagte er. „So oder so sind ihre Tage gezählt.“.Guaidó erhielt auch Unterstützung aus Brüssel. Die Europäische Union unterstütze die von Guaidó geführte Nationalversammlung „als demokratisch gewählte Institution, deren Befugnisse wiederhergestellt und respektiert werden müssen“, erklärte die EU-Außenbeauftragte Federica Mogherini. Ein politischer Prozess müsse „zu freien und glaubwürdigen Wahlen“ führen, „im Einklang mit der Verfassung.“ EU-Ratspräsident Donald Tusk schrieb auf Twitter: „Im Gegensatz zu Maduro verfügt das Parlament, Juan Guaidó eingeschlossen, über ein demokratisches Mandat der venezolanischen Bürger.“.Mit Spannung wurde erwartet, ob sich Papst Franziskus auf dem Weltjugendtag in Panama zu der schweren Krise in Venezuela äußern würde. Das Wort des Kirchenoberhaupts hat im katholisch geprägten Lateinamerika großes Gewicht.China rief im Machtkampf in Venezuela zur Zurückhaltung auf und warnte besonders die USA vor einer Einmischung. Alle Seiten lehnten entschieden eine militärische Intervention in Venezuela ab, sagte Außenamtssprecherin Hua Chunying am Donnerstag. Auch Sanktionen würden nicht helfen, „praktische Probleme zu lösen“.Der türkische Präsident Recep Tayyip Erdogan stellte sich ebenfalls hinter Maduro. Er habe ihm in einem Telefonat die Unterstützung der Türkei zugesichert, teilte Erdogans Sprecher, Ibrahim Kalin, in der Nacht zu Donnerstag auf Twitter mit. Erdogan habe gesagt: „Mein Bruder Maduro! Stehe aufrecht, wir sind an Deiner Seite.“ Der türkische Außenminister Mevlüt Cavusoglu betonte im Sender A Haber, Maduro sei vom Volk gewählt.Auch Teheran steht weiter hinter Maduro. „Der Iran unterstützt die Regierung und das Volk Venezuelas gegen illegitime und illegale Aktionen wie Putschversuche und ausländische Einmischung in die inneren Angelegenheiten des Landes“, sagte Außenamtssprecher Bahram Ghassemi am Donnerstag. Man hoffe auf eine friedliche Lösung der politischen Differenzen im Land.Maduro brach nach der Solidaritätsnote der USA für Guaidó die diplomatischen Beziehungen zu den Vereinigten Staaten ab und verwies deren diplomatisches Personal des Landes. „Hier ergibt sich niemand. Venezuela hat das Recht, sich selbst souverän zu regieren“, sagte der Staatschef bei einer Rede vor Anhängern. „Die imperialistische US-Regierung will eine Marionettenregierung in Venezuela einsetzen.“.Guaidó forderte das Personal der in Caracas ansässigen Botschaften dagegen zum Bleiben auf. Anderslautende Anweisungen sollten ignoriert werden.US-Außenminister Mike Pompeo erklärte, er werde das diplomatische Personal zunächst nicht aus der Botschaft in Caracas abziehen. „Die Vereinigten Staaten erkennen das Maduro-Regime nicht als Regierung Venezuelas an“, teilte Pompeo mit. Folglich habe „der frühere Präsident“ auch nicht die Befugnis, diplomatische Beziehungen abzubrechen oder US-Diplomaten zu unerwünschten Personen zu erklären.Maduro hat Unterstützung der Armee.Venezuelas Verteidigungsminister Vladimir Padrino sicherte Maduro die Unterstützung der Armee zu. „Die Soldaten des Vaterlandes akzeptieren keinen Präsidenten, der von dunklen Mächten eingesetzt wird oder sich abseits des Rechts selbst einsetzt“, schrieb Padrino auf Twitter. Guaidó hatte ans Militär appelliert, sich auf die Seite der Regierungsgegner zu stellen.Ob der Machtwechsel in Caracas gelingt, dürfte davon abhängen, ob die Opposition den Druck auf der Straße aufrechterhalten und das Militär auf ihre Seite ziehen kann. Am Mittwoch gingen landesweit Zehntausende Menschen gegen die sozialistische Regierung auf die Straßen. Die Polizei feuerte Tränengasgranaten und Gummigeschosse in die Menge. Vermummte Demonstranten schleuderten Steine auf die Sicherheitskräfte.Nach Angaben der Beobachtungsstelle für soziale Konflikte kamen bei den Krawallen 13 Menschen Leben. Mindestens 175 Demonstranten wurden festgenommen, wie die Nichtregierungsorganisation Foro Penal mitteilte. Guaidó beklagte die Todesopfer auf Twitter. „Ihren Familien kann ich nur versprechen, dass in unserem Vaterland wieder Gerechtigkeit und Frieden herrschen werden“, so der Parlamentschef.Venezuela, das rund 30 Millionen Einwohner hat, steckt seit langem in einer tiefen politischen und wirtschaftlichen Krise. Viele Regierungsgegner sitzen in Haft oder leben im Exil. Wegen eines Mangels an Devisen kann das einst reiche Land kaum noch Lebensmittel, Medikamente und Dinge des täglichen Bedarfs importieren. Rund drei Millionen Venezolaner sind schon ins Ausland geflohen.\"\n",
    "text = \"In der Nacht kam es in Mitte zu einer Auseinandersetzung zwischen mehreren Personen, bei der drei Männer verletzt wurden. Ersten Ermittlungen zufolge sollen sich die drei Verletzten, im Alter von 18, 20 und 21 Jahren, gemeinsam mit Freunden und ihnen Unbekannten gegen Mitternacht am Neptunbrunnen in der Spandauer Straße aufgehalten haben. Plötzlich habe ein Unbekannter eine Glasfasche geworfen, die jedoch niemanden traf. Daraufhin sei es zu einem Handgemenge gekommen, in dessen Verlauf zwei Männer Reizgas versprühten. Die beiden 18 und 20 Jahre alten Männer erlitten leichte Augenreizungen, die zum Teil ambulant von alarmierten Rettungskräften behandelt wurden. Im Zuge der Anzeigenaufnahme erfuhren die Beamten, dass unter der Liebknechtbrücke der 21-Jährige liege, der eine Schnittwunde aufwies. Diese habe er von einem ihm namentlich nicht bekannten Mann im Anschluss an das Handgemenge mit einem Messer zugefügt bekommen. Rettungskräfte brachten den Schwerverletzten zur\\n    stationären Behandlung in eine Klinik. Die genauen Hintergründe der Tat sind nun Teil der Ermittlungen, die die Kriminalpolizei der Direktion 3 führt.\""
   ]
  },
  {
   "cell_type": "code",
   "execution_count": 5,
   "metadata": {},
   "outputs": [],
   "source": [
    "def textRank(text):\n",
    "    #Text Preprocessing\n",
    "    text = \" \".join(text.split())\n",
    "    sentence_list = tokenize.sent_tokenize(text) \n",
    "    word_list = preprocessor.tokenizing_without_punc(text)\n",
    "    unique_word_list = list(set(preprocessor.tokenizing_without_punc(text)))\n",
    "    \n",
    "    #Calculate Word Frequencies\n",
    "    word_frequencies = {}  \n",
    "    for word in word_list:  \n",
    "        if word not in word_frequencies.keys():\n",
    "            word_frequencies[word] = 1\n",
    "        else:\n",
    "            word_frequencies[word] += 1\n",
    "        \n",
    "    #for word in word_frequencies:\n",
    "        #print(word_frequencies[word])\n",
    "        \n",
    "    #\n",
    "    maximum_frequncy = max(word_frequencies.values())\n",
    "    #print(maximum_frequncy)\n",
    "\n",
    "    for word in word_frequencies.keys():  \n",
    "        word_frequencies[word] = (word_frequencies[word]/maximum_frequncy)\n",
    "    #print(\"--------\")\n",
    "    #for word in word_frequencies:\n",
    "        #print(word_frequencies[word])\n",
    "    #    \n",
    "    sentence_scores = {}  \n",
    "    for sentence in sentence_list:  \n",
    "        for word in nltk.word_tokenize(sentence.lower()):\n",
    "            if word in word_frequencies.keys():\n",
    "                if len(sentence.split(' ')) < 30:\n",
    "                    if sentence not in sentence_scores.keys():\n",
    "                        sentence_scores[sentence] = word_frequencies[word]\n",
    "                    else:\n",
    "                        sentence_scores[sentence] += word_frequencies[word]\n",
    "    #\n",
    "    summary_sentences = nlargest(2, sentence_scores, key=sentence_scores.get)\n",
    "\n",
    "    summary = ' '.join(summary_sentences)  \n",
    "    print(summary)  "
   ]
  },
  {
   "cell_type": "code",
   "execution_count": 6,
   "metadata": {},
   "outputs": [
    {
     "name": "stdout",
     "output_type": "stream",
     "text": [
      "------\n",
      "Ein Täter ging mit einem Messer in der Hand zu einer 35 Jahre alten Angestellten, die gerade eine Kundin bediente, bedrohte sie und verlangte Geld. Nachdem die Mitarbeiterin die Kasse geöffnet hatte, griffen die Räuber selbst in diese und flüchteten anschließend in Richtung Hannemannstraße. Bisherigen Erkenntnissen zufolge betrat das Duo gegen 11.30 Uhr das Geschäft am Britzer Damm.\n",
      "------\n",
      "------\n",
      "Der Zwölfjährige stürzte in der Folge auf die Straße. Die Autofahrerin erlitt einen Schock und wurde zur Behandlung in eine Klinik gebracht. Alarmierte Sanitäter versorgten ihn und brachten ihn anschließend zur stationären Behandlung in ein Krankenhaus.\n",
      "------\n",
      "------\n",
      "Mit einem richterlichen Beschluss betraten dann die Beamten gegen 21 Uhr die betreffende Wohnung und nahmen dort den 47-jährigen Mieter als Tatverdächtigen fest. Die Polizeibeamten brachten den Mann in eine Gefangenensammelstelle, von wo er nach einer Blutentnahme und erkennungsdienstlichen Maßnahmen wieder auf freien Fuß kam. Zum Ende der polizeilichen Maßnahmen in der Bastianstraße näherte sich gegen 23 Uhr eine 47-jährige Frau den dort anwesenden Pressevertretern und beschimpfte sie lautstark.\n",
      "------\n",
      "------\n",
      "Gegen 21.20 Uhr drangen zwei Maskierte über eine Seitentür in das Bekleidungsgeschäft am Kurfürstendamm ein, bedrohten die 50-jährige Geschäftsführerin mit einem Messer und zwangen sie zu Boden. Anschließend gingen die beiden Räuber in einen Nebenraum, raubten dort Geld und flüchteten anschließend wieder über die Nebentür in unbekannte Richtung. Die 50-Jährige erlitt leichte Verletzungen an den Händen, welche von Sanitätern vor Ort behandelt wurden.\n",
      "------\n"
     ]
    }
   ],
   "source": [
    "for text in texte:\n",
    "    print(\"------\")\n",
    "    textRank(text)\n",
    "    print(\"------\")"
   ]
  },
  {
   "cell_type": "code",
   "execution_count": null,
   "metadata": {},
   "outputs": [],
   "source": [
    "\n",
    "\n"
   ]
  },
  {
   "cell_type": "code",
   "execution_count": null,
   "metadata": {},
   "outputs": [],
   "source": []
  },
  {
   "cell_type": "code",
   "execution_count": null,
   "metadata": {},
   "outputs": [],
   "source": [
    "\n",
    "    "
   ]
  },
  {
   "cell_type": "code",
   "execution_count": null,
   "metadata": {},
   "outputs": [],
   "source": []
  },
  {
   "cell_type": "code",
   "execution_count": null,
   "metadata": {},
   "outputs": [],
   "source": []
  },
  {
   "cell_type": "code",
   "execution_count": null,
   "metadata": {},
   "outputs": [],
   "source": []
  }
 ],
 "metadata": {
  "kernelspec": {
   "display_name": "Python 3",
   "language": "python",
   "name": "python3"
  },
  "language_info": {
   "codemirror_mode": {
    "name": "ipython",
    "version": 3
   },
   "file_extension": ".py",
   "mimetype": "text/x-python",
   "name": "python",
   "nbconvert_exporter": "python",
   "pygments_lexer": "ipython3",
   "version": "3.6.7"
  }
 },
 "nbformat": 4,
 "nbformat_minor": 2
}
