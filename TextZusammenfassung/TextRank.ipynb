{
 "cells": [
  {
   "cell_type": "code",
   "execution_count": 1,
   "metadata": {},
   "outputs": [
    {
     "name": "stderr",
     "output_type": "stream",
     "text": [
      "[nltk_data] Downloading package punkt to /home/phillip/nltk_data...\n",
      "[nltk_data]   Package punkt is already up-to-date!\n"
     ]
    }
   ],
   "source": [
    "import Preprocessor\n",
    "import collections\n",
    "from nltk.probability import FreqDist\n",
    "from collections import defaultdict\n",
    "from heapq import nlargest\n",
    "\n",
    "import numpy as np\n",
    "import pandas as pd\n",
    "import nltk\n",
    "nltk.download('punkt') # one time execution\n",
    "import re\n",
    "from sklearn.metrics.pairwise import cosine_similarity\n",
    "import networkx as nx\n",
    "\n",
    "from nltk import tokenize\n",
    "\n",
    "from pymongo import MongoClient\n",
    "import json\n",
    "import csv\n",
    "from bson import json_util\n",
    "\n",
    "\n",
    "#Gensim TextRank\n",
    "from gensim.summarization.summarizer import summarize\n"
   ]
  },
  {
   "cell_type": "code",
   "execution_count": 2,
   "metadata": {},
   "outputs": [],
   "source": [
    "client = MongoClient(\"127.0.0.1:27017\")\n",
    "db=client.crawlerdb # crawl_database_1 is the db name\n",
    "collection = db.crawlerdb"
   ]
  },
  {
   "cell_type": "code",
   "execution_count": 9,
   "metadata": {},
   "outputs": [
    {
     "name": "stdout",
     "output_type": "stream",
     "text": [
      "***\n",
      "Zwei maskierte Männer haben heute Vormittag eine Apotheke in Britz überfallen. Bisherigen Erkenntnissen zufolge betrat das Duo gegen 11.30 Uhr das Geschäft am Britzer Damm. Ein Täter ging mit einem Messer in der Hand zu einer 35 Jahre alten Angestellten, die gerade eine Kundin bediente, bedrohte sie und verlangte Geld. Nachdem die Mitarbeiterin die Kasse geöffnet hatte, griffen die Räuber selbst in diese und flüchteten anschließend in Richtung Hannemannstraße. Das Raubkommissariat der Polizeidirektion 5 übernahm die Ermittlungen.\n",
      "***\n",
      "***\n",
      "Heute Morgen ist ein Zwölfjähriger bei einem Unfall in Hellersdorf schwer verletzt worden. Gegen 7.30 Uhr überquerte der Junge nach ersten Ermittlungen einen Zebrastreifen in der Alten Hellersdorfer Straße kurz hinter der Spremberger Straße und wurde dabei von einem Hyundai erfasst, mit dem eine 32-Jährige in der Alten Hellersdorfer Straße in Richtung Cottbusser Straße unterwegs war. Der Zwölfjährige stürzte in der Folge auf die Straße. Alarmierte Sanitäter versorgten ihn und brachten ihn anschließend zur stationären Behandlung in ein Krankenhaus. Die Autofahrerin erlitt einen Schock und wurde zur Behandlung in eine Klinik gebracht. Der Verkehrsermittlungsdienst der Polizeidirektion 6 übernahm die Unfallbearbeitung.\n",
      "***\n",
      "***\n",
      "Ein Mann beschädigte gestern Abend ein Wohnungsfenster in Gesundbrunnen. Gegen 20 Uhr hörte ein 55-jähriger Mieter einer Wohnung in der Bastianstraße einen lauten Knall und klirrendes Glas von einem seiner Fenster. Als er daraufhin nachschaute und mehrere Löcher in der Fensterscheibe vorfand, alarmierte er die Polizei. Die eingesetzten Polizisten ermittelten eine Wohnung in einem gegenüberliegenden Wohnhaus, aus der die möglichen Schüsse kamen. Mit einem richterlichen Beschluss betraten dann die Beamten gegen 21 Uhr die betreffende Wohnung und nahmen dort den 47-jährigen Mieter als Tatverdächtigen fest. In dessen Wohnung fanden die Einsatzkräfte auch eine sogenannte Präzisionszwille und dazugehörige Metallkugeln. Die Polizeibeamten brachten den Mann in eine Gefangenensammelstelle, von wo er nach einer Blutentnahme und erkennungsdienstlichen Maßnahmen wieder auf freien Fuß kam. Zum Ende der polizeilichen Maßnahmen in der Bastianstraße näherte sich gegen 23 Uhr\n",
      "    eine 47-jährige Frau den dort anwesenden Pressevertretern und beschimpfte sie lautstark. Als Polizisten sie zur Ruhe ermahnten, zeigte sie diesen den sogenannten Hitlergruß und rief nationalsozialistische Parolen. Die Beamten nahmen die mutmaßliche Pöblerin fest und brachten sie in eine Gefangenensammelstelle. Dort konnte sie nach einer Blutentnahme und erkennungsdienstlichen Maßnahmen wieder gehen. Eine Atemalkoholmessung bei der Tatverdächtigen ergab einen Wert von ungefähr 1,4 Promille.\n",
      "***\n",
      "***\n",
      "Maskierte überfielen gestern Abend ein Geschäft in Charlottenburg. Gegen 21.20 Uhr drangen zwei Maskierte über eine Seitentür in das Bekleidungsgeschäft am Kurfürstendamm ein, bedrohten die 50-jährige Geschäftsführerin mit einem Messer und zwangen sie zu Boden. Anschließend gingen die beiden Räuber in einen Nebenraum, raubten dort Geld und flüchteten anschließend wieder über die Nebentür in unbekannte Richtung. Die 50-Jährige erlitt leichte Verletzungen an den Händen, welche von Sanitätern vor Ort behandelt wurden. Die Ermittlungen führt das zuständige Raubkommissariat der Polizeidirektion 2.\n",
      "***\n",
      "***\n",
      "Schwere Verletzungen erlitt ein Fußgänger gestern Abend in Charlottenburg-Nord. Nach bisherigen Erkenntnissen war kurz nach 20 Uhr ein 25-jähriger Autofahrer mit einem Mercedes auf dem Saatwinkler Damm in Richtung Beusselstraße unterwegs. In Höhe der Einmündung Emmy-Zehden-Weg betrat plötzlich der 57-jährige Fußgänger von rechts die Fahrbahn, ohne dabei auf den Verkehr geachtet zu haben. Der Autofahrer konnte einen Zusammenstoß nicht mehr verhindern und erfasste den Mann mit dem Wagen. Durch den Aufprall wurde der 57-Jährige auf Motorhaube und Frontscheibe geschleudert und blieb anschließend mit schweren Kopfverletzungen auf der Fahrbahn liegen. Alarmierte Rettungskräfte brachten ihn zur stationären Behandlung in eine Klinik. Die weitere Bearbeitung des Unfallgeschehens übernimmt der Verkehrsermittlungsdienst der Polizeidirektion 2.\n",
      "***\n",
      "***\n",
      "In der vergangenen Nacht wurde in Zehlendorf ein Polizist bei einem Einsatz verletzt. Beamte wurden gestern gegen 22.30 Uhr von einem 68-Jährigen zu Hilfe gerufen, da er in der S-Bahn in Höhe des S-Bahnhofs Zehlendorf von einem 15-Jährigen aus einer Gruppe von vier Personen heraus geschlagen worden war. Die hinzugerufenen Einsatzkräfte wollten die Personengruppe am S-Bahnhof überprüfen, woraufhin der 15-Jährige in Richtung Herbergerweg flüchtete und durch einen der Beamten verfolgt wurde. Als dieser ihn eingeholt und gestellt hatte, ging der 15-Jährige mit zwei Nothämmern auf den Polizisten los und schlug ihn damit gegen den Kopf. Dennoch konnte der Polizeibeamte ihn festnehmen. Der Polizist erlitt Verletzungen am Kopf, die ambulant in einem Krankenhaus behandelt wurden. Der 15-Jährige erlitt in der Folge seiner Trunkenheit Kreislaufprobleme und wurde deshalb ebenfalls in ein Krankenhaus gebracht. Eine Blutuntersuchung bei ihm ergab eine Alkoholisierung von zirka 1,4\n",
      "    Promille. Er verblieb unter Bewachung im Krankenhaus. Die Kriminalpolizei ermittelt.\n",
      "***\n",
      "***\n",
      "Heute früh stellte ein Zeuge in Friedrichshain ein Auto fest, dass mit grüner Farbe beschmiert war. Nachdem der Zeuge in der Rigaer Straße einen Daimler mit zerstörten Glasscheiben gesehen hatte, der zusätzlich außen und innen mit grüner Farbe beschmiert war, alarmierte er gegen 4.20 Uhr die Polizei. Die herbeigerufenen Beamten konnten dann noch drei weitere Autos in unmittelbarer Nähe feststellen, die ebenfalls mit grüner Farbe beschmiert waren. Ein Kommissariat des Polizeilichen Staatsschutzes beim Landeskriminalamt hat die Ermittlungen übernommen.\n",
      "***\n",
      "***\n",
      "Mit der Veröffentlichung eines Bildes des toten Mannes suchen die Verkehrsermittler nach weiteren Zeugen. Nach dem derzeitigen Ermittlungsstand war der 40-Jährige am 6. November 2018 vermutlich am Vormittag aus Dänemark in Berlin angekommen und wollte gegen 22 Uhr mit einem anderen Bus nach Vilnius (Litauen) fahren. Gegen 23 Uhr hatte er ein letztes Telefonat mit seinem Bruder, in dem er mitteilte, dass er seinen Bus verpasst hatte und nun versuchen würde, einen Flug nach Minsk zu bekommen. Gegen 2.20 Uhr bemerkte ein Fahrzeugführer den Fußgänger auf der BAB 117 in Richtung Schönefelder Kreuz und alarmierte die Polizei über den Notruf. In den darauffolgenden zehn Minuten wurde der 40-Jährige von einem weißen Transporter, einem blauen BMW und einem Lastzug ganz oder nur teilweise überrollt. Die Fahrer dieser Fahrzeuge hatten sich bereits bei der Polizei gemeldet und wurden befragt. Da kurz davor und auch im weiteren\n",
      "    Verlauf noch mehrere Fahrzeuge die Unfallstelle durchfahren haben müssen, suchen die Ermittler weiterhin nach wichtigen Zeugen.\n",
      "***\n",
      "***\n",
      "Gestern Abend konnte ein mutmaßlicher Wohnungseinbrecher in Friedenau festgenommen werden. Ein 28-jähriger Mieter einer Erdgeschoßwohnung in der Evastraße kam gestern gegen 20.40 Uhr nach Hause und konnte seine Wohnung nicht betreten, da eine Türsicherung dies von innen verhinderte. Zudem hörte er aus seiner Wohnung Geräusche und nahm an, dass sich Einbrecher in seiner Wohnung befinden. Anschließend rannte er zu seinem Balkon, annehmend, dass die Einbrecher darüber flüchten würden. Dort angekommen, sah er tatsächlich zwei Unbekannte vom Balkon flüchten und rannte diesen hinterher. Einen 31-Jährigen stellte er und hielt ihn bis zum Eintreffen der Polizei fest. Zeugen hatten zwischenzeitlich die Polizei zur Hilfe gerufen. Nach einer erkennungsdienstlichen Behandlung wurde der mutmaßliche Einbrecher der Kriminalpolizei übergeben. Der zweite Tatverdächtige konnte mit der Beute flüchten. Das Einbruchskommissariat der Polizeidirektion 4 hat die weiteren Ermittlungen\n",
      "    übernommen.\n",
      "***\n",
      "***\n",
      "Zu einer Auseinandersetzung zwischen zwei Gruppen kam es heute früh in Friedrichshain. Nach ersten Erkenntnissen gerieten gegen 3 Uhr auf dem ehemaligen Gelände des Reichsbahnausbesserungswerkes an der Revaler Straße zwei Gruppen, bestehend aus drei und vier Männern, miteinander in Streit. Aus der Vierergruppe soll sich dann ein 19-Jähriger gezielt zu einem 32-Jährigen der Dreiergruppe zubewegt und diesem mit einer Flasche gegen den Kopf geschlagen haben. Dieser stürzte anschließend zu Boden, wo der 19-Jährige dann weiter auf ihn eingeschlagen und eingetreten haben soll. Nun kamen dem am Boden liegenden seine beiden 26 und 34-jährigen Begleiter zur Hilfe. Doch diese soll durch die Vierergruppe sogleich geschlossen attackiert worden sein, bis auch sie zu Boden sanken. Dort sollen sie ebenfalls weiter geschlagen und getreten worden sein. Anschließend flüchteten der 19-Jährige und seine drei Komplizen im Alter von 18, 20 und 21 Jahren in unterschiedliche Richtungen.\n",
      "    Alarmierte Polizeibeamte konnte sie jedoch noch in der Nähe stellen und festnehmen. Den 19-Jährigen brachten sie in eine Gefangenensammelstelle, wo er nach einer erkennungsdienstlichen Behandlung wieder entlassen wurde. Die drei übrigen Tatverdächtigen wurden nach einer Identitätsfeststellung am Ort entlassen. Hinzugerufene Rettungskräfte brachten den 32-Jährigen mit schweren Kopfverletzungen zur stationären Behandlung in eine Klinik. Seine beiden Begleiter lehnten eine ärztliche Behandlung am Ort ab. Die Ermittlungen wegen gefährlicher Körperverletzung führt das zuständige Kommissariat der Kriminalpolizei der Polizeidirektion 5.\n",
      "***\n"
     ]
    }
   ],
   "source": [
    "documents = collection.find({},{ \"_id\": 0, \"text\": 1}).limit(10)\n",
    "texte = []\n",
    "for document in documents:\n",
    "    texte.append(document['text'])\n",
    "\n",
    "for text in texte:\n",
    "    print(\"***\")\n",
    "    print(text)\n",
    "    print(\"***\")"
   ]
  },
  {
   "cell_type": "code",
   "execution_count": 10,
   "metadata": {},
   "outputs": [],
   "source": [
    "#for text in texte:\n",
    "#    print(\"**\")\n",
    "#    print(summarize(text))"
   ]
  },
  {
   "cell_type": "code",
   "execution_count": 5,
   "metadata": {},
   "outputs": [
    {
     "name": "stdout",
     "output_type": "stream",
     "text": [
      "400000\n"
     ]
    }
   ],
   "source": [
    "# Extract word vectors\n",
    "word_embeddings = {}\n",
    "f = open('glove.6B.100d.txt', encoding='utf-8')\n",
    "for line in f:\n",
    "    values = line.split()\n",
    "    word = values[0]\n",
    "    coefs = np.asarray(values[1:], dtype='float32')\n",
    "    word_embeddings[word] = coefs\n",
    "f.close()\n",
    "\n",
    "print(len(word_embeddings))"
   ]
  },
  {
   "cell_type": "code",
   "execution_count": 11,
   "metadata": {},
   "outputs": [],
   "source": [
    "preprocessor = Preprocessor.Preprocessor()\n",
    "#text = \"Ich heiße Baby und mag tanzen, schatz!\"\n",
    "#text = \"Venezuela hola yo soy de venezuela y soy venezolano bebe. El pais al norte es venezuela y hay muchos bebes pequenos.\"\n",
    "text = \"Venezuela (amtlich Bolivarische Republik Venezuela, spanisch República Bolivariana de Venezuela) ist ein südamerikanischer Staat an der Karibikküste. Er grenzt im Süden an Brasilien, im Westen an Kolumbien und im Osten an Guyana. Venezuela wurde 1811 von der Kolonialmacht Spanien unabhängig. In dem Land herrscht seit der Bolivarischen Revolution 1999 ein sozialistisch ausgerichtetes Präsidialsystem. Seit 2014 wird Venezuela von der Vereinigten Sozialistischen Partei unter dem Parteivorsitzenden Nicolás Maduro regiert, dessen Regierungszeit zunehmend von politischen Protesten und internationaler Isolation geprägt ist. Opposition und internationale Beobachter beanstanden die Einschränkungen von Gewaltenteilung, freier Wahl und demokratischen Prinzipien und schätzen den Regierungstil als autoritär ein. Im Zuge der Entmachtung des Parlaments durch den de facto vom Staatspräsidenten kontrollierten Obersten Gerichtshof, der verfassungswidrigen Einberufung einer verfassungsgebenden Versammlung, der nicht vom dazu ermächtigten Parlament, sondern von ebendieser Versammlung beschlossenen Entlassung der Generalstaatsanwältin Ortega Díazund der Inhaftierung prominenter Oppositionspolitiker wird Venezuela zunehmend als auf dem Weg zu einer zivilen Diktatur oder Militärdiktatur beschrieben.Die venezolanische Wirtschaft, die fast vollständig vom Erdölexport abhängig ist, befindet sich derzeit in einer schweren Krise, geprägt von Hyperinflation,Versorgungsengpässen und Hungersnöten mit einer Armutsquote, welche ab 2014 über 50 Prozent stieg und im Jahr 2016 rund 80 Prozent erreicht hatte...........\"\n",
    "#text = \"Die Staatskrise in Venezuela droht zu einem neuen Konflikt zwischen den USA und Russland zu werden. Das russische Außenministerium warnte US-Präsident Donald Trump am Donnerstag vor einer Militärintervention in dem südamerikanischen Land. Ein solcher Schritt würde ein katastrophales Szenario auslösen, zitierte die Nachrichtenagentur Interfax den stellvertretenden Außenminister Sergej Rjabkow. Venezuela sei ein strategischer Partner Russlands. Wir haben sie unterstützt, und wir werden sie unterstützen..In dem ölreichen, aber verarmten Land tobt ein Machtkampf, nachdem sich Oppositionsführer Juan Guaido selbst zum neuen Präsidentenen ernannt hat und umgehend von Trump als solcher anerkannt wurde. Der bisherige Präsident Nicolas Maduro hält indes an seinem Amt fest und wird dabei vom Militär unterstützt.Rjabkow sagte, Russland werde an der Seite des südamerikanischen Staats stehen, um dessen Souveränität zu verteidigen. Die USA dürfen sich nicht in die inneren Angelegenheiten Venezuelas einmischen. Russland hat Venezuela Milliardensummen geliehen und auch dem Militär Unterstützung zukommen lassen. Im Dezember landeten zwei russische Bomber in Venezuela, die Atomwaffen transportieren können, was auf scharfe Kritik der US-Regierung stieß.Im eigenen Land kann Staatschef Maduro noch immer auf die Unterstützung des mächtigen Militärs zählen. Auch seine Verbündeten in Bolivien und Kuba halten noch zu dem Sozialisten, dessen Land über die größten Erdölreserven der Welt verfügt. Russland, China, die Türkei und der Iran stützen Maduro ebenfalls.Die Bundesregierung fordert angesichts der Proteste Neuwahlen in dem südamerikanischen Land. Die Bevölkerung Venezuelas setzt sich mutig für eine freie Zukunft des Landes ein, erklärte Regierungssprecher Steffen Seibert am Donnerstag per Tweet. Dafür braucht es nun einen politischen Prozess, der in freie und glaubwürdige Wahlen mündet. Der Nationalversammlung komme dabei eine besondere Rolle zu, forderte der Regierungssprecher.Das Weiße Haus rief Maduro am Mittwoch zu einer friedlichen Machtübergabe auf und drohte dem Sozialisten andernfalls mit schweren Konsequenzen. „Alle Optionen sind auf dem Tisch“, sagte US-Präsident Donald Trump. Er werde weiter auf „die Wiederherstellung der Demokratie in Venezuela“ dringen. Ein hochrangiger US-Regierungsvertreter wollte am Mittwoch auf Nachfrage auch eine militärische Option nicht ausschließen. „Maduro und seine Kumpanen“ hätten keine Zukunft, sagte er. „So oder so sind ihre Tage gezählt.“.Guaidó erhielt auch Unterstützung aus Brüssel. Die Europäische Union unterstütze die von Guaidó geführte Nationalversammlung „als demokratisch gewählte Institution, deren Befugnisse wiederhergestellt und respektiert werden müssen“, erklärte die EU-Außenbeauftragte Federica Mogherini. Ein politischer Prozess müsse „zu freien und glaubwürdigen Wahlen“ führen, „im Einklang mit der Verfassung.“ EU-Ratspräsident Donald Tusk schrieb auf Twitter: „Im Gegensatz zu Maduro verfügt das Parlament, Juan Guaidó eingeschlossen, über ein demokratisches Mandat der venezolanischen Bürger.“.Mit Spannung wurde erwartet, ob sich Papst Franziskus auf dem Weltjugendtag in Panama zu der schweren Krise in Venezuela äußern würde. Das Wort des Kirchenoberhaupts hat im katholisch geprägten Lateinamerika großes Gewicht.China rief im Machtkampf in Venezuela zur Zurückhaltung auf und warnte besonders die USA vor einer Einmischung. Alle Seiten lehnten entschieden eine militärische Intervention in Venezuela ab, sagte Außenamtssprecherin Hua Chunying am Donnerstag. Auch Sanktionen würden nicht helfen, „praktische Probleme zu lösen“.Der türkische Präsident Recep Tayyip Erdogan stellte sich ebenfalls hinter Maduro. Er habe ihm in einem Telefonat die Unterstützung der Türkei zugesichert, teilte Erdogans Sprecher, Ibrahim Kalin, in der Nacht zu Donnerstag auf Twitter mit. Erdogan habe gesagt: „Mein Bruder Maduro! Stehe aufrecht, wir sind an Deiner Seite.“ Der türkische Außenminister Mevlüt Cavusoglu betonte im Sender A Haber, Maduro sei vom Volk gewählt.Auch Teheran steht weiter hinter Maduro. „Der Iran unterstützt die Regierung und das Volk Venezuelas gegen illegitime und illegale Aktionen wie Putschversuche und ausländische Einmischung in die inneren Angelegenheiten des Landes“, sagte Außenamtssprecher Bahram Ghassemi am Donnerstag. Man hoffe auf eine friedliche Lösung der politischen Differenzen im Land.Maduro brach nach der Solidaritätsnote der USA für Guaidó die diplomatischen Beziehungen zu den Vereinigten Staaten ab und verwies deren diplomatisches Personal des Landes. „Hier ergibt sich niemand. Venezuela hat das Recht, sich selbst souverän zu regieren“, sagte der Staatschef bei einer Rede vor Anhängern. „Die imperialistische US-Regierung will eine Marionettenregierung in Venezuela einsetzen.“.Guaidó forderte das Personal der in Caracas ansässigen Botschaften dagegen zum Bleiben auf. Anderslautende Anweisungen sollten ignoriert werden.US-Außenminister Mike Pompeo erklärte, er werde das diplomatische Personal zunächst nicht aus der Botschaft in Caracas abziehen. „Die Vereinigten Staaten erkennen das Maduro-Regime nicht als Regierung Venezuelas an“, teilte Pompeo mit. Folglich habe „der frühere Präsident“ auch nicht die Befugnis, diplomatische Beziehungen abzubrechen oder US-Diplomaten zu unerwünschten Personen zu erklären.Maduro hat Unterstützung der Armee.Venezuelas Verteidigungsminister Vladimir Padrino sicherte Maduro die Unterstützung der Armee zu. „Die Soldaten des Vaterlandes akzeptieren keinen Präsidenten, der von dunklen Mächten eingesetzt wird oder sich abseits des Rechts selbst einsetzt“, schrieb Padrino auf Twitter. Guaidó hatte ans Militär appelliert, sich auf die Seite der Regierungsgegner zu stellen.Ob der Machtwechsel in Caracas gelingt, dürfte davon abhängen, ob die Opposition den Druck auf der Straße aufrechterhalten und das Militär auf ihre Seite ziehen kann. Am Mittwoch gingen landesweit Zehntausende Menschen gegen die sozialistische Regierung auf die Straßen. Die Polizei feuerte Tränengasgranaten und Gummigeschosse in die Menge. Vermummte Demonstranten schleuderten Steine auf die Sicherheitskräfte.Nach Angaben der Beobachtungsstelle für soziale Konflikte kamen bei den Krawallen 13 Menschen Leben. Mindestens 175 Demonstranten wurden festgenommen, wie die Nichtregierungsorganisation Foro Penal mitteilte. Guaidó beklagte die Todesopfer auf Twitter. „Ihren Familien kann ich nur versprechen, dass in unserem Vaterland wieder Gerechtigkeit und Frieden herrschen werden“, so der Parlamentschef.Venezuela, das rund 30 Millionen Einwohner hat, steckt seit langem in einer tiefen politischen und wirtschaftlichen Krise. Viele Regierungsgegner sitzen in Haft oder leben im Exil. Wegen eines Mangels an Devisen kann das einst reiche Land kaum noch Lebensmittel, Medikamente und Dinge des täglichen Bedarfs importieren. Rund drei Millionen Venezolaner sind schon ins Ausland geflohen.\"\n",
    "#text = \"In der Nacht kam es in Mitte zu einer Auseinandersetzung zwischen mehreren Personen, bei der drei Männer verletzt wurden. Ersten Ermittlungen zufolge sollen sich die drei Verletzten, im Alter von 18, 20 und 21 Jahren, gemeinsam mit Freunden und ihnen Unbekannten gegen Mitternacht am Neptunbrunnen in der Spandauer Straße aufgehalten haben. Plötzlich habe ein Unbekannter eine Glasfasche geworfen, die jedoch niemanden traf. Daraufhin sei es zu einem Handgemenge gekommen, in dessen Verlauf zwei Männer Reizgas versprühten. Die beiden 18 und 20 Jahre alten Männer erlitten leichte Augenreizungen, die zum Teil ambulant von alarmierten Rettungskräften behandelt wurden. Im Zuge der Anzeigenaufnahme erfuhren die Beamten, dass unter der Liebknechtbrücke der 21-Jährige liege, der eine Schnittwunde aufwies. Diese habe er von einem ihm namentlich nicht bekannten Mann im Anschluss an das Handgemenge mit einem Messer zugefügt bekommen. Rettungskräfte brachten den Schwerverletzten zur\\n    stationären Behandlung in eine Klinik. Die genauen Hintergründe der Tat sind nun Teil der Ermittlungen, die die Kriminalpolizei der Direktion 3 führt.\""
   ]
  },
  {
   "cell_type": "code",
   "execution_count": 7,
   "metadata": {},
   "outputs": [],
   "source": [
    "def textRank(text):\n",
    "    text = \" \".join(text.split())\n",
    "    sentence_list = tokenize.sent_tokenize(text) \n",
    "    word_list = preprocessor.tokenizing_without_punc(text)\n",
    "    \n",
    "    sentence_vectors = []\n",
    "    for i in sentence_list:\n",
    "      if len(i) != 0:\n",
    "        v = sum([word_embeddings.get(w, np.zeros((100,))) for w in i.split()])/(len(i.split())+0.001)\n",
    "      else:\n",
    "        v = np.zeros((100,))\n",
    "      sentence_vectors.append(v)\n",
    "    \n",
    "    # similarity matrix\n",
    "    sim_mat = np.zeros([len(sentence_list), len(sentence_list)])\n",
    "    for i in range(len(sentence_list)):\n",
    "      for j in range(len(sentence_list)):\n",
    "        if i != j:\n",
    "          sim_mat[i][j] = cosine_similarity(sentence_vectors[i].reshape(1,100), sentence_vectors[j].reshape(1,100))[0,0]\n",
    "\n",
    "    nx_graph = nx.from_numpy_array(sim_mat)\n",
    "    scores = nx.pagerank(nx_graph)\n",
    "    \n",
    "    ranked_sentences = sorted(((scores[i],s) for i,s in enumerate(sentence_list)), reverse=True)\n",
    "    # Extract top 10 sentences as the summary\n",
    "    for i in range(2):\n",
    "      print(ranked_sentences[i][1])"
   ]
  },
  {
   "cell_type": "code",
   "execution_count": 12,
   "metadata": {},
   "outputs": [
    {
     "name": "stdout",
     "output_type": "stream",
     "text": [
      "------\n",
      "Ein Täter ging mit einem Messer in der Hand zu einer 35 Jahre alten Angestellten, die gerade eine Kundin bediente, bedrohte sie und verlangte Geld.\n",
      "Nachdem die Mitarbeiterin die Kasse geöffnet hatte, griffen die Räuber selbst in diese und flüchteten anschließend in Richtung Hannemannstraße.\n",
      "------\n",
      "------\n",
      "Gegen 7.30 Uhr überquerte der Junge nach ersten Ermittlungen einen Zebrastreifen in der Alten Hellersdorfer Straße kurz hinter der Spremberger Straße und wurde dabei von einem Hyundai erfasst, mit dem eine 32-Jährige in der Alten Hellersdorfer Straße in Richtung Cottbusser Straße unterwegs war.\n",
      "Die Autofahrerin erlitt einen Schock und wurde zur Behandlung in eine Klinik gebracht.\n",
      "------\n",
      "------\n",
      "Die Polizeibeamten brachten den Mann in eine Gefangenensammelstelle, von wo er nach einer Blutentnahme und erkennungsdienstlichen Maßnahmen wieder auf freien Fuß kam.\n",
      "Zum Ende der polizeilichen Maßnahmen in der Bastianstraße näherte sich gegen 23 Uhr eine 47-jährige Frau den dort anwesenden Pressevertretern und beschimpfte sie lautstark.\n",
      "------\n",
      "------\n",
      "Gegen 21.20 Uhr drangen zwei Maskierte über eine Seitentür in das Bekleidungsgeschäft am Kurfürstendamm ein, bedrohten die 50-jährige Geschäftsführerin mit einem Messer und zwangen sie zu Boden.\n",
      "Anschließend gingen die beiden Räuber in einen Nebenraum, raubten dort Geld und flüchteten anschließend wieder über die Nebentür in unbekannte Richtung.\n",
      "------\n",
      "------\n",
      "Durch den Aufprall wurde der 57-Jährige auf Motorhaube und Frontscheibe geschleudert und blieb anschließend mit schweren Kopfverletzungen auf der Fahrbahn liegen.\n",
      "In Höhe der Einmündung Emmy-Zehden-Weg betrat plötzlich der 57-jährige Fußgänger von rechts die Fahrbahn, ohne dabei auf den Verkehr geachtet zu haben.\n",
      "------\n",
      "------\n",
      "In der vergangenen Nacht wurde in Zehlendorf ein Polizist bei einem Einsatz verletzt.\n",
      "Die hinzugerufenen Einsatzkräfte wollten die Personengruppe am S-Bahnhof überprüfen, woraufhin der 15-Jährige in Richtung Herbergerweg flüchtete und durch einen der Beamten verfolgt wurde.\n",
      "------\n",
      "------\n",
      "Nachdem der Zeuge in der Rigaer Straße einen Daimler mit zerstörten Glasscheiben gesehen hatte, der zusätzlich außen und innen mit grüner Farbe beschmiert war, alarmierte er gegen 4.20 Uhr die Polizei.\n",
      "Die herbeigerufenen Beamten konnten dann noch drei weitere Autos in unmittelbarer Nähe feststellen, die ebenfalls mit grüner Farbe beschmiert waren.\n",
      "------\n",
      "------\n",
      "Gegen 2.20 Uhr bemerkte ein Fahrzeugführer den Fußgänger auf der BAB 117 in Richtung Schönefelder Kreuz und alarmierte die Polizei über den Notruf.\n",
      "Mit der Veröffentlichung eines Bildes des toten Mannes suchen die Verkehrsermittler nach weiteren Zeugen.\n",
      "------\n",
      "------\n",
      "Ein 28-jähriger Mieter einer Erdgeschoßwohnung in der Evastraße kam gestern gegen 20.40 Uhr nach Hause und konnte seine Wohnung nicht betreten, da eine Türsicherung dies von innen verhinderte.\n",
      "Einen 31-Jährigen stellte er und hielt ihn bis zum Eintreffen der Polizei fest.\n",
      "------\n",
      "------\n",
      "Alarmierte Polizeibeamte konnte sie jedoch noch in der Nähe stellen und festnehmen.\n",
      "Aus der Vierergruppe soll sich dann ein 19-Jähriger gezielt zu einem 32-Jährigen der Dreiergruppe zubewegt und diesem mit einer Flasche gegen den Kopf geschlagen haben.\n",
      "------\n"
     ]
    }
   ],
   "source": [
    "for text in texte:\n",
    "    print(\"------\")\n",
    "    textRank(text)\n",
    "    print(\"------\")"
   ]
  },
  {
   "cell_type": "code",
   "execution_count": null,
   "metadata": {},
   "outputs": [],
   "source": [
    "\n",
    "\n"
   ]
  },
  {
   "cell_type": "code",
   "execution_count": null,
   "metadata": {},
   "outputs": [],
   "source": []
  },
  {
   "cell_type": "code",
   "execution_count": null,
   "metadata": {},
   "outputs": [],
   "source": []
  },
  {
   "cell_type": "code",
   "execution_count": null,
   "metadata": {},
   "outputs": [],
   "source": [
    "\n"
   ]
  },
  {
   "cell_type": "code",
   "execution_count": null,
   "metadata": {},
   "outputs": [],
   "source": []
  },
  {
   "cell_type": "code",
   "execution_count": null,
   "metadata": {},
   "outputs": [],
   "source": []
  },
  {
   "cell_type": "code",
   "execution_count": null,
   "metadata": {},
   "outputs": [],
   "source": []
  },
  {
   "cell_type": "code",
   "execution_count": null,
   "metadata": {},
   "outputs": [],
   "source": [
    "ranking = defaultdict(int)\n",
    "word_freq = FreqDist(word_list)\n",
    "\n",
    "for i, sentence in enumerate(sentence_list):\n",
    "    for word in preprocessor.tokenizing_without_punc(sentence):\n",
    "       if word in word_freq:\n",
    "        ranking[i] += word_freq[word]\n",
    "\n",
    "print(ranking)"
   ]
  },
  {
   "cell_type": "code",
   "execution_count": null,
   "metadata": {},
   "outputs": [],
   "source": [
    "indexes = nlargest(3, ranking, key=ranking.get)\n",
    "final_sentences = [sentence_list[j] for j in sorted(indexes)]\n",
    "print('. '.join(final_sentences)) "
   ]
  },
  {
   "cell_type": "code",
   "execution_count": null,
   "metadata": {},
   "outputs": [],
   "source": []
  },
  {
   "cell_type": "code",
   "execution_count": null,
   "metadata": {},
   "outputs": [],
   "source": []
  }
 ],
 "metadata": {
  "kernelspec": {
   "display_name": "Python 3",
   "language": "python",
   "name": "python3"
  },
  "language_info": {
   "codemirror_mode": {
    "name": "ipython",
    "version": 3
   },
   "file_extension": ".py",
   "mimetype": "text/x-python",
   "name": "python",
   "nbconvert_exporter": "python",
   "pygments_lexer": "ipython3",
   "version": "3.6.7"
  }
 },
 "nbformat": 4,
 "nbformat_minor": 2
}
