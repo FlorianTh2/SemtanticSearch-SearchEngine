{
 "cells": [
  {
   "cell_type": "code",
   "execution_count": 1,
   "metadata": {},
   "outputs": [
    {
     "name": "stderr",
     "output_type": "stream",
     "text": [
      "[nltk_data] Downloading package punkt to /home/phillip/nltk_data...\n",
      "[nltk_data]   Package punkt is already up-to-date!\n",
      "[nltk_data] Downloading package punkt to /home/phillip/nltk_data...\n",
      "[nltk_data]   Package punkt is already up-to-date!\n"
     ]
    }
   ],
   "source": [
    "from Summary import textRank\n",
    "from WordExtractor import extractWordembeddings"
   ]
  },
  {
   "cell_type": "code",
   "execution_count": 2,
   "metadata": {},
   "outputs": [
    {
     "name": "stdout",
     "output_type": "stream",
     "text": [
      "Gestern Abend konnte ein mutmaßlicher Wohnungseinbrecher in Friedenau festgenommen werden. Ein 28-jähriger Mieter einer Erdgeschoßwohnung in der Evastraße kam gestern gegen 20.40 Uhr nach Hause und konnte seine Wohnung nicht betreten, da eine Türsicherung dies von innen verhinderte. Zudem hörte er aus seiner Wohnung Geräusche und nahm an, dass sich Einbrecher in seiner Wohnung befinden. Anschließend rannte er zu seinem Balkon, annehmend, dass die Einbrecher darüber flüchten würden. Dort angekommen, sah er tatsächlich zwei Unbekannte vom Balkon flüchten und rannte diesen hinterher. Einen 31-Jährigen stellte er und hielt ihn bis zum Eintreffen der Polizei fest. Zeugen hatten zwischenzeitlich die Polizei zur Hilfe gerufen. Nach einer erkennungsdienstlichen Behandlung wurde der mutmaßliche Einbrecher der Kriminalpolizei übergeben. Der zweite Tatverdächtige konnte mit der Beute flüchten. Das Einbruchskommissariat der Polizeidirektion 4 hat die weiteren Ermittlungen übernommen.\n"
     ]
    }
   ],
   "source": [
    "text = \"Ein Mann beschädigte gestern Abend ein Wohnungsfenster in Gesundbrunnen. Gegen 20 Uhr hörte ein 55-jähriger Mieter einer Wohnung in der Bastianstraße einen lauten Knall und klirrendes Glas von einem seiner Fenster. Als er daraufhin nachschaute und mehrere Löcher in der Fensterscheibe vorfand, alarmierte er die Polizei. Die eingesetzten Polizisten ermittelten eine Wohnung in einem gegenüberliegenden Wohnhaus, aus der die möglichen Schüsse kamen. Mit einem richterlichen Beschluss betraten dann die Beamten gegen 21 Uhr die betreffende Wohnung und nahmen dort den 47-jährigen Mieter als Tatverdächtigen fest. In dessen Wohnung fanden die Einsatzkräfte auch eine sogenannte Präzisionszwille und dazugehörige Metallkugeln. Die Polizeibeamten brachten den Mann in eine Gefangenensammelstelle, von wo er nach einer Blutentnahme und erkennungsdienstlichen Maßnahmen wieder auf freien Fuß kam. Zum Ende der polizeilichen Maßnahmen in der Bastianstraße näherte sich gegen 23 Uhr eine 47-jährige Frau den dort anwesenden Pressevertretern und beschimpfte sie lautstark. Als Polizisten sie zur Ruhe ermahnten, zeigte sie diesen den sogenannten Hitlergruß und rief nationalsozialistische Parolen. Die Beamten nahmen die mutmaßliche Pöblerin fest und brachten sie in eine Gefangenensammelstelle. Dort konnte sie nach einer Blutentnahme und erkennungsdienstlichen Maßnahmen wieder gehen. Eine Atemalkoholmessung bei der Tatverdächtigen ergab einen Wert von ungefähr 1,4 Promille.\"\n",
    "text2 = \"Gestern Abend konnte ein mutmaßlicher Wohnungseinbrecher in Friedenau festgenommen werden. Ein 28-jähriger Mieter einer Erdgeschoßwohnung in der Evastraße kam gestern gegen 20.40 Uhr nach Hause und konnte seine Wohnung nicht betreten, da eine Türsicherung dies von innen verhinderte. Zudem hörte er aus seiner Wohnung Geräusche und nahm an, dass sich Einbrecher in seiner Wohnung befinden. Anschließend rannte er zu seinem Balkon, annehmend, dass die Einbrecher darüber flüchten würden. Dort angekommen, sah er tatsächlich zwei Unbekannte vom Balkon flüchten und rannte diesen hinterher. Einen 31-Jährigen stellte er und hielt ihn bis zum Eintreffen der Polizei fest. Zeugen hatten zwischenzeitlich die Polizei zur Hilfe gerufen. Nach einer erkennungsdienstlichen Behandlung wurde der mutmaßliche Einbrecher der Kriminalpolizei übergeben. Der zweite Tatverdächtige konnte mit der Beute flüchten. Das Einbruchskommissariat der Polizeidirektion 4 hat die weiteren Ermittlungen übernommen.\"\n",
    "print(text2)\n"
   ]
  },
  {
   "cell_type": "code",
   "execution_count": 4,
   "metadata": {},
   "outputs": [
    {
     "name": "stdout",
     "output_type": "stream",
     "text": [
      "400000\n"
     ]
    }
   ],
   "source": [
    "word_embeddings = extractWordembeddings()\n",
    "print(len(word_embeddings))"
   ]
  },
  {
   "cell_type": "code",
   "execution_count": null,
   "metadata": {},
   "outputs": [],
   "source": []
  },
  {
   "cell_type": "code",
   "execution_count": 5,
   "metadata": {},
   "outputs": [
    {
     "name": "stdout",
     "output_type": "stream",
     "text": [
      "Die Polizeibeamten brachten den Mann in eine Gefangenensammelstelle, von wo er nach einer Blutentnahme und erkennungsdienstlichen Maßnahmen wieder auf freien Fuß kam.\n",
      "Zum Ende der polizeilichen Maßnahmen in der Bastianstraße näherte sich gegen 23 Uhr eine 47-jährige Frau den dort anwesenden Pressevertretern und beschimpfte sie lautstark.\n"
     ]
    }
   ],
   "source": [
    "textRank(text, word_embeddings)"
   ]
  },
  {
   "cell_type": "code",
   "execution_count": 6,
   "metadata": {},
   "outputs": [
    {
     "name": "stdout",
     "output_type": "stream",
     "text": [
      "Ein 28-jähriger Mieter einer Erdgeschoßwohnung in der Evastraße kam gestern gegen 20.40 Uhr nach Hause und konnte seine Wohnung nicht betreten, da eine Türsicherung dies von innen verhinderte.\n",
      "Einen 31-Jährigen stellte er und hielt ihn bis zum Eintreffen der Polizei fest.\n"
     ]
    }
   ],
   "source": [
    "textRank(text2, word_embeddings)"
   ]
  },
  {
   "cell_type": "code",
   "execution_count": null,
   "metadata": {},
   "outputs": [],
   "source": []
  }
 ],
 "metadata": {
  "kernelspec": {
   "display_name": "Python 3",
   "language": "python",
   "name": "python3"
  },
  "language_info": {
   "codemirror_mode": {
    "name": "ipython",
    "version": 3
   },
   "file_extension": ".py",
   "mimetype": "text/x-python",
   "name": "python",
   "nbconvert_exporter": "python",
   "pygments_lexer": "ipython3",
   "version": "3.6.7"
  }
 },
 "nbformat": 4,
 "nbformat_minor": 2
}
