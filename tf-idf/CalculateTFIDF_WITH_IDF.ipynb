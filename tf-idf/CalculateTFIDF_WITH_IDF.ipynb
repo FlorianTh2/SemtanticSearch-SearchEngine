{
 "cells": [
  {
   "cell_type": "code",
   "execution_count": 1,
   "metadata": {},
   "outputs": [],
   "source": [
    "import numpy as np\n",
    "import nltk\n",
    "from nltk.text import TextCollection\n",
    "from pymongo import MongoClient\n",
    "from sklearn.feature_extraction.text import TfidfVectorizer\n",
    "import pandas as pd\n",
    "from numpy import dot\n",
    "from numpy.linalg import norm\n",
    "import Preprocessor\n",
    "from bson import ObjectId\n",
    "import operator"
   ]
  },
  {
   "cell_type": "code",
   "execution_count": 2,
   "metadata": {},
   "outputs": [
    {
     "name": "stdout",
     "output_type": "stream",
     "text": [
      "We got  23733  Documents\n"
     ]
    }
   ],
   "source": [
    "client = MongoClient(\"localhost\")\n",
    "db=client.crawlerdb_WORK_TFIDF_2\n",
    "collection = db.crawlerdb_lower_withSW\n",
    "result_documents_list_REAL = list(collection.find({})) # work-data-collection\n",
    "print(\"We got \", len(result_documents_list_REAL), \" Documents\")"
   ]
  },
  {
   "cell_type": "code",
   "execution_count": 4,
   "metadata": {},
   "outputs": [
    {
     "name": "stdout",
     "output_type": "stream",
     "text": [
      "We still have  23733  Documents\n"
     ]
    }
   ],
   "source": [
    "#result_document_text_list = [a[\"text\"] for a in result_documents_list_REAL] # wir müssen erst result_documents_list[\"text\"] \"entpacken\" von cursor\n",
    "result_document_text_list = list()\n",
    "for i in range(len(result_documents_list_REAL)):\n",
    "    try:\n",
    "        result_document_text_list.append(result_documents_list_REAL[i][\"text\"]) # Fehler: KeyError: muss abgefangen werden\n",
    "    except KeyError:\n",
    "        pass\n",
    "print(\"We still have \", len(result_document_text_list), \" Documents\")"
   ]
  },
  {
   "cell_type": "code",
   "execution_count": 5,
   "metadata": {},
   "outputs": [],
   "source": [
    "tfidf = TfidfVectorizer()\n",
    "tfidf_values = tfidf.fit_transform(result_document_text_list) # output= <class 'scipy.sparse.csr.csr_matrix'>"
   ]
  },
  {
   "cell_type": "code",
   "execution_count": 6,
   "metadata": {},
   "outputs": [
    {
     "data": {
      "text/plain": [
       "scipy.sparse.csr.csr_matrix"
      ]
     },
     "execution_count": 6,
     "metadata": {},
     "output_type": "execute_result"
    }
   ],
   "source": [
    "type(tfidf_values)"
   ]
  },
  {
   "cell_type": "code",
   "execution_count": 7,
   "metadata": {},
   "outputs": [],
   "source": [
    "result_dict_with_ids = {}\n",
    "for i in range(len(result_documents_list_REAL)):\n",
    "    key = str(result_documents_list_REAL[i][\"_id\"]) # 5c2fb3c988df422822370767\n",
    "    result_dict_with_ids[key] = tfidf_values[i]"
   ]
  },
  {
   "cell_type": "code",
   "execution_count": 8,
   "metadata": {},
   "outputs": [
    {
     "data": {
      "text/plain": [
       "<1x45374 sparse matrix of type '<class 'numpy.float64'>'\n",
       "\twith 64 stored elements in Compressed Sparse Row format>"
      ]
     },
     "execution_count": 8,
     "metadata": {},
     "output_type": "execute_result"
    }
   ],
   "source": [
    "result_dict_with_ids[\"5c2fb3c988df422822370767\"]"
   ]
  },
  {
   "cell_type": "markdown",
   "metadata": {},
   "source": [
    "### finished pre TF_IDF - Calculation here"
   ]
  },
  {
   "cell_type": "markdown",
   "metadata": {},
   "source": [
    "--------------------------------"
   ]
  },
  {
   "cell_type": "code",
   "execution_count": 9,
   "metadata": {},
   "outputs": [
    {
     "data": {
      "text/plain": [
       "['zwei', 'maskiert', 'maenn', 'hab', 'heut']"
      ]
     },
     "execution_count": 9,
     "metadata": {},
     "output_type": "execute_result"
    }
   ],
   "source": [
    "search_term = \"zwei maskierte männer haben heute\"\n",
    "\n",
    "preprocessor = Preprocessor.Preprocessor()\n",
    "tokenized_words = preprocessor.tokenizing_without_punc(search_term)\n",
    "stemmed_search_term = preprocessor.stemming_words(tokenized_words)\n",
    "stemmed_search_term"
   ]
  },
  {
   "cell_type": "code",
   "execution_count": 10,
   "metadata": {},
   "outputs": [
    {
     "name": "stdout",
     "output_type": "stream",
     "text": [
      "['zwei', 'maskierte', 'maenner', 'haben', 'heute']\n",
      "zwei\n",
      "maskiert\n",
      "maenn\n",
      "hab\n",
      "heut\n"
     ]
    },
    {
     "data": {
      "text/plain": [
       "set"
      ]
     },
     "execution_count": 10,
     "metadata": {},
     "output_type": "execute_result"
    }
   ],
   "source": [
    "print(tokenized_words)\n",
    "result_ids = set()\n",
    "collection_inverse_index = db.crawlerdb_INVERSE_INDEX\n",
    "for i in stemmed_search_term:\n",
    "    print(i)\n",
    "    record = collection_inverse_index.find({\"word\": i})\n",
    "    ids_in_tupel_now_in_list = list() # [\"sadfasdf\", \"sadfsda\", ...]\n",
    "    for m in record:\n",
    "        current = list(m[\"documents\"]) # [\"asdfsadf\"]\n",
    "        for a in current:\n",
    "            result_ids.add(a)\n",
    "type(result_ids)"
   ]
  },
  {
   "cell_type": "markdown",
   "metadata": {},
   "source": [
    "### match ids to document"
   ]
  },
  {
   "cell_type": "code",
   "execution_count": 11,
   "metadata": {},
   "outputs": [],
   "source": [
    "object_ids = list()\n",
    "for i in result_ids:\n",
    "    object_ids.append(ObjectId(i))"
   ]
  },
  {
   "cell_type": "code",
   "execution_count": 12,
   "metadata": {},
   "outputs": [],
   "source": [
    "less_document_actually = list()\n",
    "for i in result_ids:\n",
    "    less_document_actually.append(result_dict_with_ids[i])"
   ]
  },
  {
   "cell_type": "markdown",
   "metadata": {},
   "source": [
    "### Get from our TF-IDF - Vector the given important documents"
   ]
  },
  {
   "cell_type": "markdown",
   "metadata": {},
   "source": [
    "### calculate tf-idf"
   ]
  },
  {
   "cell_type": "code",
   "execution_count": 13,
   "metadata": {},
   "outputs": [
    {
     "name": "stdout",
     "output_type": "stream",
     "text": [
      "[[0. 0. 0. ... 0. 0. 0.]]\n"
     ]
    }
   ],
   "source": [
    "tfidf_search_term = tfidf.transform([search_term]) # transform passt idf nicht an\n",
    "print(tfidf_search_term.todense())"
   ]
  },
  {
   "cell_type": "code",
   "execution_count": 14,
   "metadata": {},
   "outputs": [
    {
     "name": "stdout",
     "output_type": "stream",
     "text": [
      "We have the following number of important selected documents for example from inverse index:  6759\n",
      "We have  45374  diffrent words\n"
     ]
    }
   ],
   "source": [
    "less_documents = list()\n",
    "for a in range(len(less_document_actually)):\n",
    "    less_documents.append(less_document_actually[a].toarray().reshape(-1))\n",
    "print(\"We have the following number of important selected documents for example from inverse index: \", len(less_documents))\n",
    "print(\"We have \",less_documents[0].size, \" diffrent words\")\n",
    "\n",
    "cos_sim_results = list()\n",
    "for i in range(len(less_documents)): # actually all values in tfidf_values.todense().shape[0] but that is not possible\n",
    "        #aufpassen: search term was array now its a string\n",
    "    tfidf_values_tmp = less_documents[i]\n",
    "    tfidf_search_term_tmp = np.array(tfidf_search_term.todense()).reshape(-1)\n",
    "    \n",
    "    first = np.dot(tfidf_values_tmp, tfidf_search_term_tmp)\n",
    "    second = (norm(tfidf_values_tmp)*norm(tfidf_search_term_tmp))\n",
    "    cos_sim = first * 1.0/second\n",
    "    cos_sim_results.append(cos_sim)\n",
    "    #print(\"cos sim of the current - document with the search-string is: \",cos_sim)"
   ]
  },
  {
   "cell_type": "code",
   "execution_count": 15,
   "metadata": {},
   "outputs": [],
   "source": [
    "new_ids_with_scores = {}\n",
    "i = 0\n",
    "for a in result_ids:\n",
    "    new_ids_with_scores[a] = cos_sim_results[i]\n",
    "    i+=1"
   ]
  },
  {
   "cell_type": "code",
   "execution_count": 16,
   "metadata": {},
   "outputs": [
    {
     "data": {
      "text/plain": [
       "[('5c2fb3f388df422822371826', 0.34183384067230027),\n",
       " ('5c2fb3ce88df42282237098a', 0.29872748793568155),\n",
       " ('5c2fb3d388df422822370b3f', 0.283940111649091),\n",
       " ('5c2fb40b88df42282237219d', 0.2740493354172982),\n",
       " ('5c2fb3e288df422822371167', 0.24469651063750925),\n",
       " ('5c2fb40088df422822371d58', 0.23269913382686297),\n",
       " ('5c2fb41e88df422822372901', 0.23015837407963186),\n",
       " ('5c2fb3de88df422822370fdb', 0.2298265510043141),\n",
       " ('5c2fb3c988df422822370767', 0.2191374831768901),\n",
       " ('5c2fe74088df4228e78630b7', 0.21758569944231765),\n",
       " ('5c2fb3d688df422822370cc4', 0.21080060687491256),\n",
       " ('5c2fb41188df4228223723f7', 0.20322017904480022),\n",
       " ('5c2fb3da88df422822370e26', 0.20121357613811386),\n",
       " ('5c2fb40c88df422822372212', 0.1992939653297332),\n",
       " ('5c2fb41888df4228223726ca', 0.1958831997975754),\n",
       " ('5c2fb3d788df422822370d19', 0.19513370354985532),\n",
       " ('5c2fb3c988df42282237076a', 0.1895255063239579),\n",
       " ('5c2fb40788df422822371fe2', 0.18892710736724608),\n",
       " ('5c2fb40f88df42282237234f', 0.1866542661527229),\n",
       " ('5c2fb3f988df422822371aba', 0.18599717653545528)]"
      ]
     },
     "execution_count": 16,
     "metadata": {},
     "output_type": "execute_result"
    }
   ],
   "source": [
    "sorted_d = sorted(new_ids_with_scores.items(), key=operator.itemgetter(1), reverse=True)[0:20]\n",
    "sorted_d"
   ]
  },
  {
   "cell_type": "code",
   "execution_count": 17,
   "metadata": {},
   "outputs": [],
   "source": [
    "ids = [ObjectId(sorted_d[i][0]) for i in range(len(sorted_d))]"
   ]
  },
  {
   "cell_type": "code",
   "execution_count": 18,
   "metadata": {},
   "outputs": [
    {
     "name": "stdout",
     "output_type": "stream",
     "text": [
      "<class 'dict'>\n"
     ]
    },
    {
     "data": {
      "text/plain": [
       "{'_id': ObjectId('5c2fb3c988df422822370767'),\n",
       " 'date': '23.11.2018',\n",
       " 'title': 'duo überfällt apotheke',\n",
       " 'location': 'Neukölln',\n",
       " 'text': 'zwei maskierte männer haben heute vormittag eine apotheke in britz überfallen bisherigen erkenntnissen zufolge betrat das duo gegen 1130 uhr das geschäft am britzer damm ein täter ging mit einem messer in der hand zu einer 35 jahre alten angestellten die gerade eine kundin bediente bedrohte sie und verlangte geld nachdem die mitarbeiterin die kasse geöffnet hatte griffen die räuber selbst in diese und flüchteten anschließend in richtung hannemannstraße das raubkommissariat der polizeidirektion 5 übernahm die ermittlungen',\n",
       " 'number': ['Nr. 2455', '']}"
      ]
     },
     "execution_count": 18,
     "metadata": {},
     "output_type": "execute_result"
    }
   ],
   "source": [
    "documents = collection.find({\"_id\" : {\"$in\" : ids}})\n",
    "print(type(documents[0]))\n",
    "documents[0]"
   ]
  },
  {
   "cell_type": "code",
   "execution_count": 19,
   "metadata": {},
   "outputs": [
    {
     "data": {
      "text/plain": [
       "[{'_id': ObjectId('5c2fb3c988df422822370767'),\n",
       "  'date': '23.11.2018',\n",
       "  'title': 'duo überfällt apotheke',\n",
       "  'location': 'Neukölln',\n",
       "  'text': 'zwei maskierte männer haben heute vormittag eine apotheke in britz überfallen bisherigen erkenntnissen zufolge betrat das duo gegen 1130 uhr das geschäft am britzer damm ein täter ging mit einem messer in der hand zu einer 35 jahre alten angestellten die gerade eine kundin bediente bedrohte sie und verlangte geld nachdem die mitarbeiterin die kasse geöffnet hatte griffen die räuber selbst in diese und flüchteten anschließend in richtung hannemannstraße das raubkommissariat der polizeidirektion 5 übernahm die ermittlungen',\n",
       "  'number': ['Nr. 2455', ''],\n",
       "  'cossim': 0.34183384067230027},\n",
       " {'_id': ObjectId('5c2fb3c988df42282237076a'),\n",
       "  'date': '24.11.2018',\n",
       "  'title': 'bekleidungsgeschäft überfallen und beraubt',\n",
       "  'location': 'Charlottenburg-Wilmersdorf',\n",
       "  'text': 'maskierte überfielen gestern abend ein geschäft in charlottenburg gegen 2120 uhr drangen zwei maskierte über eine seitentür in das bekleidungsgeschäft am kurfürstendamm ein bedrohten die 50-jährige geschäftsführerin mit einem messer und zwangen sie zu boden anschließend gingen die beiden räuber in einen nebenraum raubten dort geld und flüchteten anschließend wieder über die nebentür in unbekannte richtung die 50-jährige erlitt leichte verletzungen an den händen welche von sanitätern vor ort behandelt wurden die ermittlungen führt das zuständige raubkommissariat der polizeidirektion 2',\n",
       "  'number': ['Nr. 2458', ''],\n",
       "  'cossim': 0.29872748793568155},\n",
       " {'_id': ObjectId('5c2fb3ce88df42282237098a'),\n",
       "  'date': '12.12.2015',\n",
       "  'title': 'blumenladen überfallen',\n",
       "  'location': 'Steglitz - Zehlendorf',\n",
       "  'text': 'zwei maskierte männer überfielen heute morgen ein geschäft in steglitz nach dem jetzigen stand der ermittlungen war die filialleiterin gegen 815 uhr gerade damit beschäftigt die ware in und vor dem blumengeschäft in der schloßstraße aufzubauen als zwei maskierte männer den verkaufsraum betraten dort soll die 30-jährige dann mit einer schusswaffe bedroht und in einen lagerraum gedrängt worden sein nachdem die täter sie gefesselt hatten sollen sie die einnahmen genommen haben und in unbekannte richtung geflüchtet sein die überfallene konnte sich selbst befreien und alarmierte die polizei sie musste mit einem leichten schock am ort ambulant behandelt werden das raubkommissariat der direktion 4 hat die weiteren ermittlungen übernommen',\n",
       "  'number': ['Nr. 3098', ''],\n",
       "  'cossim': 0.283940111649091},\n",
       " {'_id': ObjectId('5c2fb3d388df422822370b3f'),\n",
       "  'date': '25.11.2015',\n",
       "  'title': 'juwelier überfallen und beraubt',\n",
       "  'location': 'Charlottenburg - Wilmersdorf',\n",
       "  'text': 'am 24 november 2015 überfielen mehrere unbekannte zum teil maskierte männer ein juweliergeschäft in charlottenburg',\n",
       "  'number': ['Nr. 2933', ''],\n",
       "  'cossim': 0.2740493354172982},\n",
       " {'_id': ObjectId('5c2fb3d688df422822370cc4'),\n",
       "  'date': '02.11.2016',\n",
       "  'title': 'überfall auf juweliergeschäft',\n",
       "  'location': 'Tempelhof - Schöneberg',\n",
       "  'text': 'gestern nachmittag überfielen drei maskierte ein juweliergeschäft in schöneberg den aussagen eines 60 jahre alten mitarbeiters zufolge drangen gegen 1530 uhr drei maskierte in das geschäft in der passauer straße ein anschließend zerstörten sie die verglasung mehrerer vitrinen und flüchteten mit der beute in richtung lietzenburger straße der angestellte blieb unverletzt',\n",
       "  'number': ['Nr. 2696', ''],\n",
       "  'cossim': 0.24469651063750925},\n",
       " {'_id': ObjectId('5c2fb3d788df422822370d19'),\n",
       "  'date': '12.11.2017',\n",
       "  'title': 'supermarkt überfallen',\n",
       "  'location': 'Neukölln',\n",
       "  'text': 'vier männer überfielen gestern abend einen discounter in britz nach angaben der überfallenen angestellten zwei frauen im alter von 19 und 29 jahren und ihrem 23-jährigen kollegen sollen gegen 20 uhr vier maskierte männer in den markt am tempelhofer weg gestürmt sein unter vorhalten eines messers einer pistole und eines schlagstocks sollen die vier geld aus den kassen und dem büro gefordert haben das kriminelle quartett soll mit der beute in richtung gradestraße geflüchtet sein zwei angestellte wurden durch stöße in die rücken leicht verletzt verzichteten jedoch zunächst auf eine ärztliche behandlung das raubkommissariat der polizeidirektion 5 hat die weiteren ermittlungen übernommen',\n",
       "  'number': ['Nr. 2573', ''],\n",
       "  'cossim': 0.23269913382686297},\n",
       " {'_id': ObjectId('5c2fb3da88df422822370e26'),\n",
       "  'date': '27.10.2015',\n",
       "  'title': 'raub mit axt machete und messer',\n",
       "  'location': 'Neukölln',\n",
       "  'text': 'heute früh wurde die polizei zu einem überfall auf einen spätkauf in die okerstraße in neukölln alarmiert nach den bisherigen erkenntnissen sollen drei maskierte männer gegen 415 uhr unter vorhalten einer axt einer machete und eines messers die tageseinnahmen geraubt haben während ein tatverdächtiger den 37-jährigen ladeninhaber beleidigt und bedroht habe sollen seine komplizen die kasse geleert und zusätzlich mehrere zigarettenschachteln gestohlen haben die täter flüchteten in richtung u-bahnhof leinestraße der 37-jährige blieb unverletzt',\n",
       "  'number': ['Nr. 2590', ''],\n",
       "  'cossim': 0.23015837407963186},\n",
       " {'_id': ObjectId('5c2fb3de88df422822370fdb'),\n",
       "  'date': '14.10.2017',\n",
       "  'title': 'von trio beraubt',\n",
       "  'location': 'Friedrichshain-Kreuzberg',\n",
       "  'text': 'heute früh sollen drei unbekannte versucht haben einen jungen mann in friedrichshain zu berauben nach angaben des 18-jährigen sollen drei männer ihn gegen 3 uhr auf dem u-bahnhof warschauer straße angesprochen haben zwei männer der gruppe haben ihn dann mit messern bedroht und die herausgabe von geld gefordert als der junge mann sich geweigert habe soll einer der angreifer ihn mit dem messer in den oberarm gestochen haben verletzt flüchtete der 18-jährige auf die straße und begab sich selbständig in ein krankenhaus',\n",
       "  'number': ['Nr. 2335', ''],\n",
       "  'cossim': 0.2298265510043141},\n",
       " {'_id': ObjectId('5c2fb3e288df422822371167'),\n",
       "  'date': '24.09.2015',\n",
       "  'title': 'lokal überfallen',\n",
       "  'location': 'Neukölln',\n",
       "  'text': 'zwei maskierte täter überfielen in der vergangenen nacht ein lokal in neukölln gegen 130 uhr betraten die bewaffneten männer die räume in der herrfurthstraße ein räuber bewaffnet mit messer und pfefferspray forderte geld von der angestellten und begab sich hinter den tresen schließlich nahm sich der maskierte die einnahmen und flüchtete zusammen mit seinem mittäter der an der eingangstür schmiere gestanden hatte in richtung hermannstraße verletzt wurde niemand das raubkommissariat der polizeidirektion 5 hat die ermittlungen zu den tätern übernommen',\n",
       "  'number': ['', 'Nr.2268'],\n",
       "  'cossim': 0.2191374831768901},\n",
       " {'_id': ObjectId('5c2fb3f388df422822371826'),\n",
       "  'date': '08.07.2016',\n",
       "  'title': 'geschäft mit postfiliale beraubt',\n",
       "  'location': 'Tempelhof - Schöneberg',\n",
       "  'text': 'zwei maskierte männer überfielen heute vormittag in tempelhof ein papiergeschäft mit einer integrierten postfiliale',\n",
       "  'number': ['Nr. 1755', ''],\n",
       "  'cossim': 0.21758569944231765},\n",
       " {'_id': ObjectId('5c2fb3f988df422822371aba'),\n",
       "  'date': '05.06.2017',\n",
       "  'title': 'festgenommene ins polizeigewahrsam gebracht',\n",
       "  'location': 'Pankow',\n",
       "  'text': 'polizeibeamte haben gestern vormittag in prenzlauer berg zwei männer nach fahrraddiebstählen vorläufig festgenommen ein zeuge alarmierte gegen 11 uhr die polizei zur greifenhagener straße und gab an dass er zwei männer dabei beobachtet hatte wie diese zwei angeschlossene fahrräder von der rückseite eines einkaufszentrums entwendeten und mit diesen zu einem nahegelegenen parkplatz eines discounters fuhren dort sollen die beiden männer die zweiräder zwei komplizen übergeben haben die die fahrräder auseinandergebaut und in einem transporter geladen haben während die hinzugerufenen polizisten die beiden männer am transporter festnehmen konnten gelang den beiden männern die zuvor die fahrräder gestohlen hatten die flucht im transporter entdeckten die beamten neben den gestohlenen rädern weitere fahrradrahmen reifen sowie eine werkzeugtasche die gegenstände wurden sichergestellt die ermittlungen zu den besitzern der fahrräder dauern an die festgenommenen\\n    im alter von 30 und 41 jahren wurden ins polizeigewahrsam gebracht und nach erkennungsdienstlichen behandlungen dem weiter ermittelnden polizeiabschnitt 16 übergeben',\n",
       "  'number': ['Nr. 1263', ''],\n",
       "  'cossim': 0.21080060687491256},\n",
       " {'_id': ObjectId('5c2fb40088df422822371d58'),\n",
       "  'date': '13.10.2018',\n",
       "  'title': 'raubüberfall mit schusswaffe',\n",
       "  'location': 'Mitte',\n",
       "  'text': 'mit einer schusswaffe beraubten in der vergangenen nacht zwei maskierte ein hotel in moabit ersten erkenntnissen zufolge betraten gegen 330 uhr zwei maskierte männer das hotel in der heidestraße und bedrohten den anwesenden angestellten mit der waffe anschließend durchsuchten sie gleich das rezeptionsbüro und stahlen dabei das funktelefon des 31-jährigen bevor sie in unbekannte richtung flüchteten nahmen sie noch geld aus der kasse mit der unverletzt gebliebene concierge alarmierte die polizei eine absuche der umgebung verlief erfolglos die weiteren ermittlungen führt die kriminalpolizei der polizeidirektion 3',\n",
       "  'number': ['Nr. 2155', ''],\n",
       "  'cossim': 0.20322017904480022},\n",
       " {'_id': ObjectId('5c2fb40788df422822371fe2'),\n",
       "  'date': '21.09.2018',\n",
       "  'title': 'automatencafé überfallen',\n",
       "  'location': 'Neukölln',\n",
       "  'text': 'in der vergangenen nacht überfielen drei maskierte ein geschäft in neukölln den angaben des überfallenen 26 jahre alten mitarbeiters zufolge seien gegen 1 uhr drei maskierte in das automatencafé in der herrfurthstraße gestürmt und forderten unter vorhalt einer schusswaffe eines messers und eines pfeffersprays die herausgabe von geld anschließend sollen die drei noch auf die automaten eingetreten und dem angestellten die waffe an den kopf gehalten haben bevor sie mit ihrer beute in richtung werbellinstraße flüchteten der 26-jährige blieb körperlich unverletzt',\n",
       "  'number': ['Nr. 1960', ''],\n",
       "  'cossim': 0.20121357613811386},\n",
       " {'_id': ObjectId('5c2fb40b88df42282237219d'),\n",
       "  'date': '02.04.2016',\n",
       "  'title': 'raub auf apotheke',\n",
       "  'location': 'Reinickendorf',\n",
       "  'text': 'gestern nachmittag überfielen zwei maskierte männer eine apotheke in wittenau gegen 1445 uhr betrat das duo das geschäft in der oranienburger straße einer der beiden soll sich dann hinter den verkaufstresen begeben und die angestellte aufgefordert haben die kasse zu öffnen die 46-jährige kam dieser aufforderung nach der maskierte nahm das geld und flüchtete mit seinem komplizen beim hinausgehen soll einer der beiden mutmaßlichen räuber reizgas in richtung der mitarbeiterin gesprüht haben auf der flucht über die oranienburger straße in richtung alt-wittenau sollen die unbekannt gebliebenen männer auch noch einen 17-jährigen passanten mit dem reizstoff besprüht haben die überfallene und der zeuge erlitten leichte atemwegsreizungen ein raubkommissariat der direktion 1 übernahm die ermittlungen',\n",
       "  'number': ['Nr. 0862', ''],\n",
       "  'cossim': 0.1992939653297332},\n",
       " {'_id': ObjectId('5c2fb40c88df422822372212'),\n",
       "  'date': '25.03.2016',\n",
       "  'title': 'mutmaßliche autoknacker festgenommen',\n",
       "  'location': 'Pankow',\n",
       "  'text': 'heute früh nahmen zivilfahnder der direktion 1 in weißensee zwei mutmaßliche autoeinbrecher fest nach seinen angaben hörte ein 39-jähriger anwohner in seiner wohnung in der behaimstraße einen lauten knall habe dann vom fenster aus zwei männer beobachtet die sich an einem bmw zu schaffen machten und alarmierte dann die polizei die wenig später eintreffenden beamten nahmen auf grund der personenbeschreibungen des zeugen in tatortnähe zwei männer fest und entdeckten auf einem nahegelegenen hinterhof die mutmaßliche tatbeute die festgenommenen zwei junge männer im alter von 20 und 21 jahren wurden für ein einbruchskommissariat der direktion 1 eingeliefert das die weiteren ermittlungen übernahm',\n",
       "  'number': ['Nr. 0799', ''],\n",
       "  'cossim': 0.1958831997975754},\n",
       " {'_id': ObjectId('5c2fb40f88df42282237234f'),\n",
       "  'date': '16.02.2017',\n",
       "  'title': 'lebensmitteldiscounter überfallen',\n",
       "  'location': 'Friedrichshain - Kreuzberg',\n",
       "  'text': 'unbekannte haben gestern abend in kreuzberg einen lebensmitteldiscounter überfallen nach den bisherigen erkenntnissen betraten zwei maskierte männer gegen 2050 uhr das geschäft in der gitschiner straße sollen eine 53-jährige kassiererin und ihren 46 jahre alten kollegen mit einer schusswaffe sowie einem reizstoffsprühgerät bedroht und geld gefordert haben während die mitarbeiterin die kasse verließ öffnete der 46-jährige angestellte seine kasse ein räuber griff sich das geld und flüchtete anschließend mit seinem komplizen in richtung prinzenstraße die mitarbeiter des discounters sowie kunden blieben unverletzt das raubkommissariat der polizeidirektion 5 ermittelt',\n",
       "  'number': ['Nr. 0343', ''],\n",
       "  'cossim': 0.19513370354985532},\n",
       " {'_id': ObjectId('5c2fb41188df4228223723f7'),\n",
       "  'date': '06.02.2017',\n",
       "  'title': 'maskierte überfallen getränkemarkt',\n",
       "  'location': 'Mitte',\n",
       "  'text': 'unbekannte haben in der vergangenen nacht in wedding einen getränkemarkt überfallen aussagen zufolge betragen gegen 2235 uhr zwei maskierte männer den laden in der triftstraße ein täter schlug habe zunächst mit einem schlagstock auf den tresen geschlagen und von einem 40-jährigen mitarbeiter geld verlangt nachdem der angestellte dieses übergeben hatte soll der zweite täter ihn mit reizgas besprüht haben anschließend flüchteten die räuber der 40-jährige hatte augenreizungen erlitten das raubkommissariat der polizeidirektion 3 ermittelt',\n",
       "  'number': ['Nr. 0247', ''],\n",
       "  'cossim': 0.1895255063239579},\n",
       " {'_id': ObjectId('5c2fb41888df4228223726ca'),\n",
       "  'date': '12.02.2016',\n",
       "  'title': 'blumengroßhandel überfallen',\n",
       "  'location': 'Pankow',\n",
       "  'text': 'zwei maskierte und mit einer langwaffe sowie einer pistole bewaffnete männer haben gestern abend ein blumengroßhandelsgeschäft in französisch buchholz überfallen gegen 2035 uhr stürmten die beiden nach angaben der 48-jährigen angestellten in das geschäft in der bucher straße während einer der männer an der tür stehenblieb sei der andere mann auf sie zugekommen hätte sie mit einer pistole bedroht und geld gefordert die frau händigte geld aus woraufhin die unbekannten flüchteten die frau blieb unverletzt',\n",
       "  'number': ['Nr. 0408', ''],\n",
       "  'cossim': 0.18892710736724608},\n",
       " {'_id': ObjectId('5c2fb41e88df422822372901'),\n",
       "  'date': '25.05.2018',\n",
       "  'title': 'gebäude besprüht',\n",
       "  'location': 'Charlottenburg-Wilmersdorf',\n",
       "  'text': 'zwei maskierte besprühten heute früh in wilmersdorf ein verlagsgebäude gegen 330 uhr bemerkte ein mitarbeiter eines sicherheitsunternehmens die männer die am hohenzollerndamm das gebäude mit roter farbe besprühten anschließend flüchteten die täter und entkamen der polizeiliche staatsschutz beim landeskriminalamt ermittelt',\n",
       "  'number': ['Nr. 1153', ''],\n",
       "  'cossim': 0.1866542661527229},\n",
       " {'_id': ObjectId('5c2fe74088df4228e78630b7'),\n",
       "  'date': '07.09.2018',\n",
       "  'title': 'auf dem parkplatz bestohlen',\n",
       "  'location': 'Meyenburg',\n",
       "  'text': 'zwei männer aus polen im alter von 21 jahren parkten heute morgen um 0200 uhr auf einem parkplatz an der bundesautobahn 24 in richtung hamburg auf dem parkplatz traten plötzlich zwei unbekannte männer mit südländischem aussehen an den kia der männer heran einer stand an der fahrertür und der andere an der beifahrertür durch ein gespräch wurden die männer im wagen abgelenkt in dieser zeit öffnete der mann an der beifahrertür die hintere tür des pkw und entwendete das portemonnaie eines der männer anschließend flohen die täter in richtung autobahn die kripo ermittelt',\n",
       "  'number': '1161335',\n",
       "  'cossim': 0.18599717653545528}]"
      ]
     },
     "execution_count": 19,
     "metadata": {},
     "output_type": "execute_result"
    }
   ],
   "source": [
    "list_of_documents = list(documents)\n",
    "for i in range(len(list_of_documents)):\n",
    "    list_of_documents[i][\"cossim\"] = sorted_d[i][1]"
   ]
  },
  {
   "cell_type": "code",
   "execution_count": null,
   "metadata": {},
   "outputs": [],
   "source": []
  }
 ],
 "metadata": {
  "kernelspec": {
   "display_name": "Python 3",
   "language": "python",
   "name": "python3"
  },
  "language_info": {
   "codemirror_mode": {
    "name": "ipython",
    "version": 3
   },
   "file_extension": ".py",
   "mimetype": "text/x-python",
   "name": "python",
   "nbconvert_exporter": "python",
   "pygments_lexer": "ipython3",
   "version": "3.7.1"
  }
 },
 "nbformat": 4,
 "nbformat_minor": 2
}
