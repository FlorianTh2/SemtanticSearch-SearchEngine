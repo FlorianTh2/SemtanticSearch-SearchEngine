{
 "cells": [
  {
   "cell_type": "code",
   "execution_count": 30,
   "metadata": {},
   "outputs": [],
   "source": [
    "import numpy as np\n",
    "import nltk\n",
    "from nltk.text import TextCollection\n",
    "from pymongo import MongoClient\n",
    "from sklearn.feature_extraction.text import TfidfVectorizer\n",
    "import pandas as pd\n",
    "from numpy import dot\n",
    "from numpy.linalg import norm"
   ]
  },
  {
   "cell_type": "code",
   "execution_count": 31,
   "metadata": {},
   "outputs": [
    {
     "name": "stdout",
     "output_type": "stream",
     "text": [
      "We got  38525  Documents\n"
     ]
    }
   ],
   "source": [
    "client = MongoClient(\"localhost\")\n",
    "db=client.crawlerdb_WORK_TFIDF # crawl_database_1 is the db name\n",
    "collection = db.crawlerdb\n",
    "result_documents_list_REAL = list(collection.find({})) # find returns cursor, like an iterator in scala\n",
    "print(\"We got \", len(result_documents_list_REAL), \" Documents\")"
   ]
  },
  {
   "cell_type": "code",
   "execution_count": 32,
   "metadata": {},
   "outputs": [],
   "source": [
    "result_documents_list = [{'_id': '5c2b861a7faca327135730a6',\n",
    "  'date': '27.06.2017',\n",
    "  'title': 'Ein Schwerverletzter und zwei Leichtverletzte bei Auseinandersetzung',\n",
    "  'location': 'Mitte',\n",
    "  'text': 'hallo hier bin In der Nacht kam es in Mitte zu einer Auseinandersetzung zwischen mehreren Personen, bei der drei Männer verletzt wurden. Ersten Ermittlungen zufolge sollen sich die drei Verletzten, im Alter von 18, 20 und 21 Jahren, gemeinsam mit Freunden und ihnen Unbekannten gegen Mitternacht am Neptunbrunnen in der Spandauer Straße aufgehalten haben. Plötzlich habe ein Unbekannter eine Glasfasche geworfen, die jedoch niemanden traf. Daraufhin sei es zu einem Handgemenge gekommen, in dessen Verlauf zwei Männer Reizgas versprühten. Die beiden 18 und 20 Jahre alten Männer erlitten leichte Augenreizungen, die zum Teil ambulant von alarmierten Rettungskräften behandelt wurden. Im Zuge der Anzeigenaufnahme erfuhren die Beamten, dass unter der Liebknechtbrücke der 21-Jährige liege, der eine Schnittwunde aufwies. Diese habe er von einem ihm namentlich nicht bekannten Mann im Anschluss an das Handgemenge mit einem Messer zugefügt bekommen. Rettungskräfte brachten den Schwerverletzten zur\\n    stationären Behandlung in eine Klinik. Die genauen Hintergründe der Tat sind nun Teil der Ermittlungen, die die Kriminalpolizei der Direktion 3 führt.',\n",
    "  'number': ['Nr. 1431', '']},\n",
    " {'_id': '5c2b861a7faca327135730a7',\n",
    "  'date': '17.07.2017',\n",
    "  'title': 'Ein Krankenwagenunfall',\n",
    "  'location': 'Osten',\n",
    "  'text': 'hallo Während des Tages kam es in Mitte zu einer Auseinandersetzung zwischen mehreren Personen, bei der drei Männer verletzt wurden. Ersten Ermittlungen zufolge sollen sich die drei Verletzten, im Alter von 18, 20 und 21 Jahren, gemeinsam mit Freunden und ihnen Unbekannten gegen Mitternacht am Neptunbrunnen in der Spandauer Straße aufgehalten haben. Plötzlich habe ein Unbekannter eine Glasfasche geworfen, die jedoch niemanden traf. Daraufhin sei es zu einem Handgemenge gekommen, in dessen Verlauf zwei Männer Reizgas versprühten. Die beiden 18 und 20 Jahre alten Männer erlitten leichte Augenreizungen, die zum Teil ambulant von alarmierten Rettungskräften behandelt wurden. Im Zuge der Anzeigenaufnahme erfuhren die Beamten, dass unter der Liebknechtbrücke der 21-Jährige liege, der eine Schnittwunde aufwies. Diese habe er von einem ihm namentlich nicht bekannten Mann im Anschluss an das Handgemenge mit einem Messer zugefügt bekommen. Rettungskräfte brachten den Schwerverletzten zur\\n    stationären Behandlung in eine Klinik. Die genauen Hintergründe der Tat sind nun Teil der Ermittlungen, die die Kriminalpolizei der Direktion 3 führt.',\n",
    "  'number': ['Nr. 1430', '']},\n",
    " {'_id': '5c2b861a7faca327135730a8',\n",
    "  'date': '16.07.2017',\n",
    "  'title': 'Feuer in einem Haus',\n",
    "  'location': 'Westen',\n",
    "  'text': 'hier Während des Tages kam es in Mitte zu einem Konflikt zwischen mehreren Personen, bei der drei Männer verletzt wurden. Ersten Ermittlungen zufolge sollen sich die drei Verletzten, im Alter von 18, 20 und 21 Jahren, gemeinsam mit Freunden und ihnen Unbekannten gegen Mitternacht am Neptunbrunnen in der Spandauer Straße aufgehalten haben. Plötzlich habe ein Unbekannter eine Glasfasche geworfen, die jedoch niemanden traf. Daraufhin sei es zu einem Handgemenge gekommen, in dessen Verlauf zwei Männer Reizgas versprühten. Die beiden 18 und 20 Jahre alten Männer erlitten leichte Augenreizungen, die zum Teil ambulant von alarmierten Rettungskräften behandelt wurden. Im Zuge der Anzeigenaufnahme erfuhren die Beamten, dass unter der Liebknechtbrücke der 21-Jährige liege, der eine Schnittwunde aufwies. Diese habe er von einem ihm namentlich nicht bekannten Mann im Anschluss an das Handgemenge mit einem Messer zugefügt bekommen. Rettungskräfte brachten den Schwerverletzten zur\\n    stationären Behandlung in eine Klinik. Die genauen Hintergründe der Tat sind nun Teil der Ermittlungen, die die Kriminalpolizei der Direktion 3 führt.',\n",
    "  'number': ['Nr. 1432', '1430']},\n",
    " {'_id': '5c2b861a7faca327135730a9',\n",
    "  'date': '17.07.2017',\n",
    "  'title': 'Feuer in einem Haus',\n",
    "  'location': 'Westen',\n",
    "  'text': 'bin Während des Tages kam es in Mitte zu einem Konflikt zwischen einer Person, bei der 4 Männer verletzt wurden. Ersten Ermittlungen zufolge sollen sich die drei Verletzten, im Alter von 18, 20 und 21 Jahren, gemeinsam mit Freunden und ihnen Unbekannten gegen Mitternacht am Neptunbrunnen in der Spandauer Straße aufgehalten haben. Plötzlich habe ein Unbekannter eine Glasfasche geworfen, die jedoch niemanden traf. Daraufhin sei es zu einem Handgemenge gekommen, in dessen Verlauf zwei Männer Reizgas versprühten. Die beiden 18 und 20 Jahre alten Männer erlitten leichte Augenreizungen, die zum Teil ambulant von alarmierten Rettungskräften behandelt wurden. Im Zuge der Anzeigenaufnahme erfuhren die Beamten, dass unter der Liebknechtbrücke der 21-Jährige liege, der eine Schnittwunde aufwies. Diese habe er von einem ihm namentlich nicht bekannten Mann im Anschluss an das Handgemenge mit einem Messer zugefügt bekommen. Rettungskräfte brachten den Schwerverletzten zur\\n    stationären Behandlung in eine Klinik. Die genauen Hintergründe der Tat sind nun Teil der Ermittlungen, die die Kriminalpolizei der Direktion 3 führt.',\n",
    "  'number': ['Nr. 1428', '']},\n",
    " {'_id': '5c2b861a7faca327135730aa',\n",
    "  'date': '15.07.2017',\n",
    "  'title': 'Feuer in einem Haus',\n",
    "  'location': 'Norden',\n",
    "  'text': 'ich Während des Tages kam es in Mitte zu einem Konflikt zwischen einer Person, bei der 4 Männer verwunded wurden. Ersten Ermittlungen zufolge sollen sich die drei Verletzten, im Alter von 18, 20 und 21 Jahren, gemeinsam mit Freunden und ihnen Unbekannten gegen Mitternacht am Neptunbrunnen in der Spandauer Straße aufgehalten haben. Plötzlich habe ein Unbekannter eine Glasfasche geworfen, die jedoch niemanden traf. Daraufhin sei es zu einem Handgemenge gekommen, in dessen Verlauf zwei Männer Reizgas versprühten. Die beiden 18 und 20 Jahre alten Männer erlitten leichte Augenreizungen, die zum Teil ambulant von alarmierten Rettungskräften behandelt wurden. Im Zuge der Anzeigenaufnahme erfuhren die Beamten, dass unter der Liebknechtbrücke der 21-Jährige liege, der eine Schnittwunde aufwies. Diese habe er von einem ihm namentlich nicht bekannten Mann im Anschluss an das Handgemenge mit einem Messer zugefügt bekommen. Rettungskräfte brachten den Schwerverletzten zur\\n    stationären Behandlung in eine Klinik. Die genauen Hintergründe der Tat sind nun Teil der Ermittlungen, die die Kriminalpolizei der Direktion 3 führt.',\n",
    "  'number': ['Nr. 1427', '']}]"
   ]
  },
  {
   "cell_type": "code",
   "execution_count": 33,
   "metadata": {},
   "outputs": [
    {
     "name": "stdout",
     "output_type": "stream",
     "text": [
      "In der Nacht kam es in Mitte zu einer Auseinandersetzung zwischen mehreren Personen, bei der drei Männer verletzt wurden. Ersten Ermittlungen zufolge sollen sich die drei Verletzten, im Alter von 18, 20 und 21 Jahren, gemeinsam mit Freunden und ihnen Unbekannten gegen Mitternacht am Neptunbrunnen in der Spandauer Straße aufgehalten haben. Plötzlich habe ein Unbekannter eine Glasfasche geworfen, die jedoch niemanden traf. Daraufhin sei es zu einem Handgemenge gekommen, in dessen Verlauf zwei Männer Reizgas versprühten. Die beiden 18 und 20 Jahre alten Männer erlitten leichte Augenreizungen, die zum Teil ambulant von alarmierten Rettungskräften behandelt wurden. Im Zuge der Anzeigenaufnahme erfuhren die Beamten, dass unter der Liebknechtbrücke der 21-Jährige liege, der eine Schnittwunde aufwies. Diese habe er von einem ihm namentlich nicht bekannten Mann im Anschluss an das Handgemenge mit einem Messer zugefügt bekommen. Rettungskräfte brachten den Schwerverletzten zur\n",
      "    stationären Behandlung in eine Klinik. Die genauen Hintergründe der Tat sind nun Teil der Ermittlungen, die die Kriminalpolizei der Direktion 3 führt.\n"
     ]
    },
    {
     "data": {
      "text/plain": [
       "'Ein 22-Jähriger zeigte heute bei der Polizei an, dass er gestern Nachmittag in Oberschöneweide von einem Unbekannten beleidigt und bedroht worden sei. Des Weiteren hätte der Mann eine Glasflasche in seine Richtung geworfen, ihn mit einem Messer bedroht und ihn geschubst.\\n    Nach Angaben des 22-jährigen mit türkischem Migrationshintergrund, sei er gestern gegen 17 Uhr mit der Straßenbahn der Linie 67 in Richtung Schöneweide unterwegs gewesen. An der Haltestelle Wilhelminenhofstraße / Edisonstraße habe er einen anderen Fahrgast gebeten, seine laut gehörte Musik leiser zu stellen. Daraufhin hätte der Unbekannte ihn sofort laut angeschrien und ihn fremdenfeindlich beleidigt. Daraufhin sei der 22-Jährige von dem aggressiven Mann weggegangen und zwei Stationen später, am S-Bahnhof Schöneweide, ausgestiegen. Der Unbekannte sei dann ebenfalls ausgestiegen und wenig später habe der 22-Jährige hinter sich eine Glasflasche zerschellen hören und Glassplitter gespürt. Der Unbekannte sei dann von hinten an ihn herangetreten und habe ihn geschubst. Anschließend habe der aggressive Mann ein Messer aus dem Hosenbund gezogen und ihn damit aus rund drei Metern Entfernung bedroht. Ein Zeuge hätte den Bedrohten daraufhin plötzlich ergriffen und zur\\n    Vorhalle des Bahnhofs gedrängt um ihn aus der Gefahrensituation zu holen. Der verängstigte 22-Jährige sei daraufhin in eine S-Bahn gestiegen und davon gefahren. Die Polizei verständigte er erst heute.\\n    Der Polizeiliche Staatsschutz hat die weiteren Ermittlungen übernommen.'"
      ]
     },
     "execution_count": 33,
     "metadata": {},
     "output_type": "execute_result"
    }
   ],
   "source": [
    "#result_document_text_list = [a[\"text\"] for a in result_documents_list_REAL] # wir müssen erst result_documents_list[\"text\"] \"entpacken\" von cursor\n",
    "result_document_text_list = []\n",
    "for i in range(len(result_documents_list_REAL)):\n",
    "    try:\n",
    "        result_document_text_list.append(result_documents_list_REAL[i][\"text\"]) # Fehler: KeyError: muss abgefangen werden\n",
    "    except KeyError:\n",
    "        pass\n",
    "print(\"We still hab\")"
   ]
  },
  {
   "cell_type": "code",
   "execution_count": 6,
   "metadata": {},
   "outputs": [],
   "source": [
    "search_term = [\"hallo hier bin ich\"]"
   ]
  },
  {
   "cell_type": "code",
   "execution_count": 7,
   "metadata": {},
   "outputs": [
    {
     "name": "stdout",
     "output_type": "stream",
     "text": [
      "finished\n"
     ]
    }
   ],
   "source": [
    "tfidf = TfidfVectorizer()\n",
    "tfidf_values = tfidf.fit_transform(result_document_text_list)\n",
    "pd.DataFrame(tfidf_values.todense(),columns=tfidf.get_feature_names())\n",
    "print(\"finished\")"
   ]
  },
  {
   "cell_type": "code",
   "execution_count": 8,
   "metadata": {},
   "outputs": [],
   "source": [
    "tfidf_search_term = tfidf.transform(search_term)\n",
    "#tfidf_search_term.todense()"
   ]
  },
  {
   "cell_type": "code",
   "execution_count": 9,
   "metadata": {},
   "outputs": [
    {
     "name": "stdout",
     "output_type": "stream",
     "text": [
      "0.11870806104324305\n",
      "0.04134612329345565\n",
      "0.041085180497238465\n",
      "0.041233361834068095\n",
      "0.06296299609272991\n"
     ]
    }
   ],
   "source": [
    "for i in range(len(result_document_text_list)):\n",
    "    tfidf_values_tmp = np.array(tfidf_values.todense()[i]).reshape(-1)\n",
    "    tfidf_search_term_tmp = np.array(tfidf_search_term.todense()).reshape(-1)\n",
    "    \n",
    "    first = np.dot(tfidf_values_tmp, tfidf_search_term_tmp)\n",
    "    second = (norm(tfidf_values_tmp)*norm(tfidf_search_term_tmp))\n",
    "    cos_sim = first * 1.0/second\n",
    "    print(cos_sim)"
   ]
  },
  {
   "cell_type": "code",
   "execution_count": null,
   "metadata": {},
   "outputs": [],
   "source": []
  }
 ],
 "metadata": {
  "kernelspec": {
   "display_name": "Python 3",
   "language": "python",
   "name": "python3"
  },
  "language_info": {
   "codemirror_mode": {
    "name": "ipython",
    "version": 3
   },
   "file_extension": ".py",
   "mimetype": "text/x-python",
   "name": "python",
   "nbconvert_exporter": "python",
   "pygments_lexer": "ipython3",
   "version": "3.7.1"
  }
 },
 "nbformat": 4,
 "nbformat_minor": 2
}
