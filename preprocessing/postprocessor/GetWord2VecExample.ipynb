{
 "cells": [
  {
   "cell_type": "code",
   "execution_count": 1,
   "metadata": {},
   "outputs": [
    {
     "name": "stderr",
     "output_type": "stream",
     "text": [
      "C:\\Users\\micha\\Anaconda3\\envs\\spacy\\lib\\site-packages\\gensim\\utils.py:1197: UserWarning: detected Windows; aliasing chunkize to chunkize_serial\n",
      "  warnings.warn(\"detected Windows; aliasing chunkize to chunkize_serial\")\n"
     ]
    }
   ],
   "source": [
    "import gensim\n",
    "from gensim.models import Word2Vec\n",
    "import GetWord2Vec\n",
    "\n",
    "'''\n",
    "https://github.com/devmount/GermanWordEmbeddings\n",
    "'''\n",
    "word2vec = GetWord2Vec.GetWord2Vec()\n",
    "\n",
    "\n",
    "\n",
    "\n"
   ]
  },
  {
   "cell_type": "code",
   "execution_count": 8,
   "metadata": {},
   "outputs": [
    {
     "name": "stdout",
     "output_type": "stream",
     "text": [
      "{'Praesident': [('Vizepraesident', 0.8294107913970947), ('Praesidenten', 0.787183940410614), ('Vize-Praesident', 0.775363564491272), ('Ex-Praesident', 0.724016010761261), ('Interimspraesident', 0.6978515386581421), ('Vizepraesidenten', 0.6961798667907715), ('Ehrenpraesident', 0.6950501203536987), ('Chef', 0.6861876845359802), ('Noch-Praesident', 0.6794742345809937), ('Staatspraesident', 0.6717439889907837)], 'Polizei': [('Polzei', 0.8080041408538818), ('Bundespolizei', 0.7925708889961243), ('Polizeiinspektion_Kelheim', 0.7829813957214355), ('Kripo', 0.7656728029251099), ('Beamten', 0.7512449026107788), ('Kriminalpolizei', 0.7504527568817139), ('Autobahnpolizei', 0.7391035556793213), ('Polizeiinspektion_Ebern', 0.7374664545059204), ('Polizeiinspektion_Coburg', 0.7352970242500305), ('Kreispolizei', 0.7341117262840271)]}\n",
      "Wall time: 72.8 ms\n"
     ]
    }
   ],
   "source": [
    "%%time\n",
    "\n",
    "\n",
    "print(word2vec.getword2vec(\"Praesident der Polizei\"))\n"
   ]
  },
  {
   "cell_type": "code",
   "execution_count": 2,
   "metadata": {},
   "outputs": [
    {
     "name": "stdout",
     "output_type": "stream",
     "text": [
      "{'Haus': [('Wohnhaus', 0.7849439382553101), ('Wohnung', 0.7597730755805969), ('Anwesen', 0.7467959523200989), ('Gebaeude', 0.7445291876792908), ('Hauses', 0.7195432186126709), ('Reihenhaus', 0.711439847946167), ('Nachbarhaus', 0.711344301700592), ('Appartement', 0.7038042545318604), ('Hinterhof', 0.703404426574707), ('Gartenhaus', 0.7032928466796875)], 'Maus': [('Frosch', 0.6450132131576538), ('Eule', 0.6096822619438171), ('Spinne', 0.6018210053443909), ('Schnecke', 0.591096043586731), ('Ziege', 0.5888116359710693), ('Puppe', 0.5881814956665039), ('Ruchlak', 0.5848636627197266), ('Vogel', 0.5829367637634277), ('Katze', 0.5821031928062439), ('Papagei', 0.5784139633178711)], 'Creme': [('cremigen', 0.7727745771408081), ('Mascarpone', 0.7699246406555176), ('Balsamico', 0.7696694135665894), ('Fruchteis', 0.7680042386054993), ('saurer_Sahne', 0.7634389400482178), ('Lotion', 0.7620962858200073), ('Mehlschwitze', 0.7608310580253601), ('Buttercreme', 0.7598872780799866), ('Naturjoghurt', 0.7580931782722473), ('Krokant', 0.7566196918487549)]}\n",
      "Wall time: 7.46 s\n"
     ]
    }
   ],
   "source": [
    "%%time\n",
    "\n",
    "def getword2vec(search_term):\n",
    "    listword = search_term.split(' ')\n",
    "    dictneu = {}\n",
    "    for w in listword:\n",
    "        try:\n",
    "            dictneu[w]=model.most_similar (positive=w)\n",
    "        except Exception as exception:\n",
    "            pass\n",
    "    return dictneu\n",
    "\n",
    "#w7 = \"Haus Maus\"\n",
    "#print(\"\\n\\n Raub -> \")\n",
    "#print(model.most_similar (positive=w7,topn=2))\n",
    "#print(model.most_similar (positive=w7))\n",
    "\n",
    "model = gensim.models.KeyedVectors.load_word2vec_format(\"german.model\", binary=True)\n",
    "\n",
    "print(getword2vec(\"Haus und Maus und Creme\"))\n"
   ]
  },
  {
   "cell_type": "code",
   "execution_count": null,
   "metadata": {},
   "outputs": [],
   "source": []
  }
 ],
 "metadata": {
  "kernelspec": {
   "display_name": "Python 3",
   "language": "python",
   "name": "python3"
  },
  "language_info": {
   "codemirror_mode": {
    "name": "ipython",
    "version": 3
   },
   "file_extension": ".py",
   "mimetype": "text/x-python",
   "name": "python",
   "nbconvert_exporter": "python",
   "pygments_lexer": "ipython3",
   "version": "3.7.2"
  }
 },
 "nbformat": 4,
 "nbformat_minor": 2
}
