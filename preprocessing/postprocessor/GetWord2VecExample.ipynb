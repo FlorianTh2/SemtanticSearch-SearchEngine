{
 "cells": [
  {
   "cell_type": "code",
   "execution_count": 1,
   "metadata": {},
   "outputs": [
    {
     "name": "stderr",
     "output_type": "stream",
     "text": [
      "C:\\Users\\micha\\Anaconda3\\envs\\spacy\\lib\\site-packages\\gensim\\utils.py:1197: UserWarning: detected Windows; aliasing chunkize to chunkize_serial\n",
      "  warnings.warn(\"detected Windows; aliasing chunkize to chunkize_serial\")\n"
     ]
    }
   ],
   "source": [
    "import gensim\n",
    "from gensim.models import Word2Vec\n",
    "import sklearn\n",
    "from sklearn.manifold import TSNE\n",
    "\n",
    "\n",
    "\n",
    "\n",
    "\n",
    "import GetWord2Vec_Backup\n",
    "import GetWord2Vec_2\n",
    "import GetWord2Vec\n",
    "\n",
    "'''\n",
    "https://github.com/devmount/GermanWordEmbeddings\n",
    "'''\n",
    "word2vec_Backup = GetWord2Vec_Backup.GetWord2Vec()\n",
    "word2vec = GetWord2Vec.GetWord2Vec()\n",
    "word2vec_2 =GetWord2Vec_2.GetWord2Vec()\n",
    "\n"
   ]
  },
  {
   "cell_type": "markdown",
   "metadata": {},
   "source": [
    "### PRINT TEST\n"
   ]
  },
  {
   "cell_type": "code",
   "execution_count": 2,
   "metadata": {},
   "outputs": [],
   "source": [
    "'''\n",
    "#w1model = word2vec_Backup.getModel()\n",
    "w2model = word2vec.getModel()\n",
    "\n",
    "#vocab1 =list(w1model.vocab)\n",
    "vocab2 =list(w2model.vocab)\n",
    "#X1 = w1model[vocab1]\n",
    "X2 = w2model[vocab2]\n",
    "\n",
    "\n",
    "#print(vocab2)\n",
    "#print(X1)\n",
    "\n",
    "#tsne1 = TSNE(n_components=2)\n",
    "#X1_tsne = tsne1.fit_transform(X1)\n",
    "\n",
    "tsne2 = TSNE(n_components=2)\n",
    "X2_tsne = tsne2.fit_transform(X2)\n",
    "\n",
    "#df1 = pd.DataFrame(X1_tsne, index=vocab1, columns=['x', 'y'])\n",
    "df2 = pd.DataFrame(X2_tsne, index=vocab2, columns=['x', 'y'])\n",
    "\n",
    "#print(df1)\n",
    "print(df2)\n",
    "'''\n",
    "\n",
    "w1model = word2vec_Backup.getModel()\n",
    "w2model = word2vec.getModel()\n",
    "wikimodel = word2vec_2.getModel()\n",
    "\n",
    "vocab1 =list(w1model.vocab)\n",
    "vocab2 =list(w2model.vocab)\n",
    "vocab3 =list(wikimodel.vocab)\n",
    "\n",
    "X1 = w1model[vocab1]\n",
    "X2 = w2model[vocab2]\n",
    "X3 = wikimodel[vocab3]\n",
    "\n",
    "\n"
   ]
  },
  {
   "cell_type": "code",
   "execution_count": 5,
   "metadata": {},
   "outputs": [
    {
     "name": "stdout",
     "output_type": "stream",
     "text": [
      "['Die', 'fuer', 'wurde', 'Der', 'dass', 'Das', 'ueber', 'In', 'Im', 'wurden']\n",
      "\n",
      "#################\n",
      "\n",
      "laenge =  300\n",
      "woerter =  608130\n",
      "\n",
      "#################\n",
      "\n",
      "['Zwei', 'maskierte', 'Männer', 'Vormittag', 'Apotheke', 'Britz', 'überfallen.', 'Bisherigen', 'Erkenntnissen', 'zufolge']\n",
      "\n",
      "#################\n",
      "\n",
      "laenge =  250\n",
      "woerter =  69391\n",
      "\n",
      "#################\n",
      "\n",
      "['Robert', '12', 'April', '1893', 'York', '†', '3', 'Dezember', '1959', 'Aberdeenshire_Schottland']\n",
      "\n",
      "#################\n",
      "\n",
      "laenge =  300\n",
      "woerter =  241181\n",
      "\n",
      "#################\n",
      "\n"
     ]
    }
   ],
   "source": [
    "print(vocab1[0:10])\n",
    "print(\"\\n#################\\n\")\n",
    "print(\"laenge = \",len(X1[0]))\n",
    "print(\"woerter = \",len(X1))\n",
    "print(\"\\n#################\\n\")\n",
    "\n",
    "print(vocab2[0:10])\n",
    "#print(vocab2[0])\n",
    "#print(X2[0])\n",
    "print(\"\\n#################\\n\")\n",
    "print(\"laenge = \",len(X2[0]))\n",
    "print(\"woerter = \",len(X2))\n",
    "print(\"\\n#################\\n\")\n",
    "\n",
    "print(vocab3[0:10])\n",
    "#print(vocab3[0])\n",
    "#print(X3[0])\n",
    "print(\"\\n#################\\n\")\n",
    "print(\"laenge = \",len(X3[0]))\n",
    "print(\"woerter = \",len(X3))\n",
    "print(\"\\n#################\\n\")\n",
    "\n",
    "\n"
   ]
  },
  {
   "cell_type": "code",
   "execution_count": 5,
   "metadata": {},
   "outputs": [],
   "source": [
    "#tsne1 = TSNE(n_components=2)\n",
    "#X1_tsne = tsne1.fit_transform(X1)"
   ]
  },
  {
   "cell_type": "code",
   "execution_count": 6,
   "metadata": {},
   "outputs": [],
   "source": [
    "tsne2 = TSNE(n_components=2)\n",
    "X2_tsne = tsne2.fit_transform(X2)"
   ]
  },
  {
   "cell_type": "code",
   "execution_count": 7,
   "metadata": {},
   "outputs": [
    {
     "name": "stdout",
     "output_type": "stream",
     "text": [
      "                                               x          y\n",
      "Zwei                                    5.992019 -41.472214\n",
      "maskierte                              17.332964 -36.446392\n",
      "Männer                                 23.313854 -30.910444\n",
      "Vormittag                             -41.243847   6.854990\n",
      "Apotheke                               16.921486 -36.453968\n",
      "Britz                                 -39.227051   0.447199\n",
      "überfallen.                            17.431705 -36.607471\n",
      "Bisherigen                            -38.733955  -1.107202\n",
      "Erkenntnissen                           0.461909 -43.418720\n",
      "zufolge                                24.781460 -21.554155\n",
      "betrat                                 17.469645 -36.443665\n",
      "Duo                                    19.148975 -33.004189\n",
      "11.30                                 -38.916733   6.936828\n",
      "Uhr                                   -39.235413   2.406005\n",
      "Geschäft                               17.576355 -35.962627\n",
      "Britzer                               -29.896841  18.720728\n",
      "Damm.                                   8.694011 -22.165531\n",
      "Ein                                     6.943249 -40.597446\n",
      "Täter                                  18.184151 -34.278740\n",
      "Messer                                 21.190521 -29.873867\n",
      "Hand                                   20.775055 -29.402954\n",
      "35                                    -40.593277 -17.713579\n",
      "Jahre                                 -13.775458 -34.143074\n",
      "alten                                 -40.985405 -17.745663\n",
      "Angestellten,                          17.114820 -35.777199\n",
      "Kundin                                 17.290108 -35.278255\n",
      "bediente,                             -10.176913   4.774033\n",
      "bedrohte                               17.604149 -35.672932\n",
      "verlangte                              17.267662 -35.075909\n",
      "Geld.                                  17.591602 -35.305302\n",
      "...                                          ...        ...\n",
      "Regenjacke                            -17.335222  -6.162700\n",
      "abgewendet                            -17.077583   5.606710\n",
      "selbstbefriedigt.                     -17.062843   5.633686\n",
      "dunkelblauen                          -17.249496  -6.072840\n",
      "hinkte                                -17.096321  -5.874777\n",
      "Gehen.                                -17.055668  -5.796038\n",
      "drei-viertel                           38.552292  -1.263914\n",
      "Außenbootmotoren                       17.560991  14.830591\n",
      "Steuerungen                           -12.587625   8.244417\n",
      "fotografisch                          -11.688191   6.513889\n",
      "begeht,                               -11.929913   2.189801\n",
      "agierte.                               32.165844   6.613838\n",
      "einschloss,                            32.130905   6.606209\n",
      "Beils,                                 32.093155   6.603282\n",
      "Zureden                                14.713768  -1.174839\n",
      "Wohnstätte                             14.672017  -1.190046\n",
      "ansah,                                 17.602339  12.407396\n",
      "Freibades                               5.290155  35.756290\n",
      "Komplimente.                           22.580286  -0.716003\n",
      "Mundbereich,                           22.536842  -0.713019\n",
      "davonging.                              2.132847  -3.564660\n",
      "schockstarr                             2.131701  -3.575743\n",
      "schlanker/schmaler                      2.183924  -3.590706\n",
      "abrasiert                               6.465720  -9.818870\n",
      "Lederjacke,                             6.449466  -9.838227\n",
      "Haben                                   3.028317  -4.259023\n",
      "560-0.                                -10.816392 -20.114189\n",
      "hinweis.pdwest@polizei.brandenburg.de -11.023739 -19.878201\n",
      "senden,                               -10.967741 -19.872351\n",
      "Hinweisformular,                      -10.975260 -19.804535\n",
      "\n",
      "[69391 rows x 2 columns]\n"
     ]
    }
   ],
   "source": [
    "import pandas as pd\n",
    "\n",
    "#df1 = pd.DataFrame(X1_tsne, index=vocab1, columns=['x', 'y'])\n",
    "df2 = pd.DataFrame(X2_tsne, index=vocab2, columns=['x', 'y'])\n",
    "\n",
    "#print(df1)\n",
    "print(df2)"
   ]
  },
  {
   "cell_type": "code",
   "execution_count": 8,
   "metadata": {},
   "outputs": [
    {
     "name": "stdout",
     "output_type": "stream",
     "text": [
      "                                               x          y          z\n",
      "Zwei                                    7.010377 -29.115973   6.280640\n",
      "maskierte                               1.058967 -22.839384   7.150189\n",
      "Männer                                  8.104070 -15.443708  17.837605\n",
      "Vormittag                              17.865225  -6.661891 -17.806305\n",
      "Apotheke                                1.591188 -23.018980   6.017887\n",
      "Britz                                  23.371973  -0.711215 -18.986242\n",
      "überfallen.                             0.845078 -23.267990   7.332318\n",
      "Bisherigen                             22.590321  -4.534685 -16.569881\n",
      "Erkenntnissen                           7.022050 -25.950756  -8.788218\n",
      "zufolge                               -10.571400 -26.195925  -2.551121\n",
      "betrat                                  1.174024 -23.339546   7.517586\n",
      "Duo                                     5.583330 -18.852846  11.401425\n",
      "11.30                                  13.580461  -2.359895 -22.795399\n",
      "Uhr                                    20.697664  -3.568038 -18.686071\n",
      "Geschäft                                2.545205 -23.186399   7.987735\n",
      "Britzer                                 6.584638  11.702475 -22.800379\n",
      "Damm.                                   0.832820 -19.957577 -12.992312\n",
      "Ein                                     5.109050 -28.663363   6.852145\n",
      "Täter                                   3.991931 -20.725512   9.648383\n",
      "Messer                                  3.190977 -17.608788  15.870937\n",
      "Hand                                    2.126346 -17.590462  16.365400\n",
      "35                                     22.605707 -12.311666  -9.776731\n",
      "Jahre                                  23.061932 -13.419684  -1.545804\n",
      "alten                                  22.778919 -14.342170  -9.305578\n",
      "Angestellten,                           3.182534 -22.315285   5.814742\n",
      "Kundin                                  3.056684 -21.558025   8.085229\n",
      "bediente,                               3.989672  -1.465903  -4.869100\n",
      "bedrohte                                1.795222 -22.434158   8.397936\n",
      "verlangte                               2.475977 -21.347725   8.084325\n",
      "Geld.                                   2.477604 -21.960550   8.580429\n",
      "...                                          ...        ...        ...\n",
      "Regenjacke                             16.510641   9.276227  -0.662969\n",
      "abgewendet                             10.248610  19.513285 -10.369723\n",
      "selbstbefriedigt.                      10.248255  19.514048 -10.370006\n",
      "dunkelblauen                           16.362455   9.371934  -0.662515\n",
      "hinkte                                 16.105095   9.396043  -0.680468\n",
      "Gehen.                                 16.026850   9.386071  -0.708171\n",
      "drei-viertel                          -22.912857 -10.883375  -7.800487\n",
      "Außenbootmotoren                      -14.706896   1.447653   0.110651\n",
      "Steuerungen                             2.166889  -4.521130 -10.332306\n",
      "fotografisch                            6.529805  10.111779  -2.122455\n",
      "begeht,                                 5.392970  18.656393  -1.986611\n",
      "agierte.                              -20.967257  -4.540934  12.988317\n",
      "einschloss,                           -20.958344  -4.564000  12.981070\n",
      "Beils,                                -20.926529  -4.608754  12.974639\n",
      "Zureden                                -8.285431 -15.581623 -10.908693\n",
      "Wohnstätte                             -8.288846 -15.595127 -10.920398\n",
      "ansah,                                -15.568932  11.597776  11.288340\n",
      "Freibades                             -19.521124 -21.235268   3.772322\n",
      "Komplimente.                           -9.600389   0.802969  24.736620\n",
      "Mundbereich,                           -9.623366   0.817160  24.721422\n",
      "davonging.                              1.120244  -2.586148  -1.107798\n",
      "schockstarr                             1.117250  -2.599324  -1.107483\n",
      "schlanker/schmaler                      1.093546  -2.639926  -1.097148\n",
      "abrasiert                               6.624648  -5.975257   9.951776\n",
      "Lederjacke,                             6.636223  -5.970282   9.957512\n",
      "Haben                                   1.532838  -4.811383  -0.344643\n",
      "560-0.                                 10.411751  -3.897220   4.747260\n",
      "hinweis.pdwest@polizei.brandenburg.de  10.517256  -3.789027   4.615423\n",
      "senden,                                10.574288  -3.808041   4.622274\n",
      "Hinweisformular,                       10.576267  -3.779054   4.606130\n",
      "\n",
      "[69391 rows x 3 columns]\n"
     ]
    }
   ],
   "source": [
    "tsne3D = TSNE(n_components=3)\n",
    "X3D_tsne = tsne3D.fit_transform(X2)\n",
    "df3D = pd.DataFrame(X3D_tsne, index=vocab2, columns=['x', 'y','z'])\n",
    "#print(df1)\n",
    "print(df3D)"
   ]
  },
  {
   "cell_type": "markdown",
   "metadata": {},
   "source": [
    "### WORD2VEC TEST"
   ]
  },
  {
   "cell_type": "code",
   "execution_count": 16,
   "metadata": {},
   "outputs": [],
   "source": [
    "import numpy as np\n",
    "import matplotlib.pyplot as plt\n",
    "\n",
    "def display_closestwords_tsnescatterplot(model, word):\n",
    "    \n",
    "    #don't forgot to change the dimension of base model!!!!\n",
    "    arr = np.empty((0,250), dtype='f')\n",
    "    word_labels = [word]\n",
    "\n",
    "    # get close words\n",
    "    close_words = model.similar_by_word(word)\n",
    "    \n",
    "    # add the vector for each of the closest words to the array\n",
    "    arr = np.append(arr, np.array([model[word]]), axis=0)\n",
    "    for wrd_score in close_words:\n",
    "        wrd_vector = model[wrd_score[0]]\n",
    "        word_labels.append(wrd_score[0])\n",
    "        arr = np.append(arr, np.array([wrd_vector]), axis=0)\n",
    "        \n",
    "    # find tsne coords for 2 dimensions\n",
    "    tsne = TSNE(n_components=2, random_state=0)\n",
    "    np.set_printoptions(suppress=True)\n",
    "    Y = tsne.fit_transform(arr)\n",
    "\n",
    "    x_coords = Y[:, 0]\n",
    "    y_coords = Y[:, 1]\n",
    "    # display scatter plot\n",
    "    plt.scatter(x_coords, y_coords)\n",
    "\n",
    "    for label, x, y in zip(word_labels, x_coords, y_coords):\n",
    "        plt.annotate(label, xy=(x, y), xytext=(0, 0), textcoords='offset points')\n",
    "    plt.xlim(x_coords.min()+0.00005, x_coords.max()+0.00005)\n",
    "    plt.ylim(y_coords.min()+0.00005, y_coords.max()+0.00005)\n",
    "    plt.show()"
   ]
  },
  {
   "cell_type": "code",
   "execution_count": 21,
   "metadata": {},
   "outputs": [
    {
     "data": {
      "image/png": "[encoded data removed]",
      "text/plain": [
       "<Figure size 432x288 with 1 Axes>"
      ]
     },
     "metadata": {
      "needs_background": "light"
     },
     "output_type": "display_data"
    },
    {
     "name": "stdout",
     "output_type": "stream",
     "text": [
      "{'Präsident': [('Rainer', 0.9279111623764038), ('Festrede', 0.9223276376724243), ('Grieger,', 0.8787969350814819)]}\n"
     ]
    },
    {
     "data": {
      "image/png": "[encoded data removed]",
      "text/plain": [
       "<Figure size 432x288 with 1 Axes>"
      ]
     },
     "metadata": {
      "needs_background": "light"
     },
     "output_type": "display_data"
    },
    {
     "name": "stdout",
     "output_type": "stream",
     "text": [
      "{'Festrede': [('Präsident', 0.9223277568817139), ('Rainer', 0.8460298776626587), ('203', 0.8224776983261108)]}\n"
     ]
    },
    {
     "data": {
      "image/png": "[encoded data removed]",
      "text/plain": [
       "<Figure size 432x288 with 1 Axes>"
      ]
     },
     "metadata": {
      "needs_background": "light"
     },
     "output_type": "display_data"
    },
    {
     "name": "stdout",
     "output_type": "stream",
     "text": [
      "{'Polizei': [('Polizei,', 0.5900452136993408), ('Umgehende', 0.4578700661659241), ('Polizei.', 0.4576370120048523)]}\n"
     ]
    }
   ],
   "source": [
    "display_closestwords_tsnescatterplot(w2model, 'Präsident')\n",
    "print(word2vec.getword2vec(\"Präsident\"))\n",
    "\n",
    "display_closestwords_tsnescatterplot(w2model, 'Festrede')\n",
    "print(word2vec.getword2vec(\"Festrede\"))\n",
    "\n",
    "display_closestwords_tsnescatterplot(w2model, 'Polizei')\n",
    "print(word2vec.getword2vec(\"Polizei\"))"
   ]
  },
  {
   "cell_type": "code",
   "execution_count": 39,
   "metadata": {},
   "outputs": [
    {
     "data": {
      "image/png": "[encoded data removed]",
      "text/plain": [
       "<Figure size 4800x1920 with 2 Axes>"
      ]
     },
     "metadata": {
      "needs_background": "light"
     },
     "output_type": "display_data"
    }
   ],
   "source": [
    "# Create Figure and Subplots\n",
    "fig, (ax1, ax2) = plt.subplots(1,2, figsize=(20,8), sharey=True, dpi=240)\n",
    "\n",
    "# Plot\n",
    "ax1.plot(X2_tsne, 'go')  # greendots\n",
    "ax2.plot([1,2,3,4,5], [2,3,4,5,11], 'b*')  # bluestart\n",
    "\n",
    "# Title, X and Y labels, X and Y Lim\n",
    "ax1.set_title('Scatterplot Greendots'); ax2.set_title('Scatterplot Bluestars')\n",
    "ax1.set_xlabel('X');  ax2.set_xlabel('X')  # x label\n",
    "ax1.set_ylabel('Y');  ax2.set_ylabel('Y')  # y label\n",
    "ax1.set_xlim(-100, 100) ;  ax2.set_xlim(0, 6)   # x axis limits\n",
    "ax1.set_ylim(100, -100);  ax2.set_ylim(0, 12)  # y axis limits\n",
    "\n",
    "# ax2.yaxis.set_ticks_position('none') \n",
    "plt.tight_layout()\n",
    "plt.show()"
   ]
  },
  {
   "cell_type": "code",
   "execution_count": 30,
   "metadata": {},
   "outputs": [
    {
     "ename": "NameError",
     "evalue": "name 'kmeans' is not defined",
     "output_type": "error",
     "traceback": [
      "\u001b[1;31m---------------------------------------------------------------------------\u001b[0m",
      "\u001b[1;31mNameError\u001b[0m                                 Traceback (most recent call last)",
      "\u001b[1;32m<ipython-input-30-086df71711b3>\u001b[0m in \u001b[0;36m<module>\u001b[1;34m\u001b[0m\n\u001b[1;32m----> 1\u001b[1;33m \u001b[0mcidx\u001b[0m \u001b[1;33m=\u001b[0m \u001b[0mkmeans\u001b[0m\u001b[1;33m(\u001b[0m\u001b[0mX2_tsne\u001b[0m\u001b[1;33m,\u001b[0m\u001b[1;36m25\u001b[0m\u001b[1;33m,\u001b[0m\u001b[1;34m'dist'\u001b[0m\u001b[1;33m,\u001b[0m\u001b[1;34m'sqeuclidean'\u001b[0m\u001b[1;33m)\u001b[0m\u001b[1;33m;\u001b[0m\u001b[1;33m\u001b[0m\u001b[1;33m\u001b[0m\u001b[0m\n\u001b[0m",
      "\u001b[1;31mNameError\u001b[0m: name 'kmeans' is not defined"
     ]
    }
   ],
   "source": []
  },
  {
   "cell_type": "code",
   "execution_count": null,
   "metadata": {},
   "outputs": [],
   "source": []
  },
  {
   "cell_type": "code",
   "execution_count": null,
   "metadata": {},
   "outputs": [],
   "source": []
  },
  {
   "cell_type": "markdown",
   "metadata": {},
   "source": [
    "### TENSORBOARD"
   ]
  },
  {
   "cell_type": "code",
   "execution_count": 3,
   "metadata": {},
   "outputs": [],
   "source": [
    "import tensorflow as tf\n",
    "from tensorflow.contrib.tensorboard.plugins import projector\n",
    "import numpy as np\n",
    "import gensim\n",
    "\n",
    "import warnings\n",
    "warnings.filterwarnings(action='ignore', category=UserWarning, module='gensim')"
   ]
  },
  {
   "cell_type": "code",
   "execution_count": 4,
   "metadata": {},
   "outputs": [
    {
     "name": "stdout",
     "output_type": "stream",
     "text": [
      "69390\n"
     ]
    }
   ],
   "source": [
    "max_size_w2model = len(w2model.vocab)-1\n",
    "max_size_wikimodel = len(wikimodel.vocab)-1\n",
    "print(max_size_w2model)"
   ]
  },
  {
   "cell_type": "code",
   "execution_count": 5,
   "metadata": {},
   "outputs": [],
   "source": [
    "w2v_w2model = np.zeros((max_size_w2model,250))\n",
    "w2v_wikimodel = np.zeros((max_size_wikimodel,300))"
   ]
  },
  {
   "cell_type": "code",
   "execution_count": 6,
   "metadata": {},
   "outputs": [
    {
     "name": "stdout",
     "output_type": "stream",
     "text": [
      "250\n",
      "69390\n"
     ]
    },
    {
     "data": {
      "text/plain": [
       "array([[0., 0., 0., ..., 0., 0., 0.],\n",
       "       [0., 0., 0., ..., 0., 0., 0.],\n",
       "       [0., 0., 0., ..., 0., 0., 0.],\n",
       "       ...,\n",
       "       [0., 0., 0., ..., 0., 0., 0.],\n",
       "       [0., 0., 0., ..., 0., 0., 0.],\n",
       "       [0., 0., 0., ..., 0., 0., 0.]])"
      ]
     },
     "execution_count": 6,
     "metadata": {},
     "output_type": "execute_result"
    }
   ],
   "source": [
    "print(len(w2v_w2model[0]))\n",
    "print(len(w2v_w2model))\n",
    "\n",
    "w2v_w2model"
   ]
  },
  {
   "cell_type": "code",
   "execution_count": 7,
   "metadata": {},
   "outputs": [
    {
     "name": "stdout",
     "output_type": "stream",
     "text": [
      "300\n",
      "241180\n"
     ]
    },
    {
     "data": {
      "text/plain": [
       "array([[0., 0., 0., ..., 0., 0., 0.],\n",
       "       [0., 0., 0., ..., 0., 0., 0.],\n",
       "       [0., 0., 0., ..., 0., 0., 0.],\n",
       "       ...,\n",
       "       [0., 0., 0., ..., 0., 0., 0.],\n",
       "       [0., 0., 0., ..., 0., 0., 0.],\n",
       "       [0., 0., 0., ..., 0., 0., 0.]])"
      ]
     },
     "execution_count": 7,
     "metadata": {},
     "output_type": "execute_result"
    }
   ],
   "source": [
    "print(len(w2v_wikimodel[0]))\n",
    "print(len(w2v_wikimodel))\n",
    "w2v_wikimodel"
   ]
  },
  {
   "cell_type": "code",
   "execution_count": 8,
   "metadata": {},
   "outputs": [],
   "source": [
    "with open(\"metadata.tsv\", 'w+', encoding=\"utf-8\") as file_metadata:\n",
    "    for i,word in enumerate(wikimodel.index2word[:max_size_wikimodel]):\n",
    "        w2v_wikimodel[i] = wikimodel[word]\n",
    "        file_metadata.write(word + '\\n')"
   ]
  },
  {
   "cell_type": "code",
   "execution_count": 9,
   "metadata": {},
   "outputs": [],
   "source": [
    "with open(\"metadata.tsv\", 'w+', encoding=\"utf-8\") as file_metadata:\n",
    "    for i,word in enumerate(w2model.index2word[:max_size_w2model]):\n",
    "        w2v_w2model[i] = w2model[word]\n",
    "        \n",
    "        file_metadata.write(word + '\\n')"
   ]
  },
  {
   "cell_type": "code",
   "execution_count": 10,
   "metadata": {},
   "outputs": [
    {
     "data": {
      "text/plain": [
       "array([[ 1.57409477e+00, -9.62968469e-02,  2.90094763e-01, ...,\n",
       "        -1.06768143e+00, -2.33941734e-01,  2.08674574e+00],\n",
       "       [-7.79208958e-01, -1.30512798e+00,  1.39634311e+00, ...,\n",
       "        -4.75449753e+00, -1.79324663e+00, -5.11439800e-01],\n",
       "       [-1.51161790e+00, -1.49481010e+00,  2.06460506e-01, ...,\n",
       "        -2.28472233e+00,  2.00894070e+00,  1.76221144e+00],\n",
       "       ...,\n",
       "       [-9.27745190e-04, -1.81823373e-02, -5.35696447e-02, ...,\n",
       "         7.96673670e-02, -6.17001578e-02,  9.74086896e-02],\n",
       "       [ 6.22903630e-02, -4.17680480e-02, -8.15165788e-02, ...,\n",
       "         5.58281131e-02, -7.62173384e-02,  1.51839152e-01],\n",
       "       [ 4.58880067e-02, -2.62633283e-02, -7.12183714e-02, ...,\n",
       "         5.19944392e-02, -6.43043593e-02,  1.38231099e-01]])"
      ]
     },
     "execution_count": 10,
     "metadata": {},
     "output_type": "execute_result"
    }
   ],
   "source": [
    "w2v_w2model"
   ]
  },
  {
   "cell_type": "code",
   "execution_count": 9,
   "metadata": {},
   "outputs": [
    {
     "data": {
      "text/plain": [
       "array([[ 0.00646802,  0.21920863, -0.11939882, ...,  0.16871373,\n",
       "        -0.12486001, -0.21396692],\n",
       "       [-0.15883853,  0.01234239, -0.02447033, ...,  0.21073765,\n",
       "         0.26999459, -0.15199396],\n",
       "       [ 0.15101667, -0.01486849, -0.02738122, ...,  0.08023033,\n",
       "         0.1118677 , -0.10660416],\n",
       "       ...,\n",
       "       [ 0.96718615, -0.16135858,  0.173419  , ...,  0.16813873,\n",
       "        -0.45039487,  0.34122041],\n",
       "       [ 0.01254966,  0.32648906,  0.29123238, ...,  0.150144  ,\n",
       "         0.39096209, -0.31966981],\n",
       "       [ 0.20365636, -0.21467961, -0.01937601, ..., -0.17759028,\n",
       "         0.12433697,  0.24224493]])"
      ]
     },
     "execution_count": 9,
     "metadata": {},
     "output_type": "execute_result"
    }
   ],
   "source": [
    "w2v_wikimodel"
   ]
  },
  {
   "cell_type": "code",
   "execution_count": 10,
   "metadata": {},
   "outputs": [],
   "source": [
    "sess = tf.InteractiveSession()"
   ]
  },
  {
   "cell_type": "code",
   "execution_count": 11,
   "metadata": {},
   "outputs": [
    {
     "name": "stdout",
     "output_type": "stream",
     "text": [
      "WARNING:tensorflow:From C:\\Users\\micha\\Anaconda3\\envs\\spacy\\lib\\site-packages\\tensorflow\\python\\framework\\op_def_library.py:263: colocate_with (from tensorflow.python.framework.ops) is deprecated and will be removed in a future version.\n",
      "Instructions for updating:\n",
      "Colocations handled automatically by placer.\n"
     ]
    }
   ],
   "source": [
    "#Let us create a 2D tensor called embedding that holds our embeddings.\n",
    "with tf.device(\"/cpu:0\"):\n",
    "    embedding = tf.Variable(w2v_wikimodel, trainable=False, name='embedding')"
   ]
  },
  {
   "cell_type": "code",
   "execution_count": 12,
   "metadata": {},
   "outputs": [],
   "source": [
    "tf.global_variables_initializer().run()"
   ]
  },
  {
   "cell_type": "code",
   "execution_count": 13,
   "metadata": {},
   "outputs": [],
   "source": [
    "path = 'tensorboard'"
   ]
  },
  {
   "cell_type": "code",
   "execution_count": 14,
   "metadata": {},
   "outputs": [],
   "source": [
    "\n",
    "# let us create an object to Saver class which is actually used to \n",
    "#save and restore variables to and from our checkpoints\n",
    "saver = tf.train.Saver()\n"
   ]
  },
  {
   "cell_type": "code",
   "execution_count": 15,
   "metadata": {},
   "outputs": [],
   "source": [
    "# using file writer, we can save our summaries and events to our event file.\n",
    "writer = tf.summary.FileWriter(path, sess.graph)"
   ]
  },
  {
   "cell_type": "code",
   "execution_count": 16,
   "metadata": {},
   "outputs": [],
   "source": [
    "# adding into projector\n",
    "config = projector.ProjectorConfig()\n",
    "embed = config.embeddings.add()\n",
    "embed.tensor_name = 'embedding'\n",
    "embed.metadata_path = 'metadata.tsv'"
   ]
  },
  {
   "cell_type": "code",
   "execution_count": 17,
   "metadata": {},
   "outputs": [
    {
     "data": {
      "text/plain": [
       "'tensorboard/model.ckpt-241180'"
      ]
     },
     "execution_count": 17,
     "metadata": {},
     "output_type": "execute_result"
    }
   ],
   "source": [
    "\n",
    "# Specify the width and height of a single thumbnail.\n",
    "projector.visualize_embeddings(writer, config)\n",
    "\n",
    "saver.save(sess, path+'/model.ckpt', global_step=max_size_wikimodel)"
   ]
  },
  {
   "cell_type": "code",
   "execution_count": null,
   "metadata": {},
   "outputs": [],
   "source": []
  },
  {
   "cell_type": "code",
   "execution_count": null,
   "metadata": {},
   "outputs": [],
   "source": []
  },
  {
   "cell_type": "code",
   "execution_count": null,
   "metadata": {},
   "outputs": [],
   "source": []
  },
  {
   "cell_type": "markdown",
   "metadata": {},
   "source": [
    "### WORD2VEC TEST"
   ]
  },
  {
   "cell_type": "code",
   "execution_count": 10,
   "metadata": {},
   "outputs": [
    {
     "name": "stdout",
     "output_type": "stream",
     "text": [
      "{'Beamtin': [('Polizistin', 0.7727218866348267), ('Polizeibeamtin', 0.665634036064148), ('Beamten.', 0.6249810457229614)]}\n",
      "Wall time: 3.99 ms\n"
     ]
    }
   ],
   "source": [
    "%%time\n",
    "##### ~69.000 x 250 ####\n",
    "print(word2vec.getword2vec(\"Beamtin\"))"
   ]
  },
  {
   "cell_type": "code",
   "execution_count": 11,
   "metadata": {},
   "outputs": [
    {
     "name": "stdout",
     "output_type": "stream",
     "text": [
      "{'Beamtin': [('Sekretärin', 0.5987652540206909), ('Sozialarbeiterin', 0.5750026702880859), ('Journalistin', 0.573390007019043)]}\n",
      "Wall time: 12 ms\n"
     ]
    }
   ],
   "source": [
    "%%time\n",
    "##### ~240.000 x 300 ####\n",
    "print(word2vec_2.getword2vec(\"Beamtin\"))"
   ]
  },
  {
   "cell_type": "code",
   "execution_count": 12,
   "metadata": {},
   "outputs": [
    {
     "name": "stdout",
     "output_type": "stream",
     "text": [
      "{'Beamtin': [('Polizeibeamtin', 0.7855525016784668), ('Polizistin', 0.7298345565795898), ('Polizist', 0.6979295611381531), ('Teresa_Z', 0.6940891742706299), ('Hundebesitzerin', 0.6822763681411743), ('93-Jaehrigen', 0.6820490956306458), ('Frau', 0.678795576095581), ('Beamter', 0.6742022633552551), ('Taxifahrerin', 0.6735570430755615), ('Dortmunderin', 0.6710264682769775)]}\n",
      "Wall time: 30.9 ms\n"
     ]
    }
   ],
   "source": [
    "%%time\n",
    "##### ~600.000 x 300 ####\n",
    "print(word2vec_Backup.getword2vec(\"Beamtin\"))"
   ]
  },
  {
   "cell_type": "code",
   "execution_count": 45,
   "metadata": {},
   "outputs": [
    {
     "name": "stdout",
     "output_type": "stream",
     "text": [
      "Auspuffkruemmer FC_Stoeckach Duerrenroth\n",
      "Wall time: 0 ns\n"
     ]
    }
   ],
   "source": [
    "%%time\n",
    "w1model = word2vec_Backup.getModel()\n",
    "vocab_size = len(w1model.vocab)\n",
    "print(w1model.index2word[vocab_size - 1], w1model.index2word[vocab_size - 2], w1model.index2word[vocab_size - 3])"
   ]
  },
  {
   "cell_type": "code",
   "execution_count": 46,
   "metadata": {},
   "outputs": [
    {
     "name": "stdout",
     "output_type": "stream",
     "text": [
      "jemals_Bundesstaat Quadratkilometer_Wasseroberfläche Algier_entdeckt\n",
      "Wall time: 0 ns\n"
     ]
    }
   ],
   "source": [
    "%%time\n",
    "\n",
    "wikimodel = word2vec_2.getModel()\n",
    "vocab_size = len(wikimodel.vocab)\n",
    "print(wikimodel.index2word[vocab_size - 1], wikimodel.index2word[vocab_size - 2], wikimodel.index2word[vocab_size - 3])"
   ]
  },
  {
   "cell_type": "code",
   "execution_count": 48,
   "metadata": {},
   "outputs": [
    {
     "name": "stdout",
     "output_type": "stream",
     "text": [
      "Hinweisformular, senden, hinweis.pdwest@polizei.brandenburg.de\n",
      "Wall time: 0 ns\n"
     ]
    }
   ],
   "source": [
    "%%time\n",
    "w2model = word2vec.getModel()\n",
    "vocab_size = len(w2model.vocab)\n",
    "print(w2model.index2word[vocab_size - 1], w2model.index2word[vocab_size - 2], w2model.index2word[vocab_size - 3])"
   ]
  },
  {
   "cell_type": "code",
   "execution_count": 21,
   "metadata": {},
   "outputs": [
    {
     "name": "stdout",
     "output_type": "stream",
     "text": [
      "Die fuer wurde Der dass\n",
      "Die Uhr Der Mann Polizei\n",
      "Die wurde Der „ “\n",
      "Wall time: 0 ns\n"
     ]
    }
   ],
   "source": [
    "%%time\n",
    "#die haeufigsten 4 Woerter\n",
    "print(w1model.index2word[0], \n",
    "      w1model.index2word[1], \n",
    "      w1model.index2word[2], \n",
    "      w1model.index2word[3], \n",
    "      w1model.index2word[4])\n",
    "print(w2model.index2word[0], \n",
    "      w2model.index2word[1], \n",
    "      w2model.index2word[2], \n",
    "      w2model.index2word[3], \n",
    "      w2model.index2word[4])\n",
    "print(wikimodel.index2word[0], \n",
    "      wikimodel.index2word[1], \n",
    "      wikimodel.index2word[2], \n",
    "      wikimodel.index2word[3], \n",
    "      wikimodel.index2word[4])"
   ]
  },
  {
   "cell_type": "code",
   "execution_count": 22,
   "metadata": {},
   "outputs": [
    {
     "name": "stdout",
     "output_type": "stream",
     "text": [
      "{'Haus': [('Wohnhaus', 0.759634792804718), ('Hauses', 0.7064437866210938), ('Gebäude', 0.689426064491272)]}\n",
      "Wall time: 3.99 ms\n"
     ]
    }
   ],
   "source": [
    "%%time\n",
    "print(word2vec.getword2vec(\"Haus und Maus und Creme\"))"
   ]
  },
  {
   "cell_type": "code",
   "execution_count": 23,
   "metadata": {},
   "outputs": [
    {
     "name": "stdout",
     "output_type": "stream",
     "text": [
      "{'Haus': [('Wohnhaus', 0.7849439382553101), ('Wohnung', 0.7597730755805969), ('Anwesen', 0.7467959523200989), ('Gebaeude', 0.7445291876792908), ('Hauses', 0.7195432186126709), ('Reihenhaus', 0.711439847946167), ('Nachbarhaus', 0.711344301700592), ('Appartement', 0.7038042545318604), ('Hinterhof', 0.703404426574707), ('Gartenhaus', 0.7032928466796875)], 'Maus': [('Frosch', 0.6450132131576538), ('Eule', 0.6096822619438171), ('Spinne', 0.6018210053443909), ('Schnecke', 0.591096043586731), ('Ziege', 0.5888116359710693), ('Puppe', 0.5881814956665039), ('Ruchlak', 0.5848636627197266), ('Vogel', 0.5829367637634277), ('Katze', 0.5821031928062439), ('Papagei', 0.5784139633178711)], 'Creme': [('cremigen', 0.7727745771408081), ('Mascarpone', 0.7699246406555176), ('Balsamico', 0.7696694135665894), ('Fruchteis', 0.7680042386054993), ('saurer_Sahne', 0.7634389400482178), ('Lotion', 0.7620962858200073), ('Mehlschwitze', 0.7608310580253601), ('Buttercreme', 0.7598872780799866), ('Naturjoghurt', 0.7580931782722473), ('Krokant', 0.7566196918487549)]}\n",
      "Wall time: 86.8 ms\n"
     ]
    }
   ],
   "source": [
    "%%time\n",
    "print(word2vec_2.getword2vec(\"Haus und Maus und Creme\"))"
   ]
  },
  {
   "cell_type": "code",
   "execution_count": 24,
   "metadata": {},
   "outputs": [
    {
     "name": "stdout",
     "output_type": "stream",
     "text": [
      "{'Haus': [('Landhaus', 0.6827394366264343), ('Wohnhaus', 0.6792440414428711), ('Anwesen', 0.6588367819786072)], 'Maus': [('Bildschirm', 0.5926392078399658), ('Katze', 0.5677622556686401), ('Roboter', 0.557809054851532)], 'Creme': [('Schokolade', 0.5817326307296753), ('Salbe', 0.5760409832000732), ('Sirup', 0.5687387585639954)]}\n",
      "Wall time: 37.9 ms\n"
     ]
    }
   ],
   "source": [
    "\n",
    "%%time\n",
    "print(word2vec_Backup.getword2vec(\"Haus und Maus und Creme\"))"
   ]
  },
  {
   "cell_type": "code",
   "execution_count": 26,
   "metadata": {},
   "outputs": [
    {
     "name": "stdout",
     "output_type": "stream",
     "text": [
      "\n",
      "Model 1 .. ~700MB\n",
      "Index von \"Haus\" ist: 251\n",
      "Index von \"Polizei\" ist: 118\n",
      "\n",
      "Model 2 .. ~280MB\n",
      "Index von \"Haus\" ist: 383\n",
      "Index von \"Polizei\" ist: 4\n",
      "\n",
      "Model 3 .. ~67MB\n",
      "Index von \"Haus\" ist: 305\n",
      "Index von \"Polizei\" ist: 1594\n",
      "Wall time: 0 ns\n"
     ]
    }
   ],
   "source": [
    "%%time\n",
    "print(\"\\nModel 1 .. ~700MB\")\n",
    "print('Index von \"Haus\" ist: {}'.format(w1model.vocab['Haus'].index))\n",
    "print('Index von \"Polizei\" ist: {}'.format(w1model.vocab['Polizei'].index))\n",
    "\n",
    "print(\"\\nModel 2 .. ~280MB\")\n",
    "print('Index von \"Haus\" ist: {}'.format(w2model.vocab['Haus'].index))\n",
    "print('Index von \"Polizei\" ist: {}'.format(w2model.vocab['Polizei'].index))\n",
    "\n",
    "print(\"\\nModel 3 .. ~67MB\")\n",
    "print('Index von \"Haus\" ist: {}'.format(wikimodel.vocab['Haus'].index))\n",
    "print('Index von \"Polizei\" ist: {}'.format(wikimodel.vocab['Polizei'].index))"
   ]
  },
  {
   "cell_type": "code",
   "execution_count": 52,
   "metadata": {},
   "outputs": [
    {
     "name": "stdout",
     "output_type": "stream",
     "text": [
      "Creme\n",
      "Maus\n",
      "Haus\n",
      "Frau\n",
      "Creme\n",
      "Maus\n",
      "Wall time: 2 ms\n"
     ]
    },
    {
     "name": "stderr",
     "output_type": "stream",
     "text": [
      "C:\\Users\\micha\\Anaconda3\\envs\\spacy\\lib\\site-packages\\gensim\\models\\keyedvectors.py:730: FutureWarning: arrays to stack must be passed as a \"sequence\" type such as list or tuple. Support for non-sequence iterables such as generators is deprecated as of NumPy 1.16 and will raise an error in the future.\n",
      "  vectors = vstack(self.word_vec(word, use_norm=True) for word in used_words).astype(REAL)\n"
     ]
    }
   ],
   "source": [
    "%%time\n",
    "print(w1model.doesnt_match(\"Haus Maus Creme\".split()))\n",
    "print(w1model.doesnt_match(\"Maus Frau Mann\".split()))\n",
    "\n",
    "\n",
    "print(w2model.doesnt_match(\"Haus Maus Creme\".split()))\n",
    "print(w2model.doesnt_match(\"Maus Frau Mann\".split()))\n",
    "\n",
    "print(wikimodel.doesnt_match(\"Haus Maus Creme\".split()))\n",
    "print(wikimodel.doesnt_match(\"Maus Frau Mann\".split()))"
   ]
  },
  {
   "cell_type": "code",
   "execution_count": 2,
   "metadata": {},
   "outputs": [
    {
     "name": "stdout",
     "output_type": "stream",
     "text": [
      "{'Haus': [('Wohnhaus', 0.7849439382553101), ('Wohnung', 0.7597730755805969), ('Anwesen', 0.7467959523200989), ('Gebaeude', 0.7445291876792908), ('Hauses', 0.7195432186126709), ('Reihenhaus', 0.711439847946167), ('Nachbarhaus', 0.711344301700592), ('Appartement', 0.7038042545318604), ('Hinterhof', 0.703404426574707), ('Gartenhaus', 0.7032928466796875)], 'Maus': [('Frosch', 0.6450132131576538), ('Eule', 0.6096822619438171), ('Spinne', 0.6018210053443909), ('Schnecke', 0.591096043586731), ('Ziege', 0.5888116359710693), ('Puppe', 0.5881814956665039), ('Ruchlak', 0.5848636627197266), ('Vogel', 0.5829367637634277), ('Katze', 0.5821031928062439), ('Papagei', 0.5784139633178711)], 'Creme': [('cremigen', 0.7727745771408081), ('Mascarpone', 0.7699246406555176), ('Balsamico', 0.7696694135665894), ('Fruchteis', 0.7680042386054993), ('saurer_Sahne', 0.7634389400482178), ('Lotion', 0.7620962858200073), ('Mehlschwitze', 0.7608310580253601), ('Buttercreme', 0.7598872780799866), ('Naturjoghurt', 0.7580931782722473), ('Krokant', 0.7566196918487549)]}\n",
      "Wall time: 7.46 s\n"
     ]
    }
   ],
   "source": [
    "%%time\n",
    "\n",
    "def getword2vec(search_term):\n",
    "    listword = search_term.split(' ')\n",
    "    dictneu = {}\n",
    "    for w in listword:\n",
    "        try:\n",
    "            dictneu[w]=model.most_similar (positive=w)\n",
    "        except Exception as exception:\n",
    "            pass\n",
    "    return dictneu\n",
    "\n",
    "#w7 = \"Haus Maus\"\n",
    "#print(\"\\n\\n Raub -> \")\n",
    "#print(model.most_similar (positive=w7,topn=2))\n",
    "#print(model.most_similar (positive=w7))\n",
    "\n",
    "model = gensim.models.KeyedVectors.load_word2vec_format(\"german.model\", binary=True)\n",
    "\n",
    "print(getword2vec(\"Haus und Maus und Creme\"))\n"
   ]
  },
  {
   "cell_type": "code",
   "execution_count": null,
   "metadata": {},
   "outputs": [],
   "source": []
  }
 ],
 "metadata": {
  "kernelspec": {
   "display_name": "Python 3",
   "language": "python",
   "name": "python3"
  },
  "language_info": {
   "codemirror_mode": {
    "name": "ipython",
    "version": 3
   },
   "file_extension": ".py",
   "mimetype": "text/x-python",
   "name": "python",
   "nbconvert_exporter": "python",
   "pygments_lexer": "ipython3",
   "version": "3.7.2"
  }
 },
 "nbformat": 4,
 "nbformat_minor": 2
}
