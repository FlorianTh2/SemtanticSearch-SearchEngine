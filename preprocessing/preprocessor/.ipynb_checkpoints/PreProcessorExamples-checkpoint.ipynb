{
 "cells": [
  {
   "cell_type": "code",
   "execution_count": 1,
   "metadata": {},
   "outputs": [],
   "source": [
    "import Preprocessor\n",
    "\n",
    "\n",
    "preprocessor = Preprocessor.Preprocessor()\n",
    "\n",
    "text = \"Eine neue Allee wird in Berlin Köpenick geplant. Köpenick wird sein ganzes Straßennetz erneuern. Köpenick macht sich für Fahrradfahrer stark.\"\n",
    "\n"
   ]
  },
  {
   "cell_type": "markdown",
   "metadata": {},
   "source": [
    "### stemming needed one word !!!!!"
   ]
  },
  {
   "cell_type": "code",
   "execution_count": 2,
   "metadata": {},
   "outputs": [
    {
     "name": "stdout",
     "output_type": "stream",
     "text": [
      "\n",
      " ##### TOKENIZING WITHOUT PUNCTIONALS #####\n",
      "['Eine', 'neue', 'Allee', 'wird', 'in', 'Berlin', 'Köpenick', 'geplant', 'Köpenick', 'wird', 'sein', 'ganzes', 'Straßennetz', 'erneuern', 'Köpenick', 'macht', 'sich', 'für', 'Fahrradfahrer', 'stark']\n",
      "\n",
      " ##### TOKENIZING WITH STOPWORDS AND PUNCTIONALS #####\n",
      "['eine', 'neue', 'allee', 'wird', 'in', 'berlin', 'köpenick', 'geplant', '.', 'köpenick', 'wird', 'sein', 'ganzes', 'straßennetz', 'erneuern', '.', 'köpenick', 'macht', 'sich', 'für', 'fahrradfahrer', 'stark', '.']\n",
      "\n",
      " ##### TOKENIZING REVERSE #####\n",
      "<Text: eine neue allee wird in berlin köpenick geplant...>\n",
      "\n",
      " ##### STEMMING #####\n",
      "arbeiterwohlfahrt\n",
      "arbeit\n",
      "arbeit\n",
      "\n",
      " ##### LAMMATIZATION WITH STOPWORDS AND PUNCTIONALAS #####\n",
      "[('eine', 'ART'), ('neue', 'ADJA'), ('allee', 'ADJA'), ('wird', 'VAFIN'), ('in', 'APPR'), ('berlin', 'NE'), ('köpenick', 'ADJD'), ('geplant', 'VVPP'), ('.', '$.'), ('köpenick', 'VMINF'), ('wird', 'VAFIN'), ('sein', 'PPOSAT'), ('ganzes', 'ADJA'), ('straßennetz', 'KON'), ('erneuern', 'VVINF'), ('.', '$.'), ('köpenick', 'VMINF'), ('macht', 'VVFIN'), ('sich', 'PRF'), ('für', 'APPR'), ('fahrradfahrer', 'ADJA'), ('stark', 'ADJD'), ('.', '$.')]\n",
      "\n",
      " ##### LAMMATIZATION WITHOUT PUNCTIONALAS #####\n",
      "[('Eine', 'ART'), ('neue', 'ADJA'), ('Allee', 'NN'), ('wird', 'VAFIN'), ('in', 'APPR'), ('Berlin', 'NE'), ('Köpenick', 'NE'), ('geplant', 'VVPP'), ('Köpenick', 'NE'), ('wird', 'VAFIN'), ('sein', 'PPOSAT'), ('ganzes', 'ADJA'), ('Straßennetz', 'NN'), ('erneuern', 'VVINF'), ('Köpenick', 'NE'), ('macht', 'VVFIN'), ('sich', 'PRF'), ('für', 'APPR'), ('Fahrradfahrer', 'NN'), ('stark', 'ADJD')]\n",
      "\n",
      " ##### LAMMATIZATION WITHOUT STOPWORDS AND PUNCTIONALAS #####\n",
      "[('Eine', 'ART'), ('neue', 'ADJA'), ('Allee', 'NN'), ('Berlin', 'NE'), ('Köpenick', 'NE'), ('geplant', 'VVPP'), ('Köpenick', 'NE'), ('ganzes', 'VVPP'), ('Straßennetz', 'NE'), ('erneuern', 'VVINF'), ('Köpenick', 'NE'), ('macht', 'VVFIN'), ('Fahrradfahrer', 'NN'), ('stark', 'ADJD')]\n",
      "\n",
      " ##### STEMMING PLURAL TOKENS #####\n",
      "['ein', 'neu', 'alle', 'berlin', 'kopenick', 'geplant', 'kopenick', 'ganz', 'strassennetz', 'erneu', 'kopenick', 'macht', 'fahrradfahr', 'stark']\n"
     ]
    }
   ],
   "source": [
    "print(\"\\n ##### TOKENIZING WITHOUT PUNCTIONALS #####\")\n",
    "print(preprocessor.tokenizing_without_punc(text))\n",
    "print(\"\\n ##### TOKENIZING WITH STOPWORDS AND PUNCTIONALS #####\")\n",
    "\n",
    "print(preprocessor.tokenizing_with_sw_and_punc(text))\n",
    "print(\"\\n ##### TOKENIZING REVERSE #####\")\n",
    "\n",
    "\n",
    "tokenText = preprocessor.tokenizing_with_sw_and_punc(text)\n",
    "tokenText2 = preprocessor.tokenizing_without_punc(text)\n",
    "tokenText_complete = preprocessor.tokenizing_complete(text)\n",
    "\n",
    "print(preprocessor.tokenizing_reverse(tokenText))\n",
    "print(\"\\n ##### STEMMING #####\")\n",
    "\n",
    "print(preprocessor.stemming(\"Arbeiterwohlfahrt\"))\n",
    "print(preprocessor.stemming(\"Arbeiter\"))\n",
    "print(preprocessor.stemming(\"arbeiten\"))\n",
    "\n",
    "\n",
    "print(\"\\n ##### LAMMATIZATION WITH STOPWORDS AND PUNCTIONALAS #####\")\n",
    "print(preprocessor.lemmating(tokenText))\n",
    "print(\"\\n ##### LAMMATIZATION WITHOUT PUNCTIONALAS #####\")\n",
    "print(preprocessor.lemmating(tokenText2))\n",
    "print(\"\\n ##### LAMMATIZATION WITHOUT STOPWORDS AND PUNCTIONALAS #####\")\n",
    "print(preprocessor.lemmating(tokenText_complete))\n",
    "\n",
    "print(\"\\n ##### STEMMING PLURAL TOKENS #####\")\n",
    "print(preprocessor.stemming_words(tokenText_complete))\n"
   ]
  },
  {
   "cell_type": "code",
   "execution_count": null,
   "metadata": {},
   "outputs": [],
   "source": []
  },
  {
   "cell_type": "code",
   "execution_count": null,
   "metadata": {},
   "outputs": [],
   "source": []
  }
 ],
 "metadata": {
  "kernelspec": {
   "display_name": "Python 3",
   "language": "python",
   "name": "python3"
  },
  "language_info": {
   "codemirror_mode": {
    "name": "ipython",
    "version": 3
   },
   "file_extension": ".py",
   "mimetype": "text/x-python",
   "name": "python",
   "nbconvert_exporter": "python",
   "pygments_lexer": "ipython3",
   "version": "3.6.4"
  }
 },
 "nbformat": 4,
 "nbformat_minor": 2
}
