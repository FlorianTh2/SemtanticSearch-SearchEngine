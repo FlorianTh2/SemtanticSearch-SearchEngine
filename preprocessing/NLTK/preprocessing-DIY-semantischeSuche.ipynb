{
 "cells": [
  {
   "cell_type": "markdown",
   "metadata": {},
   "source": [
    "### NLTK import"
   ]
  },
  {
   "cell_type": "code",
   "execution_count": 7,
   "metadata": {},
   "outputs": [],
   "source": [
    "import nltk\n",
    "from nltk.stem import SnowballStemmer\n",
    "from nltk.tokenize import word_tokenize\n",
    "from nltk.stem import WordNetLemmatizer\n",
    "\n",
    "stemmer_german = SnowballStemmer('german')"
   ]
  },
  {
   "cell_type": "markdown",
   "metadata": {},
   "source": [
    "### MongDB import"
   ]
  },
  {
   "cell_type": "code",
   "execution_count": 8,
   "metadata": {},
   "outputs": [],
   "source": [
    "from pymongo import MongoClient\n",
    "import json\n",
    "from bson import json_util"
   ]
  },
  {
   "cell_type": "markdown",
   "metadata": {},
   "source": [
    "### Stemmin Test German"
   ]
  },
  {
   "cell_type": "code",
   "execution_count": 9,
   "metadata": {},
   "outputs": [
    {
     "name": "stdout",
     "output_type": "stream",
     "text": [
      "arbeit\n",
      "arbeit\n",
      "gearbeitet\n"
     ]
    }
   ],
   "source": [
    "print (stemmer_german.stem('Arbeiter')) \n",
    "print (stemmer_german.stem('arbeiten')) \n",
    "print (stemmer_german.stem('gearbeitet'))"
   ]
  },
  {
   "cell_type": "markdown",
   "metadata": {},
   "source": [
    "### Lemmatization Test English"
   ]
  },
  {
   "cell_type": "code",
   "execution_count": 12,
   "metadata": {},
   "outputs": [
    {
     "name": "stdout",
     "output_type": "stream",
     "text": [
      "is\n",
      "are\n",
      "be\n",
      "be\n",
      "working\n",
      "work\n"
     ]
    }
   ],
   "source": [
    "lemmatizer = WordNetLemmatizer()\n",
    "# Lemmatisation depends upon the Part of Speech of the word\n",
    "# lemmatize(word, pos=NOUN)\n",
    "# the default part of speech (pos) for lemmatize method is \"n\", i.e. noun\n",
    "# we can specify part of speech (pos) value like below:\n",
    "# noun = n, verb = v, adjective = a, adverb = r\n",
    " \n",
    "print (lemmatizer.lemmatize('is')) # output: is\n",
    "print (lemmatizer.lemmatize('are')) # output: are\n",
    " \n",
    "print (lemmatizer.lemmatize('is', pos='v')) # output: be\n",
    "print (lemmatizer.lemmatize('are', pos='v')) # output: be\n",
    " \n",
    "print (lemmatizer.lemmatize('working', pos='n')) # output: working\n",
    "print (lemmatizer.lemmatize('working', pos='v')) # output: work"
   ]
  },
  {
   "cell_type": "markdown",
   "metadata": {},
   "source": [
    "### Lemmatization Test German"
   ]
  },
  {
   "cell_type": "code",
   "execution_count": null,
   "metadata": {},
   "outputs": [],
   "source": []
  },
  {
   "cell_type": "markdown",
   "metadata": {},
   "source": [
    "### Tokenization Test English"
   ]
  },
  {
   "cell_type": "code",
   "execution_count": 13,
   "metadata": {},
   "outputs": [
    {
     "name": "stdout",
     "output_type": "stream",
     "text": [
      "['a', 'quick', 'brown', 'fox', 'jumps', 'over', 'the', 'lazy', 'dog', '.']\n"
     ]
    }
   ],
   "source": [
    "text = \"A quick brown fox jumps over the lazy dog.\"\n",
    " \n",
    "# Normalize text\n",
    "# NLTK considers capital letters and small letters differently.\n",
    "# For example, Fox and fox are considered as two different words.\n",
    "# Hence, we convert all letters of our text into lowercase.\n",
    "text = text.lower()\n",
    " \n",
    "# tokenize text \n",
    "words = word_tokenize(text)\n",
    "print (words)\n",
    "\n"
   ]
  },
  {
   "cell_type": "markdown",
   "metadata": {},
   "source": [
    "### Tokenization Test German"
   ]
  },
  {
   "cell_type": "code",
   "execution_count": 18,
   "metadata": {},
   "outputs": [
    {
     "name": "stdout",
     "output_type": "stream",
     "text": [
      "['Eine', 'neue', 'Allee', 'wird', 'in', 'Berlin', 'Köpenick', 'geplant', '.', 'Köpenick', 'wird', 'sein', 'ganzes', 'Straßen', 'Netz', 'erneuern', '.', 'Köpenick', 'macht', 'sich', 'für', 'Fahrradfahrer', 'stark', '.']\n"
     ]
    }
   ],
   "source": [
    "text = \"Eine neue Allee wird in Berlin Köpenick geplant. Köpenick wird sein ganzes Straßen Netz erneuern. Köpenick macht sich für Fahrradfahrer stark.\"\n",
    " \n",
    "# Normalize text\n",
    "# NLTK considers capital letters and small letters differently.\n",
    "# For example, Fox and fox are considered as two different words.\n",
    "# Hence, we convert all letters of our text into lowercase.\n",
    "#text = text.lower()\n",
    " \n",
    "# tokenize text \n",
    "words = word_tokenize(text)\n",
    "print (words)\n",
    "\n"
   ]
  },
  {
   "cell_type": "markdown",
   "metadata": {},
   "source": [
    "### Reverse the Tokenization"
   ]
  },
  {
   "cell_type": "code",
   "execution_count": 19,
   "metadata": {},
   "outputs": [
    {
     "name": "stdout",
     "output_type": "stream",
     "text": [
      "<Text: Eine neue Allee wird in Berlin Köpenick geplant...>\n"
     ]
    }
   ],
   "source": [
    "text = nltk.Text(words)\n",
    "print (text)"
   ]
  },
  {
   "cell_type": "markdown",
   "metadata": {},
   "source": [
    "### Übereinstimmungen in Blöcken !!!!"
   ]
  },
  {
   "cell_type": "code",
   "execution_count": 20,
   "metadata": {},
   "outputs": [
    {
     "name": "stdout",
     "output_type": "stream",
     "text": [
      "Displaying 3 of 3 matches:\n",
      "Eine neue Allee wird in Berlin Köpenick geplant . Köpenick wird sein ganze\n",
      " wird in Berlin Köpenick geplant . Köpenick wird sein ganzes Straßen Netz erne\n",
      "ein ganzes Straßen Netz erneuern . Köpenick macht sich für Fahrradfahrer stark\n",
      "None\n"
     ]
    }
   ],
   "source": [
    "concordance = text.concordance('Köpenick')\n",
    "print (concordance)"
   ]
  },
  {
   "cell_type": "code",
   "execution_count": null,
   "metadata": {},
   "outputs": [],
   "source": []
  }
 ],
 "metadata": {
  "kernelspec": {
   "display_name": "Python 3",
   "language": "python",
   "name": "python3"
  },
  "language_info": {
   "codemirror_mode": {
    "name": "ipython",
    "version": 3
   },
   "file_extension": ".py",
   "mimetype": "text/x-python",
   "name": "python",
   "nbconvert_exporter": "python",
   "pygments_lexer": "ipython3",
   "version": "3.6.4"
  }
 },
 "nbformat": 4,
 "nbformat_minor": 2
}
